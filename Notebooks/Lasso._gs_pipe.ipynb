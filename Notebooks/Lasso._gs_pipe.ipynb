{
 "cells": [
  {
   "cell_type": "markdown",
   "metadata": {},
   "source": [
    "# Lasso Regression Model"
   ]
  },
  {
   "cell_type": "markdown",
   "metadata": {},
   "source": [
    "# DataFrame Imports"
   ]
  },
  {
   "cell_type": "markdown",
   "metadata": {},
   "source": [
    "This notebook contains a basic Lasso regression with GridSearch and a pipeline with parameters. \n",
    "\n",
    "You will see the data cleaning, exploratory data analysis (EDA), preporcessing, modeling, and lastly evulation to submit to the Kaggle Competition. \n",
    "\n",
    "*Lasso Regression will be referred to as 'lasso' or 'lass' throughout the text"
   ]
  },
  {
   "cell_type": "code",
   "execution_count": 1,
   "metadata": {},
   "outputs": [],
   "source": [
    "#First import the Libraries & tools needed to comeplete the Lasso Regression\n",
    "\n",
    "import pandas as pd\n",
    "import numpy as np\n",
    "import matplotlib.pyplot as plt\n",
    "import seaborn as sns\n",
    "\n",
    "from sklearn.linear_model import LinearRegression\n",
    "from sklearn.linear_model import Ridge, Lasso, ElasticNet\n",
    "from sklearn.metrics import mean_squared_error, mean_absolute_error, r2_score\n",
    "from sklearn.model_selection import train_test_split, GridSearchCV, cross_val_score\n",
    "from sklearn.preprocessing import OneHotEncoder, StandardScaler, PolynomialFeatures\n",
    "from sklearn.compose import make_column_transformer\n",
    "from sklearn.pipeline import Pipeline, make_pipeline\n",
    "from sklearn.neighbors import KNeighborsClassifier\n",
    "from sklearn.feature_selection import RFE\n",
    "from sklearn.impute import SimpleImputer\n"
   ]
  },
  {
   "cell_type": "code",
   "execution_count": 2,
   "metadata": {},
   "outputs": [
    {
     "data": {
      "text/html": [
       "<div>\n",
       "<style scoped>\n",
       "    .dataframe tbody tr th:only-of-type {\n",
       "        vertical-align: middle;\n",
       "    }\n",
       "\n",
       "    .dataframe tbody tr th {\n",
       "        vertical-align: top;\n",
       "    }\n",
       "\n",
       "    .dataframe thead th {\n",
       "        text-align: right;\n",
       "    }\n",
       "</style>\n",
       "<table border=\"1\" class=\"dataframe\">\n",
       "  <thead>\n",
       "    <tr style=\"text-align: right;\">\n",
       "      <th></th>\n",
       "      <th>Id</th>\n",
       "      <th>PID</th>\n",
       "      <th>MS SubClass</th>\n",
       "      <th>MS Zoning</th>\n",
       "      <th>Lot Frontage</th>\n",
       "      <th>Lot Area</th>\n",
       "      <th>Street</th>\n",
       "      <th>Alley</th>\n",
       "      <th>Lot Shape</th>\n",
       "      <th>Land Contour</th>\n",
       "      <th>...</th>\n",
       "      <th>Screen Porch</th>\n",
       "      <th>Pool Area</th>\n",
       "      <th>Pool QC</th>\n",
       "      <th>Fence</th>\n",
       "      <th>Misc Feature</th>\n",
       "      <th>Misc Val</th>\n",
       "      <th>Mo Sold</th>\n",
       "      <th>Yr Sold</th>\n",
       "      <th>Sale Type</th>\n",
       "      <th>SalePrice</th>\n",
       "    </tr>\n",
       "  </thead>\n",
       "  <tbody>\n",
       "    <tr>\n",
       "      <th>0</th>\n",
       "      <td>109</td>\n",
       "      <td>533352170</td>\n",
       "      <td>60</td>\n",
       "      <td>RL</td>\n",
       "      <td>NaN</td>\n",
       "      <td>13517</td>\n",
       "      <td>Pave</td>\n",
       "      <td>NaN</td>\n",
       "      <td>IR1</td>\n",
       "      <td>Lvl</td>\n",
       "      <td>...</td>\n",
       "      <td>0</td>\n",
       "      <td>0</td>\n",
       "      <td>NaN</td>\n",
       "      <td>NaN</td>\n",
       "      <td>NaN</td>\n",
       "      <td>0</td>\n",
       "      <td>3</td>\n",
       "      <td>2010</td>\n",
       "      <td>WD</td>\n",
       "      <td>130500</td>\n",
       "    </tr>\n",
       "    <tr>\n",
       "      <th>1</th>\n",
       "      <td>544</td>\n",
       "      <td>531379050</td>\n",
       "      <td>60</td>\n",
       "      <td>RL</td>\n",
       "      <td>43.0</td>\n",
       "      <td>11492</td>\n",
       "      <td>Pave</td>\n",
       "      <td>NaN</td>\n",
       "      <td>IR1</td>\n",
       "      <td>Lvl</td>\n",
       "      <td>...</td>\n",
       "      <td>0</td>\n",
       "      <td>0</td>\n",
       "      <td>NaN</td>\n",
       "      <td>NaN</td>\n",
       "      <td>NaN</td>\n",
       "      <td>0</td>\n",
       "      <td>4</td>\n",
       "      <td>2009</td>\n",
       "      <td>WD</td>\n",
       "      <td>220000</td>\n",
       "    </tr>\n",
       "    <tr>\n",
       "      <th>2</th>\n",
       "      <td>153</td>\n",
       "      <td>535304180</td>\n",
       "      <td>20</td>\n",
       "      <td>RL</td>\n",
       "      <td>68.0</td>\n",
       "      <td>7922</td>\n",
       "      <td>Pave</td>\n",
       "      <td>NaN</td>\n",
       "      <td>Reg</td>\n",
       "      <td>Lvl</td>\n",
       "      <td>...</td>\n",
       "      <td>0</td>\n",
       "      <td>0</td>\n",
       "      <td>NaN</td>\n",
       "      <td>NaN</td>\n",
       "      <td>NaN</td>\n",
       "      <td>0</td>\n",
       "      <td>1</td>\n",
       "      <td>2010</td>\n",
       "      <td>WD</td>\n",
       "      <td>109000</td>\n",
       "    </tr>\n",
       "    <tr>\n",
       "      <th>3</th>\n",
       "      <td>318</td>\n",
       "      <td>916386060</td>\n",
       "      <td>60</td>\n",
       "      <td>RL</td>\n",
       "      <td>73.0</td>\n",
       "      <td>9802</td>\n",
       "      <td>Pave</td>\n",
       "      <td>NaN</td>\n",
       "      <td>Reg</td>\n",
       "      <td>Lvl</td>\n",
       "      <td>...</td>\n",
       "      <td>0</td>\n",
       "      <td>0</td>\n",
       "      <td>NaN</td>\n",
       "      <td>NaN</td>\n",
       "      <td>NaN</td>\n",
       "      <td>0</td>\n",
       "      <td>4</td>\n",
       "      <td>2010</td>\n",
       "      <td>WD</td>\n",
       "      <td>174000</td>\n",
       "    </tr>\n",
       "    <tr>\n",
       "      <th>4</th>\n",
       "      <td>255</td>\n",
       "      <td>906425045</td>\n",
       "      <td>50</td>\n",
       "      <td>RL</td>\n",
       "      <td>82.0</td>\n",
       "      <td>14235</td>\n",
       "      <td>Pave</td>\n",
       "      <td>NaN</td>\n",
       "      <td>IR1</td>\n",
       "      <td>Lvl</td>\n",
       "      <td>...</td>\n",
       "      <td>0</td>\n",
       "      <td>0</td>\n",
       "      <td>NaN</td>\n",
       "      <td>NaN</td>\n",
       "      <td>NaN</td>\n",
       "      <td>0</td>\n",
       "      <td>3</td>\n",
       "      <td>2010</td>\n",
       "      <td>WD</td>\n",
       "      <td>138500</td>\n",
       "    </tr>\n",
       "  </tbody>\n",
       "</table>\n",
       "<p>5 rows × 81 columns</p>\n",
       "</div>"
      ],
      "text/plain": [
       "    Id        PID  MS SubClass MS Zoning  Lot Frontage  Lot Area Street Alley  \\\n",
       "0  109  533352170           60        RL           NaN     13517   Pave   NaN   \n",
       "1  544  531379050           60        RL          43.0     11492   Pave   NaN   \n",
       "2  153  535304180           20        RL          68.0      7922   Pave   NaN   \n",
       "3  318  916386060           60        RL          73.0      9802   Pave   NaN   \n",
       "4  255  906425045           50        RL          82.0     14235   Pave   NaN   \n",
       "\n",
       "  Lot Shape Land Contour  ... Screen Porch Pool Area Pool QC Fence  \\\n",
       "0       IR1          Lvl  ...            0         0     NaN   NaN   \n",
       "1       IR1          Lvl  ...            0         0     NaN   NaN   \n",
       "2       Reg          Lvl  ...            0         0     NaN   NaN   \n",
       "3       Reg          Lvl  ...            0         0     NaN   NaN   \n",
       "4       IR1          Lvl  ...            0         0     NaN   NaN   \n",
       "\n",
       "  Misc Feature Misc Val Mo Sold Yr Sold  Sale Type  SalePrice  \n",
       "0          NaN        0       3    2010        WD      130500  \n",
       "1          NaN        0       4    2009        WD      220000  \n",
       "2          NaN        0       1    2010        WD      109000  \n",
       "3          NaN        0       4    2010        WD      174000  \n",
       "4          NaN        0       3    2010        WD      138500  \n",
       "\n",
       "[5 rows x 81 columns]"
      ]
     },
     "execution_count": 2,
     "metadata": {},
     "output_type": "execute_result"
    }
   ],
   "source": [
    "#Import the TRAINING data\n",
    "#Using .head() to see what columns exist and the values with inside\n",
    "\n",
    "training = pd.read_csv('/Users/khalildavis/Desktop/General Assembly Work/Submissions/Projects/Project 2 Final Submits/Data Sets/train.csv')\n",
    "training.head()"
   ]
  },
  {
   "cell_type": "code",
   "execution_count": 3,
   "metadata": {},
   "outputs": [
    {
     "data": {
      "text/html": [
       "<div>\n",
       "<style scoped>\n",
       "    .dataframe tbody tr th:only-of-type {\n",
       "        vertical-align: middle;\n",
       "    }\n",
       "\n",
       "    .dataframe tbody tr th {\n",
       "        vertical-align: top;\n",
       "    }\n",
       "\n",
       "    .dataframe thead th {\n",
       "        text-align: right;\n",
       "    }\n",
       "</style>\n",
       "<table border=\"1\" class=\"dataframe\">\n",
       "  <thead>\n",
       "    <tr style=\"text-align: right;\">\n",
       "      <th></th>\n",
       "      <th>Id</th>\n",
       "      <th>PID</th>\n",
       "      <th>MS SubClass</th>\n",
       "      <th>MS Zoning</th>\n",
       "      <th>Lot Frontage</th>\n",
       "      <th>Lot Area</th>\n",
       "      <th>Street</th>\n",
       "      <th>Alley</th>\n",
       "      <th>Lot Shape</th>\n",
       "      <th>Land Contour</th>\n",
       "      <th>...</th>\n",
       "      <th>3Ssn Porch</th>\n",
       "      <th>Screen Porch</th>\n",
       "      <th>Pool Area</th>\n",
       "      <th>Pool QC</th>\n",
       "      <th>Fence</th>\n",
       "      <th>Misc Feature</th>\n",
       "      <th>Misc Val</th>\n",
       "      <th>Mo Sold</th>\n",
       "      <th>Yr Sold</th>\n",
       "      <th>Sale Type</th>\n",
       "    </tr>\n",
       "  </thead>\n",
       "  <tbody>\n",
       "    <tr>\n",
       "      <th>0</th>\n",
       "      <td>2658</td>\n",
       "      <td>902301120</td>\n",
       "      <td>190</td>\n",
       "      <td>RM</td>\n",
       "      <td>69.0</td>\n",
       "      <td>9142</td>\n",
       "      <td>Pave</td>\n",
       "      <td>Grvl</td>\n",
       "      <td>Reg</td>\n",
       "      <td>Lvl</td>\n",
       "      <td>...</td>\n",
       "      <td>0</td>\n",
       "      <td>0</td>\n",
       "      <td>0</td>\n",
       "      <td>NaN</td>\n",
       "      <td>NaN</td>\n",
       "      <td>NaN</td>\n",
       "      <td>0</td>\n",
       "      <td>4</td>\n",
       "      <td>2006</td>\n",
       "      <td>WD</td>\n",
       "    </tr>\n",
       "    <tr>\n",
       "      <th>1</th>\n",
       "      <td>2718</td>\n",
       "      <td>905108090</td>\n",
       "      <td>90</td>\n",
       "      <td>RL</td>\n",
       "      <td>NaN</td>\n",
       "      <td>9662</td>\n",
       "      <td>Pave</td>\n",
       "      <td>NaN</td>\n",
       "      <td>IR1</td>\n",
       "      <td>Lvl</td>\n",
       "      <td>...</td>\n",
       "      <td>0</td>\n",
       "      <td>0</td>\n",
       "      <td>0</td>\n",
       "      <td>NaN</td>\n",
       "      <td>NaN</td>\n",
       "      <td>NaN</td>\n",
       "      <td>0</td>\n",
       "      <td>8</td>\n",
       "      <td>2006</td>\n",
       "      <td>WD</td>\n",
       "    </tr>\n",
       "    <tr>\n",
       "      <th>2</th>\n",
       "      <td>2414</td>\n",
       "      <td>528218130</td>\n",
       "      <td>60</td>\n",
       "      <td>RL</td>\n",
       "      <td>58.0</td>\n",
       "      <td>17104</td>\n",
       "      <td>Pave</td>\n",
       "      <td>NaN</td>\n",
       "      <td>IR1</td>\n",
       "      <td>Lvl</td>\n",
       "      <td>...</td>\n",
       "      <td>0</td>\n",
       "      <td>0</td>\n",
       "      <td>0</td>\n",
       "      <td>NaN</td>\n",
       "      <td>NaN</td>\n",
       "      <td>NaN</td>\n",
       "      <td>0</td>\n",
       "      <td>9</td>\n",
       "      <td>2006</td>\n",
       "      <td>New</td>\n",
       "    </tr>\n",
       "    <tr>\n",
       "      <th>3</th>\n",
       "      <td>1989</td>\n",
       "      <td>902207150</td>\n",
       "      <td>30</td>\n",
       "      <td>RM</td>\n",
       "      <td>60.0</td>\n",
       "      <td>8520</td>\n",
       "      <td>Pave</td>\n",
       "      <td>NaN</td>\n",
       "      <td>Reg</td>\n",
       "      <td>Lvl</td>\n",
       "      <td>...</td>\n",
       "      <td>0</td>\n",
       "      <td>0</td>\n",
       "      <td>0</td>\n",
       "      <td>NaN</td>\n",
       "      <td>NaN</td>\n",
       "      <td>NaN</td>\n",
       "      <td>0</td>\n",
       "      <td>7</td>\n",
       "      <td>2007</td>\n",
       "      <td>WD</td>\n",
       "    </tr>\n",
       "    <tr>\n",
       "      <th>4</th>\n",
       "      <td>625</td>\n",
       "      <td>535105100</td>\n",
       "      <td>20</td>\n",
       "      <td>RL</td>\n",
       "      <td>NaN</td>\n",
       "      <td>9500</td>\n",
       "      <td>Pave</td>\n",
       "      <td>NaN</td>\n",
       "      <td>IR1</td>\n",
       "      <td>Lvl</td>\n",
       "      <td>...</td>\n",
       "      <td>0</td>\n",
       "      <td>185</td>\n",
       "      <td>0</td>\n",
       "      <td>NaN</td>\n",
       "      <td>NaN</td>\n",
       "      <td>NaN</td>\n",
       "      <td>0</td>\n",
       "      <td>7</td>\n",
       "      <td>2009</td>\n",
       "      <td>WD</td>\n",
       "    </tr>\n",
       "  </tbody>\n",
       "</table>\n",
       "<p>5 rows × 80 columns</p>\n",
       "</div>"
      ],
      "text/plain": [
       "     Id        PID  MS SubClass MS Zoning  Lot Frontage  Lot Area Street  \\\n",
       "0  2658  902301120          190        RM          69.0      9142   Pave   \n",
       "1  2718  905108090           90        RL           NaN      9662   Pave   \n",
       "2  2414  528218130           60        RL          58.0     17104   Pave   \n",
       "3  1989  902207150           30        RM          60.0      8520   Pave   \n",
       "4   625  535105100           20        RL           NaN      9500   Pave   \n",
       "\n",
       "  Alley Lot Shape Land Contour  ... 3Ssn Porch Screen Porch Pool Area Pool QC  \\\n",
       "0  Grvl       Reg          Lvl  ...          0            0         0     NaN   \n",
       "1   NaN       IR1          Lvl  ...          0            0         0     NaN   \n",
       "2   NaN       IR1          Lvl  ...          0            0         0     NaN   \n",
       "3   NaN       Reg          Lvl  ...          0            0         0     NaN   \n",
       "4   NaN       IR1          Lvl  ...          0          185         0     NaN   \n",
       "\n",
       "  Fence Misc Feature Misc Val Mo Sold  Yr Sold  Sale Type  \n",
       "0   NaN          NaN        0       4     2006        WD   \n",
       "1   NaN          NaN        0       8     2006        WD   \n",
       "2   NaN          NaN        0       9     2006        New  \n",
       "3   NaN          NaN        0       7     2007        WD   \n",
       "4   NaN          NaN        0       7     2009        WD   \n",
       "\n",
       "[5 rows x 80 columns]"
      ]
     },
     "execution_count": 3,
     "metadata": {},
     "output_type": "execute_result"
    }
   ],
   "source": [
    "# Import the TEST Data that is given\n",
    "testing = pd.read_csv('/Users/khalildavis/Desktop/General Assembly Work/Submissions/Projects/Project 2 Final Submits/Data Sets/test.csv')\n",
    "testing.head()"
   ]
  },
  {
   "cell_type": "code",
   "execution_count": 4,
   "metadata": {},
   "outputs": [
    {
     "data": {
      "text/html": [
       "<div>\n",
       "<style scoped>\n",
       "    .dataframe tbody tr th:only-of-type {\n",
       "        vertical-align: middle;\n",
       "    }\n",
       "\n",
       "    .dataframe tbody tr th {\n",
       "        vertical-align: top;\n",
       "    }\n",
       "\n",
       "    .dataframe thead th {\n",
       "        text-align: right;\n",
       "    }\n",
       "</style>\n",
       "<table border=\"1\" class=\"dataframe\">\n",
       "  <thead>\n",
       "    <tr style=\"text-align: right;\">\n",
       "      <th></th>\n",
       "      <th>Id</th>\n",
       "      <th>SalePrice</th>\n",
       "    </tr>\n",
       "  </thead>\n",
       "  <tbody>\n",
       "    <tr>\n",
       "      <th>0</th>\n",
       "      <td>2</td>\n",
       "      <td>181479.1217</td>\n",
       "    </tr>\n",
       "    <tr>\n",
       "      <th>1</th>\n",
       "      <td>4</td>\n",
       "      <td>181479.1217</td>\n",
       "    </tr>\n",
       "  </tbody>\n",
       "</table>\n",
       "</div>"
      ],
      "text/plain": [
       "   Id    SalePrice\n",
       "0   2  181479.1217\n",
       "1   4  181479.1217"
      ]
     },
     "execution_count": 4,
     "metadata": {},
     "output_type": "execute_result"
    }
   ],
   "source": [
    "#The is to import the sample_sub data set.\n",
    "\n",
    "sample_sub = pd.read_csv('/Users/khalildavis/Desktop/General Assembly Work/Submissions/Projects/Project 2 Final Submits/Data Sets/sample_sub_reg_origin.csv')\n",
    "sample_sub.head(2)"
   ]
  },
  {
   "cell_type": "markdown",
   "metadata": {},
   "source": [
    "# EDA"
   ]
  },
  {
   "cell_type": "code",
   "execution_count": 5,
   "metadata": {},
   "outputs": [
    {
     "data": {
      "image/png": "[encoded data removed]",
      "text/plain": [
       "<Figure size 432x288 with 2 Axes>"
      ]
     },
     "metadata": {
      "needs_background": "light"
     },
     "output_type": "display_data"
    }
   ],
   "source": [
    "#See correlation model of the training set to help choose with features to try in the model\n",
    "sns.heatmap(training.corr());"
   ]
  },
  {
   "cell_type": "code",
   "execution_count": 6,
   "metadata": {},
   "outputs": [
    {
     "data": {
      "image/png": "[encoded data removed]",
      "text/plain": [
       "<Figure size 720x720 with 2 Axes>"
      ]
     },
     "metadata": {
      "needs_background": "light"
     },
     "output_type": "display_data"
    }
   ],
   "source": [
    "#Create a correlation Matrix for the features, to have a better view.\n",
    "\n",
    "mask = np.zeros_like(training.corr())\n",
    "mask[np.triu_indices_from(mask)] = True\n",
    "\n",
    "plt.figure(figsize=(10, 10))\n",
    "sns.heatmap(\n",
    "    training.corr(),\n",
    "    cmap='coolwarm',\n",
    "    annot=False,\n",
    "    mask=mask,\n",
    "    vmin=-1.,\n",
    "    vmax=1.,\n",
    "    linewidths=.1,\n",
    "    center=0\n",
    ")\n",
    "\n",
    "plt.title('Correlation matrix'); "
   ]
  },
  {
   "cell_type": "markdown",
   "metadata": {},
   "source": [
    "Once I have choosen the features I would like to use, I start to prepare for the Train_Test_Split by stating my X and y."
   ]
  },
  {
   "cell_type": "code",
   "execution_count": 7,
   "metadata": {},
   "outputs": [],
   "source": [
    "X = training[['Lot Area','Overall Qual', 'BsmtFin SF 1', 'Bsmt Unf SF', 'Total Bsmt SF',\n",
    "'1st Flr SF', '2nd Flr SF', 'Gr Liv Area', 'Bsmt Full Bath',   \n",
    "'Full Bath', 'Half Bath', 'Bedroom AbvGr',  \n",
    "'TotRms AbvGrd', 'Fireplaces', 'Garage Cars', 'Garage Area', 'Wood Deck SF','Open Porch SF',         \n",
    "'Screen Porch'\n",
    "]]\n",
    "\n",
    "y = training['SalePrice'] "
   ]
  },
  {
   "cell_type": "code",
   "execution_count": 8,
   "metadata": {},
   "outputs": [],
   "source": [
    "#Performed 'tts' with random state to have continous numbers through out the models\n",
    "\n",
    "X_train, X_test, y_train, y_test = train_test_split(X, y, random_state=444)"
   ]
  },
  {
   "cell_type": "markdown",
   "metadata": {},
   "source": [
    "# Data Cleaning & Preprocessing"
   ]
  },
  {
   "cell_type": "markdown",
   "metadata": {},
   "source": [
    "To clean the data to use within the tts, I will be using Simple Imputer to help filling in missing data cells within the training and testing data sets. \n",
    "\n",
    "Since its a basic Lasso with GridSearch, I have choosen the strategy='mean' because majority of the features I am starting with a numeric. If the features were catergorical, I would have choosen strategy='most_frequent' aka the mode. "
   ]
  },
  {
   "cell_type": "code",
   "execution_count": 9,
   "metadata": {},
   "outputs": [],
   "source": [
    "#Imported SimpleImputer to fill missive values by 'mean'\n",
    "#Instantiating the Simpe Imputer\n",
    "\n",
    "si = SimpleImputer(strategy='mean')"
   ]
  },
  {
   "cell_type": "code",
   "execution_count": 10,
   "metadata": {},
   "outputs": [],
   "source": [
    "#Fit & transform Simple Imputer to the training data\n",
    "\n",
    "X_train_filled = si.fit_transform(X_train, y_train)"
   ]
  },
  {
   "cell_type": "code",
   "execution_count": 11,
   "metadata": {},
   "outputs": [],
   "source": [
    "#Create a new data frame to keep the changes that have been made with the training and testing set.\n",
    "\n",
    "X_train_filled = pd.DataFrame(X_train_filled, columns=X_train.columns)"
   ]
  },
  {
   "cell_type": "code",
   "execution_count": 12,
   "metadata": {},
   "outputs": [
    {
     "data": {
      "text/plain": [
       "Lot Area          0\n",
       "Overall Qual      0\n",
       "BsmtFin SF 1      0\n",
       "Bsmt Unf SF       0\n",
       "Total Bsmt SF     0\n",
       "1st Flr SF        0\n",
       "2nd Flr SF        0\n",
       "Gr Liv Area       0\n",
       "Bsmt Full Bath    0\n",
       "Full Bath         0\n",
       "Half Bath         0\n",
       "Bedroom AbvGr     0\n",
       "TotRms AbvGrd     0\n",
       "Fireplaces        0\n",
       "Garage Cars       0\n",
       "Garage Area       0\n",
       "Wood Deck SF      0\n",
       "Open Porch SF     0\n",
       "Screen Porch      0\n",
       "dtype: int64"
      ]
     },
     "execution_count": 12,
     "metadata": {},
     "output_type": "execute_result"
    }
   ],
   "source": [
    "#Checking to see all rows and columns are filled\n",
    "\n",
    "X_train_filled.isna().sum()"
   ]
  },
  {
   "cell_type": "code",
   "execution_count": 13,
   "metadata": {},
   "outputs": [],
   "source": [
    "#Only transform the testing set\n",
    "\n",
    "X_test_filled = si.transform(X_test)"
   ]
  },
  {
   "cell_type": "markdown",
   "metadata": {},
   "source": [
    "The use of Lasso for a regression model is to for one help with feature selection by eliminating features that are useless and redundant. It also helps with minimizing errors to the point of zero by using parameters as a restraint.\n",
    "I am starting with such a low alpha because to minimize the sum of square of coefficients and will increase as the parameters or features change."
   ]
  },
  {
   "cell_type": "code",
   "execution_count": 14,
   "metadata": {},
   "outputs": [],
   "source": [
    "#Instantating the Lasso model with an alpha of .01 to start with\n",
    "\n",
    "lasso = Lasso(alpha=.01)\n"
   ]
  },
  {
   "cell_type": "code",
   "execution_count": 15,
   "metadata": {},
   "outputs": [],
   "source": [
    "#This is great to follow my steps with the pipe and gridsearch.\n",
    "\n",
    "from sklearn import set_config\n",
    "set_config(display='diagram')"
   ]
  },
  {
   "cell_type": "code",
   "execution_count": 16,
   "metadata": {},
   "outputs": [],
   "source": [
    "#Making a pipeline to scale the data while creating polynomial features\n",
    "\n",
    "pipe2 = make_pipeline(\n",
    "PolynomialFeatures(),\n",
    "StandardScaler(),\n",
    "Lasso(),\n",
    "\n",
    ")"
   ]
  },
  {
   "cell_type": "markdown",
   "metadata": {},
   "source": [
    "When it comes to Lasso you must set parameters to help determine the coefficients. Lastly, using an range of alphas that the model can iterate through to determine what are the best features and parameters to have a succesful model"
   ]
  },
  {
   "cell_type": "code",
   "execution_count": 17,
   "metadata": {},
   "outputs": [],
   "source": [
    "\n",
    "params2 = {\n",
    "'polynomialfeatures__interaction_only': [True, False],\n",
    "'lasso__alpha': [.01,0.1, 1, 10, 100]\n",
    "\n",
    "}"
   ]
  },
  {
   "cell_type": "code",
   "execution_count": 18,
   "metadata": {},
   "outputs": [],
   "source": [
    "#Decided to add GridSearCV to really have the best chance of creating an efficient model\n",
    "\n",
    "gs2 = GridSearchCV(pipe2, params2, n_jobs=-1)"
   ]
  },
  {
   "cell_type": "code",
   "execution_count": 19,
   "metadata": {},
   "outputs": [
    {
     "name": "stderr",
     "output_type": "stream",
     "text": [
      "/opt/anaconda3/lib/python3.9/site-packages/sklearn/linear_model/_coordinate_descent.py:647: ConvergenceWarning: Objective did not converge. You might want to increase the number of iterations, check the scale of the features or consider increasing regularisation. Duality gap: 3.077e+11, tolerance: 7.897e+08\n",
      "  model = cd_fast.enet_coordinate_descent(\n",
      "/opt/anaconda3/lib/python3.9/site-packages/sklearn/linear_model/_coordinate_descent.py:647: ConvergenceWarning: Objective did not converge. You might want to increase the number of iterations, check the scale of the features or consider increasing regularisation. Duality gap: 2.916e+11, tolerance: 7.934e+08\n",
      "  model = cd_fast.enet_coordinate_descent(\n",
      "/opt/anaconda3/lib/python3.9/site-packages/sklearn/linear_model/_coordinate_descent.py:647: ConvergenceWarning: Objective did not converge. You might want to increase the number of iterations, check the scale of the features or consider increasing regularisation. Duality gap: 3.016e+11, tolerance: 7.521e+08\n",
      "  model = cd_fast.enet_coordinate_descent(\n",
      "/opt/anaconda3/lib/python3.9/site-packages/sklearn/linear_model/_coordinate_descent.py:647: ConvergenceWarning: Objective did not converge. You might want to increase the number of iterations, check the scale of the features or consider increasing regularisation. Duality gap: 2.726e+11, tolerance: 7.635e+08\n",
      "  model = cd_fast.enet_coordinate_descent(\n",
      "/opt/anaconda3/lib/python3.9/site-packages/sklearn/linear_model/_coordinate_descent.py:647: ConvergenceWarning: Objective did not converge. You might want to increase the number of iterations, check the scale of the features or consider increasing regularisation. Duality gap: 3.030e+11, tolerance: 7.972e+08\n",
      "  model = cd_fast.enet_coordinate_descent(\n",
      "/opt/anaconda3/lib/python3.9/site-packages/sklearn/linear_model/_coordinate_descent.py:647: ConvergenceWarning: Objective did not converge. You might want to increase the number of iterations, check the scale of the features or consider increasing regularisation. Duality gap: 2.829e+11, tolerance: 7.521e+08\n",
      "  model = cd_fast.enet_coordinate_descent(\n",
      "/opt/anaconda3/lib/python3.9/site-packages/sklearn/linear_model/_coordinate_descent.py:647: ConvergenceWarning: Objective did not converge. You might want to increase the number of iterations, check the scale of the features or consider increasing regularisation. Duality gap: 2.799e+11, tolerance: 7.934e+08\n",
      "  model = cd_fast.enet_coordinate_descent(\n",
      "/opt/anaconda3/lib/python3.9/site-packages/sklearn/linear_model/_coordinate_descent.py:647: ConvergenceWarning: Objective did not converge. You might want to increase the number of iterations, check the scale of the features or consider increasing regularisation. Duality gap: 2.922e+11, tolerance: 7.897e+08\n",
      "  model = cd_fast.enet_coordinate_descent(\n",
      "/opt/anaconda3/lib/python3.9/site-packages/sklearn/linear_model/_coordinate_descent.py:647: ConvergenceWarning: Objective did not converge. You might want to increase the number of iterations, check the scale of the features or consider increasing regularisation. Duality gap: 3.001e+11, tolerance: 7.521e+08\n",
      "  model = cd_fast.enet_coordinate_descent(\n",
      "/opt/anaconda3/lib/python3.9/site-packages/sklearn/linear_model/_coordinate_descent.py:647: ConvergenceWarning: Objective did not converge. You might want to increase the number of iterations, check the scale of the features or consider increasing regularisation. Duality gap: 2.908e+11, tolerance: 7.972e+08\n",
      "  model = cd_fast.enet_coordinate_descent(\n",
      "/opt/anaconda3/lib/python3.9/site-packages/sklearn/linear_model/_coordinate_descent.py:647: ConvergenceWarning: Objective did not converge. You might want to increase the number of iterations, check the scale of the features or consider increasing regularisation. Duality gap: 2.650e+11, tolerance: 7.635e+08\n",
      "  model = cd_fast.enet_coordinate_descent(\n",
      "/opt/anaconda3/lib/python3.9/site-packages/sklearn/linear_model/_coordinate_descent.py:647: ConvergenceWarning: Objective did not converge. You might want to increase the number of iterations, check the scale of the features or consider increasing regularisation. Duality gap: 3.059e+11, tolerance: 7.897e+08\n",
      "  model = cd_fast.enet_coordinate_descent(\n",
      "/opt/anaconda3/lib/python3.9/site-packages/sklearn/linear_model/_coordinate_descent.py:647: ConvergenceWarning: Objective did not converge. You might want to increase the number of iterations, check the scale of the features or consider increasing regularisation. Duality gap: 2.901e+11, tolerance: 7.934e+08\n",
      "  model = cd_fast.enet_coordinate_descent(\n",
      "/opt/anaconda3/lib/python3.9/site-packages/sklearn/linear_model/_coordinate_descent.py:647: ConvergenceWarning: Objective did not converge. You might want to increase the number of iterations, check the scale of the features or consider increasing regularisation. Duality gap: 3.019e+11, tolerance: 7.972e+08\n",
      "  model = cd_fast.enet_coordinate_descent(\n",
      "/opt/anaconda3/lib/python3.9/site-packages/sklearn/linear_model/_coordinate_descent.py:647: ConvergenceWarning: Objective did not converge. You might want to increase the number of iterations, check the scale of the features or consider increasing regularisation. Duality gap: 2.705e+11, tolerance: 7.635e+08\n",
      "  model = cd_fast.enet_coordinate_descent(\n",
      "/opt/anaconda3/lib/python3.9/site-packages/sklearn/linear_model/_coordinate_descent.py:647: ConvergenceWarning: Objective did not converge. You might want to increase the number of iterations, check the scale of the features or consider increasing regularisation. Duality gap: 2.818e+11, tolerance: 7.521e+08\n",
      "  model = cd_fast.enet_coordinate_descent(\n",
      "/opt/anaconda3/lib/python3.9/site-packages/sklearn/linear_model/_coordinate_descent.py:647: ConvergenceWarning: Objective did not converge. You might want to increase the number of iterations, check the scale of the features or consider increasing regularisation. Duality gap: 2.911e+11, tolerance: 7.897e+08\n",
      "  model = cd_fast.enet_coordinate_descent(\n",
      "/opt/anaconda3/lib/python3.9/site-packages/sklearn/linear_model/_coordinate_descent.py:647: ConvergenceWarning: Objective did not converge. You might want to increase the number of iterations, check the scale of the features or consider increasing regularisation. Duality gap: 2.785e+11, tolerance: 7.934e+08\n",
      "  model = cd_fast.enet_coordinate_descent(\n",
      "/opt/anaconda3/lib/python3.9/site-packages/sklearn/linear_model/_coordinate_descent.py:647: ConvergenceWarning: Objective did not converge. You might want to increase the number of iterations, check the scale of the features or consider increasing regularisation. Duality gap: 2.893e+11, tolerance: 7.972e+08\n",
      "  model = cd_fast.enet_coordinate_descent(\n",
      "/opt/anaconda3/lib/python3.9/site-packages/sklearn/linear_model/_coordinate_descent.py:647: ConvergenceWarning: Objective did not converge. You might want to increase the number of iterations, check the scale of the features or consider increasing regularisation. Duality gap: 2.860e+11, tolerance: 7.521e+08\n",
      "  model = cd_fast.enet_coordinate_descent(\n",
      "/opt/anaconda3/lib/python3.9/site-packages/sklearn/linear_model/_coordinate_descent.py:647: ConvergenceWarning: Objective did not converge. You might want to increase the number of iterations, check the scale of the features or consider increasing regularisation. Duality gap: 2.632e+11, tolerance: 7.635e+08\n",
      "  model = cd_fast.enet_coordinate_descent(\n",
      "/opt/anaconda3/lib/python3.9/site-packages/sklearn/linear_model/_coordinate_descent.py:647: ConvergenceWarning: Objective did not converge. You might want to increase the number of iterations, check the scale of the features or consider increasing regularisation. Duality gap: 2.879e+11, tolerance: 7.897e+08\n",
      "  model = cd_fast.enet_coordinate_descent(\n",
      "/opt/anaconda3/lib/python3.9/site-packages/sklearn/linear_model/_coordinate_descent.py:647: ConvergenceWarning: Objective did not converge. You might want to increase the number of iterations, check the scale of the features or consider increasing regularisation. Duality gap: 2.752e+11, tolerance: 7.934e+08\n",
      "  model = cd_fast.enet_coordinate_descent(\n",
      "/opt/anaconda3/lib/python3.9/site-packages/sklearn/linear_model/_coordinate_descent.py:647: ConvergenceWarning: Objective did not converge. You might want to increase the number of iterations, check the scale of the features or consider increasing regularisation. Duality gap: 2.915e+11, tolerance: 7.972e+08\n",
      "  model = cd_fast.enet_coordinate_descent(\n",
      "/opt/anaconda3/lib/python3.9/site-packages/sklearn/linear_model/_coordinate_descent.py:647: ConvergenceWarning: Objective did not converge. You might want to increase the number of iterations, check the scale of the features or consider increasing regularisation. Duality gap: 2.503e+11, tolerance: 7.635e+08\n",
      "  model = cd_fast.enet_coordinate_descent(\n",
      "/opt/anaconda3/lib/python3.9/site-packages/sklearn/linear_model/_coordinate_descent.py:647: ConvergenceWarning: Objective did not converge. You might want to increase the number of iterations, check the scale of the features or consider increasing regularisation. Duality gap: 2.711e+11, tolerance: 7.521e+08\n",
      "  model = cd_fast.enet_coordinate_descent(\n",
      "/opt/anaconda3/lib/python3.9/site-packages/sklearn/linear_model/_coordinate_descent.py:647: ConvergenceWarning: Objective did not converge. You might want to increase the number of iterations, check the scale of the features or consider increasing regularisation. Duality gap: 2.805e+11, tolerance: 7.897e+08\n",
      "  model = cd_fast.enet_coordinate_descent(\n",
      "/opt/anaconda3/lib/python3.9/site-packages/sklearn/linear_model/_coordinate_descent.py:647: ConvergenceWarning: Objective did not converge. You might want to increase the number of iterations, check the scale of the features or consider increasing regularisation. Duality gap: 2.640e+11, tolerance: 7.934e+08\n",
      "  model = cd_fast.enet_coordinate_descent(\n",
      "/opt/anaconda3/lib/python3.9/site-packages/sklearn/linear_model/_coordinate_descent.py:647: ConvergenceWarning: Objective did not converge. You might want to increase the number of iterations, check the scale of the features or consider increasing regularisation. Duality gap: 1.516e+11, tolerance: 7.521e+08\n",
      "  model = cd_fast.enet_coordinate_descent(\n",
      "/opt/anaconda3/lib/python3.9/site-packages/sklearn/linear_model/_coordinate_descent.py:647: ConvergenceWarning: Objective did not converge. You might want to increase the number of iterations, check the scale of the features or consider increasing regularisation. Duality gap: 2.749e+11, tolerance: 7.972e+08\n",
      "  model = cd_fast.enet_coordinate_descent(\n",
      "/opt/anaconda3/lib/python3.9/site-packages/sklearn/linear_model/_coordinate_descent.py:647: ConvergenceWarning: Objective did not converge. You might want to increase the number of iterations, check the scale of the features or consider increasing regularisation. Duality gap: 2.463e+11, tolerance: 7.635e+08\n",
      "  model = cd_fast.enet_coordinate_descent(\n",
      "/opt/anaconda3/lib/python3.9/site-packages/sklearn/linear_model/_coordinate_descent.py:647: ConvergenceWarning: Objective did not converge. You might want to increase the number of iterations, check the scale of the features or consider increasing regularisation. Duality gap: 1.599e+11, tolerance: 7.897e+08\n",
      "  model = cd_fast.enet_coordinate_descent(\n",
      "/opt/anaconda3/lib/python3.9/site-packages/sklearn/linear_model/_coordinate_descent.py:647: ConvergenceWarning: Objective did not converge. You might want to increase the number of iterations, check the scale of the features or consider increasing regularisation. Duality gap: 1.385e+11, tolerance: 7.934e+08\n",
      "  model = cd_fast.enet_coordinate_descent(\n",
      "/opt/anaconda3/lib/python3.9/site-packages/sklearn/linear_model/_coordinate_descent.py:647: ConvergenceWarning: Objective did not converge. You might want to increase the number of iterations, check the scale of the features or consider increasing regularisation. Duality gap: 1.771e+11, tolerance: 7.972e+08\n",
      "  model = cd_fast.enet_coordinate_descent(\n",
      "/opt/anaconda3/lib/python3.9/site-packages/sklearn/linear_model/_coordinate_descent.py:647: ConvergenceWarning: Objective did not converge. You might want to increase the number of iterations, check the scale of the features or consider increasing regularisation. Duality gap: 1.076e+11, tolerance: 7.635e+08\n",
      "  model = cd_fast.enet_coordinate_descent(\n",
      "/opt/anaconda3/lib/python3.9/site-packages/sklearn/linear_model/_coordinate_descent.py:647: ConvergenceWarning: Objective did not converge. You might want to increase the number of iterations, check the scale of the features or consider increasing regularisation. Duality gap: 1.774e+11, tolerance: 7.521e+08\n",
      "  model = cd_fast.enet_coordinate_descent(\n",
      "/opt/anaconda3/lib/python3.9/site-packages/sklearn/linear_model/_coordinate_descent.py:647: ConvergenceWarning: Objective did not converge. You might want to increase the number of iterations, check the scale of the features or consider increasing regularisation. Duality gap: 1.681e+11, tolerance: 7.897e+08\n",
      "  model = cd_fast.enet_coordinate_descent(\n",
      "/opt/anaconda3/lib/python3.9/site-packages/sklearn/linear_model/_coordinate_descent.py:647: ConvergenceWarning: Objective did not converge. You might want to increase the number of iterations, check the scale of the features or consider increasing regularisation. Duality gap: 1.267e+11, tolerance: 7.934e+08\n",
      "  model = cd_fast.enet_coordinate_descent(\n",
      "/opt/anaconda3/lib/python3.9/site-packages/sklearn/linear_model/_coordinate_descent.py:647: ConvergenceWarning: Objective did not converge. You might want to increase the number of iterations, check the scale of the features or consider increasing regularisation. Duality gap: 1.612e+11, tolerance: 7.972e+08\n",
      "  model = cd_fast.enet_coordinate_descent(\n",
      "/opt/anaconda3/lib/python3.9/site-packages/sklearn/linear_model/_coordinate_descent.py:647: ConvergenceWarning: Objective did not converge. You might want to increase the number of iterations, check the scale of the features or consider increasing regularisation. Duality gap: 1.382e+11, tolerance: 7.635e+08\n",
      "  model = cd_fast.enet_coordinate_descent(\n",
      "/opt/anaconda3/lib/python3.9/site-packages/sklearn/linear_model/_coordinate_descent.py:647: ConvergenceWarning: Objective did not converge. You might want to increase the number of iterations, check the scale of the features or consider increasing regularisation. Duality gap: 1.097e+10, tolerance: 7.521e+08\n",
      "  model = cd_fast.enet_coordinate_descent(\n",
      "/opt/anaconda3/lib/python3.9/site-packages/sklearn/linear_model/_coordinate_descent.py:647: ConvergenceWarning: Objective did not converge. You might want to increase the number of iterations, check the scale of the features or consider increasing regularisation. Duality gap: 5.248e+09, tolerance: 7.897e+08\n",
      "  model = cd_fast.enet_coordinate_descent(\n",
      "/opt/anaconda3/lib/python3.9/site-packages/sklearn/linear_model/_coordinate_descent.py:647: ConvergenceWarning: Objective did not converge. You might want to increase the number of iterations, check the scale of the features or consider increasing regularisation. Duality gap: 6.122e+09, tolerance: 7.934e+08\n",
      "  model = cd_fast.enet_coordinate_descent(\n",
      "/opt/anaconda3/lib/python3.9/site-packages/sklearn/linear_model/_coordinate_descent.py:647: ConvergenceWarning: Objective did not converge. You might want to increase the number of iterations, check the scale of the features or consider increasing regularisation. Duality gap: 7.560e+09, tolerance: 7.972e+08\n",
      "  model = cd_fast.enet_coordinate_descent(\n",
      "/opt/anaconda3/lib/python3.9/site-packages/sklearn/linear_model/_coordinate_descent.py:647: ConvergenceWarning: Objective did not converge. You might want to increase the number of iterations, check the scale of the features or consider increasing regularisation. Duality gap: 3.660e+09, tolerance: 7.635e+08\n",
      "  model = cd_fast.enet_coordinate_descent(\n",
      "/opt/anaconda3/lib/python3.9/site-packages/sklearn/linear_model/_coordinate_descent.py:647: ConvergenceWarning: Objective did not converge. You might want to increase the number of iterations, check the scale of the features or consider increasing regularisation. Duality gap: 6.790e+09, tolerance: 7.521e+08\n",
      "  model = cd_fast.enet_coordinate_descent(\n",
      "/opt/anaconda3/lib/python3.9/site-packages/sklearn/linear_model/_coordinate_descent.py:647: ConvergenceWarning: Objective did not converge. You might want to increase the number of iterations, check the scale of the features or consider increasing regularisation. Duality gap: 7.487e+09, tolerance: 7.934e+08\n",
      "  model = cd_fast.enet_coordinate_descent(\n",
      "/opt/anaconda3/lib/python3.9/site-packages/sklearn/linear_model/_coordinate_descent.py:647: ConvergenceWarning: Objective did not converge. You might want to increase the number of iterations, check the scale of the features or consider increasing regularisation. Duality gap: 5.295e+09, tolerance: 7.897e+08\n",
      "  model = cd_fast.enet_coordinate_descent(\n",
      "/opt/anaconda3/lib/python3.9/site-packages/sklearn/linear_model/_coordinate_descent.py:647: ConvergenceWarning: Objective did not converge. You might want to increase the number of iterations, check the scale of the features or consider increasing regularisation. Duality gap: 5.429e+09, tolerance: 7.972e+08\n",
      "  model = cd_fast.enet_coordinate_descent(\n",
      "/opt/anaconda3/lib/python3.9/site-packages/sklearn/linear_model/_coordinate_descent.py:647: ConvergenceWarning: Objective did not converge. You might want to increase the number of iterations, check the scale of the features or consider increasing regularisation. Duality gap: 6.324e+09, tolerance: 7.635e+08\n",
      "  model = cd_fast.enet_coordinate_descent(\n",
      "/opt/anaconda3/lib/python3.9/site-packages/sklearn/linear_model/_coordinate_descent.py:647: ConvergenceWarning: Objective did not converge. You might want to increase the number of iterations, check the scale of the features or consider increasing regularisation. Duality gap: 7.975e+09, tolerance: 9.741e+08\n",
      "  model = cd_fast.enet_coordinate_descent(\n"
     ]
    },
    {
     "data": {
      "text/html": [
       "<style>#sk-eee3462d-131e-464d-9ecb-0e837631f7a3 {color: black;background-color: white;}#sk-eee3462d-131e-464d-9ecb-0e837631f7a3 pre{padding: 0;}#sk-eee3462d-131e-464d-9ecb-0e837631f7a3 div.sk-toggleable {background-color: white;}#sk-eee3462d-131e-464d-9ecb-0e837631f7a3 label.sk-toggleable__label {cursor: pointer;display: block;width: 100%;margin-bottom: 0;padding: 0.3em;box-sizing: border-box;text-align: center;}#sk-eee3462d-131e-464d-9ecb-0e837631f7a3 label.sk-toggleable__label-arrow:before {content: \"▸\";float: left;margin-right: 0.25em;color: #696969;}#sk-eee3462d-131e-464d-9ecb-0e837631f7a3 label.sk-toggleable__label-arrow:hover:before {color: black;}#sk-eee3462d-131e-464d-9ecb-0e837631f7a3 div.sk-estimator:hover label.sk-toggleable__label-arrow:before {color: black;}#sk-eee3462d-131e-464d-9ecb-0e837631f7a3 div.sk-toggleable__content {max-height: 0;max-width: 0;overflow: hidden;text-align: left;background-color: #f0f8ff;}#sk-eee3462d-131e-464d-9ecb-0e837631f7a3 div.sk-toggleable__content pre {margin: 0.2em;color: black;border-radius: 0.25em;background-color: #f0f8ff;}#sk-eee3462d-131e-464d-9ecb-0e837631f7a3 input.sk-toggleable__control:checked~div.sk-toggleable__content {max-height: 200px;max-width: 100%;overflow: auto;}#sk-eee3462d-131e-464d-9ecb-0e837631f7a3 input.sk-toggleable__control:checked~label.sk-toggleable__label-arrow:before {content: \"▾\";}#sk-eee3462d-131e-464d-9ecb-0e837631f7a3 div.sk-estimator input.sk-toggleable__control:checked~label.sk-toggleable__label {background-color: #d4ebff;}#sk-eee3462d-131e-464d-9ecb-0e837631f7a3 div.sk-label input.sk-toggleable__control:checked~label.sk-toggleable__label {background-color: #d4ebff;}#sk-eee3462d-131e-464d-9ecb-0e837631f7a3 input.sk-hidden--visually {border: 0;clip: rect(1px 1px 1px 1px);clip: rect(1px, 1px, 1px, 1px);height: 1px;margin: -1px;overflow: hidden;padding: 0;position: absolute;width: 1px;}#sk-eee3462d-131e-464d-9ecb-0e837631f7a3 div.sk-estimator {font-family: monospace;background-color: #f0f8ff;border: 1px dotted black;border-radius: 0.25em;box-sizing: border-box;margin-bottom: 0.5em;}#sk-eee3462d-131e-464d-9ecb-0e837631f7a3 div.sk-estimator:hover {background-color: #d4ebff;}#sk-eee3462d-131e-464d-9ecb-0e837631f7a3 div.sk-parallel-item::after {content: \"\";width: 100%;border-bottom: 1px solid gray;flex-grow: 1;}#sk-eee3462d-131e-464d-9ecb-0e837631f7a3 div.sk-label:hover label.sk-toggleable__label {background-color: #d4ebff;}#sk-eee3462d-131e-464d-9ecb-0e837631f7a3 div.sk-serial::before {content: \"\";position: absolute;border-left: 1px solid gray;box-sizing: border-box;top: 2em;bottom: 0;left: 50%;}#sk-eee3462d-131e-464d-9ecb-0e837631f7a3 div.sk-serial {display: flex;flex-direction: column;align-items: center;background-color: white;padding-right: 0.2em;padding-left: 0.2em;}#sk-eee3462d-131e-464d-9ecb-0e837631f7a3 div.sk-item {z-index: 1;}#sk-eee3462d-131e-464d-9ecb-0e837631f7a3 div.sk-parallel {display: flex;align-items: stretch;justify-content: center;background-color: white;}#sk-eee3462d-131e-464d-9ecb-0e837631f7a3 div.sk-parallel::before {content: \"\";position: absolute;border-left: 1px solid gray;box-sizing: border-box;top: 2em;bottom: 0;left: 50%;}#sk-eee3462d-131e-464d-9ecb-0e837631f7a3 div.sk-parallel-item {display: flex;flex-direction: column;position: relative;background-color: white;}#sk-eee3462d-131e-464d-9ecb-0e837631f7a3 div.sk-parallel-item:first-child::after {align-self: flex-end;width: 50%;}#sk-eee3462d-131e-464d-9ecb-0e837631f7a3 div.sk-parallel-item:last-child::after {align-self: flex-start;width: 50%;}#sk-eee3462d-131e-464d-9ecb-0e837631f7a3 div.sk-parallel-item:only-child::after {width: 0;}#sk-eee3462d-131e-464d-9ecb-0e837631f7a3 div.sk-dashed-wrapped {border: 1px dashed gray;margin: 0 0.4em 0.5em 0.4em;box-sizing: border-box;padding-bottom: 0.4em;background-color: white;position: relative;}#sk-eee3462d-131e-464d-9ecb-0e837631f7a3 div.sk-label label {font-family: monospace;font-weight: bold;background-color: white;display: inline-block;line-height: 1.2em;}#sk-eee3462d-131e-464d-9ecb-0e837631f7a3 div.sk-label-container {position: relative;z-index: 2;text-align: center;}#sk-eee3462d-131e-464d-9ecb-0e837631f7a3 div.sk-container {/* jupyter's `normalize.less` sets `[hidden] { display: none; }` but bootstrap.min.css set `[hidden] { display: none !important; }` so we also need the `!important` here to be able to override the default hidden behavior on the sphinx rendered scikit-learn.org. See: https://github.com/scikit-learn/scikit-learn/issues/21755 */display: inline-block !important;position: relative;}#sk-eee3462d-131e-464d-9ecb-0e837631f7a3 div.sk-text-repr-fallback {display: none;}</style><div id=\"sk-eee3462d-131e-464d-9ecb-0e837631f7a3\" class=\"sk-top-container\"><div class=\"sk-text-repr-fallback\"><pre>GridSearchCV(estimator=Pipeline(steps=[(&#x27;polynomialfeatures&#x27;,\n",
       "                                        PolynomialFeatures()),\n",
       "                                       (&#x27;standardscaler&#x27;, StandardScaler()),\n",
       "                                       (&#x27;lasso&#x27;, Lasso())]),\n",
       "             n_jobs=-1,\n",
       "             param_grid={&#x27;lasso__alpha&#x27;: [0.01, 0.1, 1, 10, 100],\n",
       "                         &#x27;polynomialfeatures__interaction_only&#x27;: [True, False]})</pre><b>Please rerun this cell to show the HTML repr or trust the notebook.</b></div><div class=\"sk-container\" hidden><div class=\"sk-item sk-dashed-wrapped\"><div class=\"sk-label-container\"><div class=\"sk-label sk-toggleable\"><input class=\"sk-toggleable__control sk-hidden--visually\" id=\"8c892af2-833a-4a7f-9f7d-5b3150b75e80\" type=\"checkbox\" ><label for=\"8c892af2-833a-4a7f-9f7d-5b3150b75e80\" class=\"sk-toggleable__label sk-toggleable__label-arrow\">GridSearchCV</label><div class=\"sk-toggleable__content\"><pre>GridSearchCV(estimator=Pipeline(steps=[(&#x27;polynomialfeatures&#x27;,\n",
       "                                        PolynomialFeatures()),\n",
       "                                       (&#x27;standardscaler&#x27;, StandardScaler()),\n",
       "                                       (&#x27;lasso&#x27;, Lasso())]),\n",
       "             n_jobs=-1,\n",
       "             param_grid={&#x27;lasso__alpha&#x27;: [0.01, 0.1, 1, 10, 100],\n",
       "                         &#x27;polynomialfeatures__interaction_only&#x27;: [True, False]})</pre></div></div></div><div class=\"sk-parallel\"><div class=\"sk-parallel-item\"><div class=\"sk-item\"><div class=\"sk-serial\"><div class=\"sk-item\"><div class=\"sk-serial\"><div class=\"sk-item\"><div class=\"sk-estimator sk-toggleable\"><input class=\"sk-toggleable__control sk-hidden--visually\" id=\"5683d567-5761-4500-9687-516b7f47d5a9\" type=\"checkbox\" ><label for=\"5683d567-5761-4500-9687-516b7f47d5a9\" class=\"sk-toggleable__label sk-toggleable__label-arrow\">PolynomialFeatures</label><div class=\"sk-toggleable__content\"><pre>PolynomialFeatures()</pre></div></div></div><div class=\"sk-item\"><div class=\"sk-estimator sk-toggleable\"><input class=\"sk-toggleable__control sk-hidden--visually\" id=\"f9f746b6-5d8a-422b-a64a-2ada0621d94f\" type=\"checkbox\" ><label for=\"f9f746b6-5d8a-422b-a64a-2ada0621d94f\" class=\"sk-toggleable__label sk-toggleable__label-arrow\">StandardScaler</label><div class=\"sk-toggleable__content\"><pre>StandardScaler()</pre></div></div></div><div class=\"sk-item\"><div class=\"sk-estimator sk-toggleable\"><input class=\"sk-toggleable__control sk-hidden--visually\" id=\"7879ece8-9fda-4fa9-98f1-3a33a47bead8\" type=\"checkbox\" ><label for=\"7879ece8-9fda-4fa9-98f1-3a33a47bead8\" class=\"sk-toggleable__label sk-toggleable__label-arrow\">Lasso</label><div class=\"sk-toggleable__content\"><pre>Lasso()</pre></div></div></div></div></div></div></div></div></div></div></div></div>"
      ],
      "text/plain": [
       "GridSearchCV(estimator=Pipeline(steps=[('polynomialfeatures',\n",
       "                                        PolynomialFeatures()),\n",
       "                                       ('standardscaler', StandardScaler()),\n",
       "                                       ('lasso', Lasso())]),\n",
       "             n_jobs=-1,\n",
       "             param_grid={'lasso__alpha': [0.01, 0.1, 1, 10, 100],\n",
       "                         'polynomialfeatures__interaction_only': [True, False]})"
      ]
     },
     "execution_count": 19,
     "metadata": {},
     "output_type": "execute_result"
    }
   ],
   "source": [
    "#Fitting the gridsearch to the traning data\n",
    "\n",
    "gs2.fit(X_train_filled, y_train)"
   ]
  },
  {
   "cell_type": "code",
   "execution_count": 20,
   "metadata": {},
   "outputs": [
    {
     "data": {
      "text/html": [
       "<div>\n",
       "<style scoped>\n",
       "    .dataframe tbody tr th:only-of-type {\n",
       "        vertical-align: middle;\n",
       "    }\n",
       "\n",
       "    .dataframe tbody tr th {\n",
       "        vertical-align: top;\n",
       "    }\n",
       "\n",
       "    .dataframe thead th {\n",
       "        text-align: right;\n",
       "    }\n",
       "</style>\n",
       "<table border=\"1\" class=\"dataframe\">\n",
       "  <thead>\n",
       "    <tr style=\"text-align: right;\">\n",
       "      <th></th>\n",
       "      <th>mean_fit_time</th>\n",
       "      <th>std_fit_time</th>\n",
       "      <th>mean_score_time</th>\n",
       "      <th>std_score_time</th>\n",
       "      <th>param_lasso__alpha</th>\n",
       "      <th>param_polynomialfeatures__interaction_only</th>\n",
       "      <th>params</th>\n",
       "      <th>split0_test_score</th>\n",
       "      <th>split1_test_score</th>\n",
       "      <th>split2_test_score</th>\n",
       "      <th>split3_test_score</th>\n",
       "      <th>split4_test_score</th>\n",
       "      <th>mean_test_score</th>\n",
       "      <th>std_test_score</th>\n",
       "      <th>rank_test_score</th>\n",
       "    </tr>\n",
       "  </thead>\n",
       "  <tbody>\n",
       "    <tr>\n",
       "      <th>0</th>\n",
       "      <td>0.417751</td>\n",
       "      <td>0.007128</td>\n",
       "      <td>0.005850</td>\n",
       "      <td>0.000465</td>\n",
       "      <td>0.01</td>\n",
       "      <td>True</td>\n",
       "      <td>{'lasso__alpha': 0.01, 'polynomialfeatures__in...</td>\n",
       "      <td>0.900017</td>\n",
       "      <td>0.887822</td>\n",
       "      <td>0.855903</td>\n",
       "      <td>0.761521</td>\n",
       "      <td>0.323361</td>\n",
       "      <td>0.745725</td>\n",
       "      <td>0.216692</td>\n",
       "      <td>6</td>\n",
       "    </tr>\n",
       "    <tr>\n",
       "      <th>1</th>\n",
       "      <td>0.464780</td>\n",
       "      <td>0.010560</td>\n",
       "      <td>0.007614</td>\n",
       "      <td>0.001444</td>\n",
       "      <td>0.01</td>\n",
       "      <td>False</td>\n",
       "      <td>{'lasso__alpha': 0.01, 'polynomialfeatures__in...</td>\n",
       "      <td>0.886234</td>\n",
       "      <td>0.868298</td>\n",
       "      <td>0.858071</td>\n",
       "      <td>0.828634</td>\n",
       "      <td>0.146395</td>\n",
       "      <td>0.717527</td>\n",
       "      <td>0.286176</td>\n",
       "      <td>10</td>\n",
       "    </tr>\n",
       "    <tr>\n",
       "      <th>2</th>\n",
       "      <td>0.429758</td>\n",
       "      <td>0.005797</td>\n",
       "      <td>0.005940</td>\n",
       "      <td>0.000211</td>\n",
       "      <td>0.1</td>\n",
       "      <td>True</td>\n",
       "      <td>{'lasso__alpha': 0.1, 'polynomialfeatures__int...</td>\n",
       "      <td>0.900032</td>\n",
       "      <td>0.887848</td>\n",
       "      <td>0.855933</td>\n",
       "      <td>0.761599</td>\n",
       "      <td>0.323629</td>\n",
       "      <td>0.745808</td>\n",
       "      <td>0.216598</td>\n",
       "      <td>5</td>\n",
       "    </tr>\n",
       "    <tr>\n",
       "      <th>3</th>\n",
       "      <td>0.475819</td>\n",
       "      <td>0.008153</td>\n",
       "      <td>0.006526</td>\n",
       "      <td>0.001302</td>\n",
       "      <td>0.1</td>\n",
       "      <td>False</td>\n",
       "      <td>{'lasso__alpha': 0.1, 'polynomialfeatures__int...</td>\n",
       "      <td>0.886268</td>\n",
       "      <td>0.868352</td>\n",
       "      <td>0.858123</td>\n",
       "      <td>0.828642</td>\n",
       "      <td>0.147394</td>\n",
       "      <td>0.717756</td>\n",
       "      <td>0.285793</td>\n",
       "      <td>9</td>\n",
       "    </tr>\n",
       "    <tr>\n",
       "      <th>4</th>\n",
       "      <td>0.433550</td>\n",
       "      <td>0.011684</td>\n",
       "      <td>0.006496</td>\n",
       "      <td>0.002161</td>\n",
       "      <td>1</td>\n",
       "      <td>True</td>\n",
       "      <td>{'lasso__alpha': 1, 'polynomialfeatures__inter...</td>\n",
       "      <td>0.900184</td>\n",
       "      <td>0.888096</td>\n",
       "      <td>0.856222</td>\n",
       "      <td>0.762176</td>\n",
       "      <td>0.326694</td>\n",
       "      <td>0.746674</td>\n",
       "      <td>0.215495</td>\n",
       "      <td>4</td>\n",
       "    </tr>\n",
       "    <tr>\n",
       "      <th>5</th>\n",
       "      <td>0.494793</td>\n",
       "      <td>0.008844</td>\n",
       "      <td>0.006371</td>\n",
       "      <td>0.002814</td>\n",
       "      <td>1</td>\n",
       "      <td>False</td>\n",
       "      <td>{'lasso__alpha': 1, 'polynomialfeatures__inter...</td>\n",
       "      <td>0.886637</td>\n",
       "      <td>0.869013</td>\n",
       "      <td>0.858577</td>\n",
       "      <td>0.828803</td>\n",
       "      <td>0.156204</td>\n",
       "      <td>0.719847</td>\n",
       "      <td>0.282446</td>\n",
       "      <td>8</td>\n",
       "    </tr>\n",
       "    <tr>\n",
       "      <th>6</th>\n",
       "      <td>0.441346</td>\n",
       "      <td>0.016276</td>\n",
       "      <td>0.007558</td>\n",
       "      <td>0.003968</td>\n",
       "      <td>10</td>\n",
       "      <td>True</td>\n",
       "      <td>{'lasso__alpha': 10, 'polynomialfeatures__inte...</td>\n",
       "      <td>0.902829</td>\n",
       "      <td>0.890381</td>\n",
       "      <td>0.860603</td>\n",
       "      <td>0.773477</td>\n",
       "      <td>0.349257</td>\n",
       "      <td>0.755309</td>\n",
       "      <td>0.207991</td>\n",
       "      <td>3</td>\n",
       "    </tr>\n",
       "    <tr>\n",
       "      <th>7</th>\n",
       "      <td>0.512919</td>\n",
       "      <td>0.009099</td>\n",
       "      <td>0.007918</td>\n",
       "      <td>0.003284</td>\n",
       "      <td>10</td>\n",
       "      <td>False</td>\n",
       "      <td>{'lasso__alpha': 10, 'polynomialfeatures__inte...</td>\n",
       "      <td>0.891143</td>\n",
       "      <td>0.876902</td>\n",
       "      <td>0.863181</td>\n",
       "      <td>0.830277</td>\n",
       "      <td>0.215206</td>\n",
       "      <td>0.735342</td>\n",
       "      <td>0.260849</td>\n",
       "      <td>7</td>\n",
       "    </tr>\n",
       "    <tr>\n",
       "      <th>8</th>\n",
       "      <td>0.385667</td>\n",
       "      <td>0.007798</td>\n",
       "      <td>0.006591</td>\n",
       "      <td>0.002615</td>\n",
       "      <td>100</td>\n",
       "      <td>True</td>\n",
       "      <td>{'lasso__alpha': 100, 'polynomialfeatures__int...</td>\n",
       "      <td>0.906257</td>\n",
       "      <td>0.895475</td>\n",
       "      <td>0.872877</td>\n",
       "      <td>0.840145</td>\n",
       "      <td>0.456660</td>\n",
       "      <td>0.794283</td>\n",
       "      <td>0.170322</td>\n",
       "      <td>1</td>\n",
       "    </tr>\n",
       "    <tr>\n",
       "      <th>9</th>\n",
       "      <td>0.339421</td>\n",
       "      <td>0.057104</td>\n",
       "      <td>0.004544</td>\n",
       "      <td>0.000454</td>\n",
       "      <td>100</td>\n",
       "      <td>False</td>\n",
       "      <td>{'lasso__alpha': 100, 'polynomialfeatures__int...</td>\n",
       "      <td>0.903894</td>\n",
       "      <td>0.895337</td>\n",
       "      <td>0.875292</td>\n",
       "      <td>0.836998</td>\n",
       "      <td>0.405107</td>\n",
       "      <td>0.783326</td>\n",
       "      <td>0.190511</td>\n",
       "      <td>2</td>\n",
       "    </tr>\n",
       "  </tbody>\n",
       "</table>\n",
       "</div>"
      ],
      "text/plain": [
       "   mean_fit_time  std_fit_time  mean_score_time  std_score_time  \\\n",
       "0       0.417751      0.007128         0.005850        0.000465   \n",
       "1       0.464780      0.010560         0.007614        0.001444   \n",
       "2       0.429758      0.005797         0.005940        0.000211   \n",
       "3       0.475819      0.008153         0.006526        0.001302   \n",
       "4       0.433550      0.011684         0.006496        0.002161   \n",
       "5       0.494793      0.008844         0.006371        0.002814   \n",
       "6       0.441346      0.016276         0.007558        0.003968   \n",
       "7       0.512919      0.009099         0.007918        0.003284   \n",
       "8       0.385667      0.007798         0.006591        0.002615   \n",
       "9       0.339421      0.057104         0.004544        0.000454   \n",
       "\n",
       "  param_lasso__alpha param_polynomialfeatures__interaction_only  \\\n",
       "0               0.01                                       True   \n",
       "1               0.01                                      False   \n",
       "2                0.1                                       True   \n",
       "3                0.1                                      False   \n",
       "4                  1                                       True   \n",
       "5                  1                                      False   \n",
       "6                 10                                       True   \n",
       "7                 10                                      False   \n",
       "8                100                                       True   \n",
       "9                100                                      False   \n",
       "\n",
       "                                              params  split0_test_score  \\\n",
       "0  {'lasso__alpha': 0.01, 'polynomialfeatures__in...           0.900017   \n",
       "1  {'lasso__alpha': 0.01, 'polynomialfeatures__in...           0.886234   \n",
       "2  {'lasso__alpha': 0.1, 'polynomialfeatures__int...           0.900032   \n",
       "3  {'lasso__alpha': 0.1, 'polynomialfeatures__int...           0.886268   \n",
       "4  {'lasso__alpha': 1, 'polynomialfeatures__inter...           0.900184   \n",
       "5  {'lasso__alpha': 1, 'polynomialfeatures__inter...           0.886637   \n",
       "6  {'lasso__alpha': 10, 'polynomialfeatures__inte...           0.902829   \n",
       "7  {'lasso__alpha': 10, 'polynomialfeatures__inte...           0.891143   \n",
       "8  {'lasso__alpha': 100, 'polynomialfeatures__int...           0.906257   \n",
       "9  {'lasso__alpha': 100, 'polynomialfeatures__int...           0.903894   \n",
       "\n",
       "   split1_test_score  split2_test_score  split3_test_score  split4_test_score  \\\n",
       "0           0.887822           0.855903           0.761521           0.323361   \n",
       "1           0.868298           0.858071           0.828634           0.146395   \n",
       "2           0.887848           0.855933           0.761599           0.323629   \n",
       "3           0.868352           0.858123           0.828642           0.147394   \n",
       "4           0.888096           0.856222           0.762176           0.326694   \n",
       "5           0.869013           0.858577           0.828803           0.156204   \n",
       "6           0.890381           0.860603           0.773477           0.349257   \n",
       "7           0.876902           0.863181           0.830277           0.215206   \n",
       "8           0.895475           0.872877           0.840145           0.456660   \n",
       "9           0.895337           0.875292           0.836998           0.405107   \n",
       "\n",
       "   mean_test_score  std_test_score  rank_test_score  \n",
       "0         0.745725        0.216692                6  \n",
       "1         0.717527        0.286176               10  \n",
       "2         0.745808        0.216598                5  \n",
       "3         0.717756        0.285793                9  \n",
       "4         0.746674        0.215495                4  \n",
       "5         0.719847        0.282446                8  \n",
       "6         0.755309        0.207991                3  \n",
       "7         0.735342        0.260849                7  \n",
       "8         0.794283        0.170322                1  \n",
       "9         0.783326        0.190511                2  "
      ]
     },
     "execution_count": 20,
     "metadata": {},
     "output_type": "execute_result"
    }
   ],
   "source": [
    "#Putting my cv_results into a data frame\n",
    "#Then taking a look at the rank, mean test score, alphas and parameters to see which model did the best\n",
    "\n",
    "pd.DataFrame(gs2.cv_results_)"
   ]
  },
  {
   "cell_type": "code",
   "execution_count": 21,
   "metadata": {},
   "outputs": [
    {
     "data": {
      "text/plain": [
       "{'lasso__alpha': 100, 'polynomialfeatures__interaction_only': True}"
      ]
     },
     "execution_count": 21,
     "metadata": {},
     "output_type": "execute_result"
    }
   ],
   "source": [
    "#Getting the best parameters from the GridSearch\n",
    "\n",
    "gs2.best_params_"
   ]
  },
  {
   "cell_type": "code",
   "execution_count": 22,
   "metadata": {},
   "outputs": [
    {
     "name": "stderr",
     "output_type": "stream",
     "text": [
      "/opt/anaconda3/lib/python3.9/site-packages/sklearn/base.py:450: UserWarning: X does not have valid feature names, but PolynomialFeatures was fitted with feature names\n",
      "  warnings.warn(\n"
     ]
    },
    {
     "data": {
      "text/plain": [
       "0.8492644287012828"
      ]
     },
     "execution_count": 22,
     "metadata": {},
     "output_type": "execute_result"
    }
   ],
   "source": [
    "gs2.score(X_test_filled, y_test)"
   ]
  },
  {
   "cell_type": "code",
   "execution_count": 23,
   "metadata": {},
   "outputs": [
    {
     "data": {
      "text/plain": [
       "0.9117112414867508"
      ]
     },
     "execution_count": 23,
     "metadata": {},
     "output_type": "execute_result"
    }
   ],
   "source": [
    "gs2.score(X_train_filled, y_train)"
   ]
  },
  {
   "cell_type": "code",
   "execution_count": 24,
   "metadata": {},
   "outputs": [
    {
     "data": {
      "text/plain": [
       "array([170047.95560055, 167438.78007454, 195835.39021976, 110136.40126607,\n",
       "       181655.98453473,  94102.61900042,  94287.54796364, 138548.28024429,\n",
       "       172173.09250646, 172489.20916518, 149410.61131432, 130303.24574371,\n",
       "       154277.51311317, 299230.01508456, 152897.18493254, 118812.1081363 ,\n",
       "       187588.06524301, 119554.12386311, 209788.830927  , 231379.54858739,\n",
       "       130075.61154662, 166093.59638323, 194746.25625195, 195326.83721764,\n",
       "       189109.26821738, 112055.50389491, 119724.63750335, 111680.72981197,\n",
       "       148897.83098973,  67238.06318405, 102022.99476566,  99864.61463357,\n",
       "       255027.33195416, 152498.52114403, 201391.93342375, 162543.17645081,\n",
       "       113042.39452132,  96545.67103163, 108812.57759698, 192810.08258006,\n",
       "       145297.26779022, 212443.03102033, 133127.36954403, 161976.18810537,\n",
       "       221403.8048299 ,  87674.20423955, 214062.09858637, 121447.20619302,\n",
       "       110674.48957038, 133338.89612061, 116367.56589545, 202477.15107337,\n",
       "       257333.99504402, 114766.82175374, 101888.76719749, 148964.72732462,\n",
       "       187402.88468304, 151812.23612312, 183658.0388651 , 260124.53658815,\n",
       "       343918.1589201 , 151900.45490815, 136819.21081166, 185595.36795924,\n",
       "       166574.68777018, 318839.93969169,  96878.0217329 , 201981.16730835,\n",
       "        76725.81133603, 137543.85595112,  83844.84241652, 342911.19213609,\n",
       "       205611.97203241, 156005.71910018, 124907.67266344, 200089.95293533,\n",
       "       156130.2738659 , 146612.56397374,  93210.95412534, 360844.06834955,\n",
       "       196843.15700537, 131331.73944516, 120915.69732784, 122809.79810084,\n",
       "       190375.95128898, 323765.33150476, 107951.77464322, 181510.87216194,\n",
       "       268528.5682081 , 149837.03363974, 124193.74859389, 103095.91971787,\n",
       "       120072.94183864, 217535.53287718, 113124.22778914, 151645.41420929,\n",
       "       176028.94977714, 228893.01540688, 180224.1025148 , 213716.27640592,\n",
       "       280775.49806845, 185305.82412312, 116949.92544273, 558477.91380784,\n",
       "       175857.82197667,  90493.10964562, 166591.68493171, 215826.94804252,\n",
       "       186435.46215598, 118065.70535922, 173587.25502534, 235583.10330579,\n",
       "       114474.43722586, 111512.65244052, 230075.46012241, 572535.191365  ,\n",
       "       149854.23413968, 117256.09317724, 336895.0258278 , 185843.42994815,\n",
       "       446038.8243696 , 268527.51672736, 320430.44215369, 154404.29785233,\n",
       "       130429.99884263, 374816.30831513, 112569.944833  , 127460.61061173,\n",
       "       103395.78439503, 297115.37885294, 127810.47240495, 194230.05025022,\n",
       "       138565.3715467 , 166174.96495305, 154264.96292456, 231961.60642705,\n",
       "       185635.3793572 , 188384.09660642, 196558.22816959, 124254.88814798,\n",
       "       184323.24853441, 141026.751434  , 130755.55676402, 177132.01595367,\n",
       "        89958.95886979, 148789.41896312, 167093.47307681, 139617.91810658,\n",
       "        95635.74536837, 223906.9372317 , 191502.70562349, 164396.81645994,\n",
       "       113963.20614209, 127474.85399011, 108937.89626754, 129899.11967739,\n",
       "        82481.56515267, 149054.50081274, 274592.81773968, 281106.26616179,\n",
       "       196798.08576889, 117903.13991193, 134515.08838033, 555522.62402338,\n",
       "       240557.7884157 , 251272.24239022, 168521.71297412, 158873.0746637 ,\n",
       "       256615.11408618, 181779.90377093, 630796.87272081, 130999.67676071,\n",
       "       140970.72547132, 142453.96003076, 194710.91874071, 179687.3210789 ,\n",
       "        86918.57645365, 158873.65498875,  93411.29571943, 142143.82927787,\n",
       "       134352.16038321, 212746.87793971, 265636.10739296, 174278.20554258,\n",
       "       155166.33852796, 116844.27333937, 198722.86900094, 200974.58763596,\n",
       "       120178.75241193,  86919.58105196, 211570.14277078, 126314.15254046,\n",
       "       127969.47576866, 112037.53357288, 169097.39802781, 146201.00385779,\n",
       "       276967.97390911, 143491.41719904, 126871.37166841, 123339.59870046,\n",
       "       340887.56341693, 232867.71385936, 135061.89116682, 178744.65008323,\n",
       "       112658.36575758,  96663.28189787, 155659.15652649, 131105.4661095 ,\n",
       "       206754.23072417, 205396.95664337, 192419.37641381, 191010.47056871,\n",
       "       108853.139205  , 508235.42307783, 281787.25676958, 198185.62124828,\n",
       "       255394.73390191, 136338.13259862, 113376.61947043, 118007.11346325,\n",
       "       162698.46592588, 194802.28886884, 159310.91251565, 164718.82881025,\n",
       "       115904.64895584, 105824.09473892, 267989.83966043, 226971.39312037,\n",
       "       156637.38461548, 267305.48693267, 167111.91249864,  82638.0223123 ,\n",
       "       127081.73738174, 102289.64179168, 345765.23055537, 173216.03850923,\n",
       "        97602.84554192, 452085.45143486, 332044.87584341, 180185.6449271 ,\n",
       "       250961.72917525, 148687.25852189, 296566.53802395, 240199.0718169 ,\n",
       "       335836.94567441, 264990.74295831, 143018.62031142, 109680.5625095 ,\n",
       "       187520.5606593 , 286151.89715726, 291138.17378854, 159051.46201743,\n",
       "       252911.66272727, 235561.37808469, 188622.81272246,  84808.35860241,\n",
       "        79199.82860356, 426342.23588451, 236901.68190121, 220436.2791207 ,\n",
       "       151737.54065549, 145921.42812604, 124693.869612  , 152977.52716171,\n",
       "       230950.43543062, 154300.42997866, 141716.86181828, 204501.85875032,\n",
       "       177343.91158379, 141077.82012707, 220999.8199824 , 175814.65038297,\n",
       "       150338.87734485, 356899.90351342, 103035.05450266, 147418.39519216,\n",
       "       136728.1574905 , 167781.42642067, 107454.18717028, 132712.2472825 ,\n",
       "       250327.08396215, 141208.73121072, 105459.49667695,  92111.49757787,\n",
       "       136277.35355091, 240791.98819983, 208828.62896083, 105431.5554903 ,\n",
       "       110681.32915865, 136201.64115823, 107740.278753  , 135095.83806736,\n",
       "        88481.00722995,  93649.65361425, 154901.68467077, 137543.85595112,\n",
       "       185198.96601604, 245007.2220398 , 250674.03845072, 179426.55512262,\n",
       "       174907.65525778, 321116.67547378, 130230.31312697, 159321.83153695,\n",
       "        85302.74510957, 106101.41610183, 304252.08468531, 188581.919085  ,\n",
       "       164584.45608086, 143888.05648399, 230122.79230637, 219167.4919837 ,\n",
       "       243260.929028  , 280452.06114985, 102815.99330332, 391923.47118547,\n",
       "       375420.26621048, 277356.04053116, 227742.03678092, 110028.63943003,\n",
       "        69378.32178451, 130050.17699025, 142279.24730641, 237947.47338164,\n",
       "       134726.58024405, 150684.29215083, 157574.63548213, 152998.92191176,\n",
       "       215194.94101942, 129660.90802501, 152855.01379235, 183154.844436  ,\n",
       "       150601.0636697 , 230105.6778602 ,  98326.33210885, 171723.26513068,\n",
       "        94482.16846099, 119169.44243974, 135777.11097169, 161554.74023149,\n",
       "       145192.56484609, 112395.04118312, 124471.92156747, 173633.50337641,\n",
       "       296643.23343608, 254271.86547552, 191895.65029582, 112346.50714041,\n",
       "       212119.56251734, 140340.97857806, 172440.99377147, 143098.68536027,\n",
       "       121944.93542171, 275149.32157305, 128170.43983751, 237048.21371224,\n",
       "       145593.79970171, 202095.84381296, 269453.8086174 , 111051.39463261,\n",
       "       149661.75481686, 112988.4958166 , 114173.94029567, 156691.41738902,\n",
       "       190565.26678476, 291715.64358075, 184396.39972795, 186803.48040949,\n",
       "       206946.83695211,  88954.58552834, 236301.37629327, 114212.22596427,\n",
       "       158541.77143524, 379939.1707665 , 123207.71867528, 255710.39315035,\n",
       "       163589.88762875, 277488.99039925, 215161.53570388, 126203.72909526,\n",
       "       156310.78116277, 182749.38769221, 339782.11350126, 300743.56329063,\n",
       "       223666.83644825, 207443.38672321, 180697.72408409, 184309.82865527,\n",
       "       143674.7217835 , 116283.20786945, 101751.58137854, 279003.5758628 ,\n",
       "       166563.54809559, 122673.114469  , 180442.91936833,  77616.14911122,\n",
       "       154743.32652   , 185755.55720129, 125165.09183005,  79026.15106765,\n",
       "       209704.5197643 , 243739.89038687, 121784.6455268 , 268765.19054312,\n",
       "       141120.02797208, 125096.91836873, 178898.43145318, 220127.47198794,\n",
       "       265396.15347251, 140106.98004947, 107218.51727651, 134440.93229541,\n",
       "       238852.86350969, 144159.91709052, 289500.96028702, 306550.6516851 ,\n",
       "       131204.25028033, 255527.24856519, 115617.48374887, 176384.58130474,\n",
       "       230113.97113047, 134912.01526702, 243682.13846983, 118217.05893848,\n",
       "       239713.68552548, 440053.65947703, 222895.14836574, 207268.74423988,\n",
       "       145354.51698872, 315347.21884463, 108293.41644753, 135524.92254465,\n",
       "       114886.04403724, 196938.76520444, 107854.25459788, 338750.25857412,\n",
       "       185665.86919949, 186892.84037971, 127788.81765859, 163494.7824559 ,\n",
       "       211847.33364498, 129736.81846555, 109847.95515802, 170001.32183589,\n",
       "       168181.14196452, 225936.37789419,  74168.95802754,  85914.873619  ,\n",
       "       291976.65457131, 117494.9879778 , 222723.03921502, 299639.30624971,\n",
       "       209244.69782639, 207911.87738935, 173839.16796195, 232014.72061338,\n",
       "       222568.51060444, 126268.15117286, 258740.02508431, 122720.20539201,\n",
       "       123908.5062984 , 128274.22038693, 152486.2781953 , 593696.04602532,\n",
       "       104090.38259889, 211321.74490742, 263766.37092928, 237299.2152177 ,\n",
       "       132142.57394014, 116635.71779043, 132122.54909564, 225839.08245469,\n",
       "       170020.08724538, 110512.26799307, 232725.39359842, 229361.05112439,\n",
       "       118706.79801232, 155605.20601476, 112990.60376928, 156756.8826088 ,\n",
       "        96782.02353333, 227221.37017419,  94054.53077508, 173260.33330873,\n",
       "       289749.5899595 , 148671.31371197, 139478.46942913, 170677.24351585,\n",
       "       197475.924568  , 143759.86990495, 133025.89054516, 208251.99633051,\n",
       "       182726.69617862, 254877.04155591, 368518.71190563, 182688.54299955,\n",
       "       141884.4396759 , 111116.06024256, 163948.01312308, 118324.25131089,\n",
       "       166148.59355351, 198698.24377178, 193375.68407742, 150769.86590434,\n",
       "       231285.51557637, 111591.86999976, 272303.98731406, 117713.2431028 ,\n",
       "        91472.35417515, 273659.99617022, 106036.60844028, 133960.04218821,\n",
       "       128049.59966126, 121650.33208386,  64867.84270686, 186490.4604133 ,\n",
       "       157781.94073543, 167529.25323133, 260886.69146948, 285389.67942877,\n",
       "       102557.689431  , 138378.46885117, 173375.95850427, 124899.64469861,\n",
       "       238991.51831264, 415984.35227108, 199523.68509238, 122801.98444499,\n",
       "       111813.01171051,  66952.88231425, 135422.63129542, 167737.59028237,\n",
       "       165667.78501688, 167349.07496788, 148840.89066945, 149416.63595006,\n",
       "        81655.0207301 , 244502.49009747, 135758.65837296, 161994.34320314,\n",
       "       137871.60822041,  90827.1038403 ,  90254.1161597 , 149667.1465402 ,\n",
       "       210359.24223928, 321766.48444476, 252257.54506869, 105216.37767072,\n",
       "        99543.08389791, 284797.7600415 , 120961.05442868, 261179.13943578,\n",
       "        78488.71152572, 239530.32331202, 184895.84884717,  89545.93318804,\n",
       "       107321.74179445, 162725.50001862, 111809.27755986, 162741.47565069,\n",
       "       120558.30262171, 146580.21627215, 159009.51933649, 138007.46109328,\n",
       "       143293.26082638, 118190.55976324, 118915.45081685, 195241.02765093,\n",
       "       114678.20021117, 139493.72794599, 154160.48555957, 114765.787087  ,\n",
       "        99032.51605097, 139867.34461954, 180488.41850713, 120215.87061258,\n",
       "       167583.43202634, 137155.45420083, 189275.29715177, 110402.70804835,\n",
       "       155540.40889379, 140961.95733351, 296301.58873599, 128413.68942222,\n",
       "       153029.11532867, 162912.87059502, 142939.53329083, 119786.72246411,\n",
       "       287191.48616508, 221401.67741086, 111085.97886101, 111760.44869683,\n",
       "       125620.85615676, 127053.65254745, 363582.36986829, 222316.89707226,\n",
       "       100756.54612013, 129945.60294839, 114978.24266742, 335452.68026496,\n",
       "       125167.06915329, 212076.06180886, 128239.05345722, 198651.34716956,\n",
       "       235536.60940429,  96922.96196506, 116335.21234309, 116481.08671651,\n",
       "       151103.56903098, 141853.10480996, 104346.82640449, 388263.29663771,\n",
       "       218319.22287266, 120942.71003704, 148364.82239494,  70035.91783458,\n",
       "       176711.45077241, 295145.71819081,  83871.9021911 , 154153.14022608,\n",
       "       199352.73526578, 130864.12428961, 149738.3881223 , 121886.20149593,\n",
       "       130720.1117155 , 178066.35643908, 169169.60770884, 130239.96925912,\n",
       "       383536.33633157, 136950.29137367, 170719.5438011 , 205528.79613792,\n",
       "       115634.76565593,  77371.65023385, 120715.0843586 , 159813.22935143,\n",
       "       152292.10846875, 163131.92490758, 132738.57362   , 150637.00404669,\n",
       "       327141.58554788, 123018.96913792, 219620.89045704, 246448.92532651,\n",
       "       157217.37026375,  86873.13002308, 267560.64834838, 164224.54547259,\n",
       "       136254.672392  , 190955.4323636 , 152396.09930637, 108354.20803984,\n",
       "       110434.92673992, 160112.76486168,  73963.13332778, 158520.00158968,\n",
       "       205097.55869546, 182210.54228952, 251553.87538165, 193766.77177432,\n",
       "       154548.68910857, 202091.31229925, 200385.36597001, 251226.65759085,\n",
       "       396459.32198553, 231580.6043798 , 187633.47447965, 178599.90988551,\n",
       "       138664.48982224, 329500.5898341 , 215198.82360803, 294633.79740575,\n",
       "       217626.53091145, 140464.09602075, 108775.29940577, 124007.04308824,\n",
       "       143848.91942794,  97966.38366367, 160879.61028057, 117696.94080624,\n",
       "       350605.40128695, 224617.97964194, 189596.73491154, 260168.59060708,\n",
       "       184393.4479787 , 161747.02930645, 206822.7851865 , 385847.72704197,\n",
       "       134453.20306807, 191246.54181119,  78631.37350752, 115114.0884612 ,\n",
       "       238404.72951413, 128560.05060765, 229009.57088578, 169389.35691893,\n",
       "       203798.00631146, 321976.04570929, 126205.09521875, 261633.34099031,\n",
       "       136239.23511448, 131884.00061312, 137429.00463856, 132881.45228597,\n",
       "       315982.68388213, 297433.45269261, 141360.12159222, 127880.65626877,\n",
       "       104270.94322594, 296115.3763579 , 224694.50299804,  92857.13995369,\n",
       "       140867.12170136, 138998.18554309, 112193.97946588, 310943.38633968,\n",
       "       289102.86869474, 217237.36639684, 187411.70188028, 238288.33989897,\n",
       "       216538.60396439, 253570.40407069, 125350.589537  , 119244.03617684,\n",
       "       298734.81588538, 164341.85268146, 211471.41713881, 115023.83430533,\n",
       "       247957.89861523,  92520.76480053, 232036.18229628, 178816.57454431,\n",
       "       265065.56300981, 162640.49693205, 195055.40327678, 158136.25529897,\n",
       "       148787.26437715, 162113.81402049, 147032.55741331, 137259.94721944,\n",
       "       221474.06843753, 172101.37753828, 135222.38311157, 118114.81194708,\n",
       "       166506.42817   , 156563.5748479 , 204848.38519788, 219102.35481628,\n",
       "       123469.21716799, 340914.51091739, 262291.38410306, 136546.44469379,\n",
       "       160376.04798292, 184387.84737554, 113634.93703174, 118396.91103724,\n",
       "       438199.08460097,  78508.6610134 , 147813.39586879, 200230.83821292,\n",
       "       146025.21888047, 238630.92845927, 131595.33666673, 227270.44181664,\n",
       "       176120.97216757, 322058.86881316, 167639.46418324, 193533.30330109,\n",
       "       316713.16696232, 144146.17406525, 245985.35678971, 153829.12224021,\n",
       "       150040.99902331, 222387.45919794, 123077.80667513, 143176.31473848,\n",
       "       193941.94697267, 140044.60072467, 120476.35171484, 221442.72046427,\n",
       "       158468.28538111, 400445.1555882 ,  98368.940569  , 119083.94564469,\n",
       "       104942.32705524, 137510.96968248, 265247.13172113, 118241.37853946,\n",
       "       295427.13384634, 184339.66260977, 204630.89791236, 249921.73771564,\n",
       "       180627.08643384, 300704.59585832, 152989.73416981, 224771.87372026,\n",
       "       180471.74904415, 194015.15659241, 257758.72432849, 216863.0077287 ,\n",
       "       128857.76979494, 130959.30220331, 144956.20137752,  99544.62684447,\n",
       "       285467.50814393, 119000.90232329, 110014.03302872, 177736.20139149,\n",
       "       155620.9602093 , 115998.51892749, 133789.7016876 , 315194.36849547,\n",
       "       163152.25080934, 127202.52154917, 214197.41877443, 181801.22047466,\n",
       "       214512.91508373,  92582.91485378, 103046.02014481, 155829.48329929,\n",
       "       185063.46897094, 112598.63573106, 382204.88933262, 129983.99264849,\n",
       "       152914.50024853, 229227.9899501 , 450232.51463042, 129991.24862883,\n",
       "       202819.03811139, 161515.07391821, 154848.65510953, 171467.99684048,\n",
       "       285867.85552194, 201802.34242976, 140830.02059738, 121851.99971844,\n",
       "       315019.82546649, 135580.0864904 , 131876.61027065, 130854.1367575 ,\n",
       "       247923.33308549, 166119.69037676, 274426.73729519, 130231.96615625,\n",
       "       156832.31062713, 186170.49511385, 277889.19013242, 228537.37406424,\n",
       "       113610.37357299, 187887.84665314, 174453.65696149, 175061.17567948,\n",
       "       126020.15631294, 136546.71713075, 198507.20138515,  97102.40163487,\n",
       "       225466.06480223,  90538.33897203, 195315.36840261, 107465.13433108,\n",
       "       367500.91083066, 140559.32399575, 133394.37490966, 149638.56554661,\n",
       "       147221.3792836 , 184177.55548402, 171778.60271021, 238081.69675431,\n",
       "       257566.15887485, 150583.00278203, 246926.37616255, 313973.62005428,\n",
       "       212798.2146525 , 203035.30418253, 210080.80889184, 123760.06865013,\n",
       "       108631.03140701, 116945.81194837])"
      ]
     },
     "execution_count": 24,
     "metadata": {},
     "output_type": "execute_result"
    }
   ],
   "source": [
    "#Increased the number of features I am using.\n",
    "\n",
    "gs2_preds = gs2.predict(testing[['Lot Area','Overall Qual', 'BsmtFin SF 1', 'Bsmt Unf SF', 'Total Bsmt SF',\n",
    "'1st Flr SF', '2nd Flr SF', 'Gr Liv Area', 'Bsmt Full Bath',   \n",
    "'Full Bath', 'Half Bath', 'Bedroom AbvGr',  \n",
    "'TotRms AbvGrd', 'Fireplaces', 'Garage Cars', 'Garage Area', 'Wood Deck SF','Open Porch SF',         \n",
    "'Screen Porch']])\n",
    "\n",
    "gs2_preds"
   ]
  },
  {
   "cell_type": "code",
   "execution_count": 25,
   "metadata": {},
   "outputs": [
    {
     "data": {
      "text/plain": [
       "(878,)"
      ]
     },
     "execution_count": 25,
     "metadata": {},
     "output_type": "execute_result"
    }
   ],
   "source": [
    "gs2_preds.shape"
   ]
  },
  {
   "cell_type": "code",
   "execution_count": 26,
   "metadata": {},
   "outputs": [
    {
     "name": "stderr",
     "output_type": "stream",
     "text": [
      "/opt/anaconda3/lib/python3.9/site-packages/sklearn/base.py:450: UserWarning: X does not have valid feature names, but PolynomialFeatures was fitted with feature names\n",
      "  warnings.warn(\n"
     ]
    },
    {
     "data": {
      "text/plain": [
       "array([303614.33196405,  82578.95828802, 164609.95944733, 123948.15702147,\n",
       "       221817.96622158, 167568.70343637, 145271.24898802, 119205.51230687,\n",
       "       194926.13224048, 125605.89311408, 149632.73236203, 226791.68302835,\n",
       "       215330.91749905, 260674.90509121, 361836.05473581, 364612.06955801,\n",
       "       134242.36007485, 261445.10193939, 361985.8656954 , 206776.41103634,\n",
       "       133902.85878974, 190397.67184552, 140240.09104255, 128826.80938967,\n",
       "       155433.39117462, 206365.58194881, 371303.46149856, 288756.85858521,\n",
       "       177175.86343276, 109343.11825538, 181188.36694523, 258085.8092645 ,\n",
       "       253694.1231182 , 107407.08250689, 184959.77980164, 134747.64587663,\n",
       "        83929.5784534 , 257785.36142342, 230389.29925824,  98748.72103505,\n",
       "       115223.59742832, 112894.27646356, 102775.13317705,  75367.94363484,\n",
       "       125876.48195273, 290964.05529991, 105559.5176305 ,  95626.85134247,\n",
       "       196917.30152767, 146038.24967139, 125858.54134498, 346035.43476515,\n",
       "       159180.43643706, 111273.44930899, 143841.44790555, 162122.99268405,\n",
       "       153854.80141639,  91485.10268851, 328795.07225031, 111257.49543939,\n",
       "       149834.70152955, 125781.907948  ,  71574.92419792, 111009.51501651,\n",
       "       172859.44865747, 133575.01195797, 127592.22034665, 186098.30194234,\n",
       "       147489.99950873, 101536.49050009, 141954.28160366, 230243.39238618,\n",
       "       378138.38274596, 154690.30928211, 313431.54833953, 165257.56599009,\n",
       "       306555.91836334, 218471.67091006, 211663.10602487, 179493.55087384,\n",
       "       150695.60476007, 101890.53228352, 326400.51435787, 152295.73216282,\n",
       "       456369.13565456, 140123.24867619, 113322.87571087, 199465.93649657,\n",
       "       112348.05490321, 132536.19662102, 104826.60994677, 165772.41685562,\n",
       "       425737.43366905, 140488.32283125, 140571.01605638, 168058.93884194,\n",
       "       242464.74202476, 160930.03868838, 166835.41196603, 322294.84883265,\n",
       "       279226.82348281, 194503.29296841, 187060.47562739, 252503.34732922,\n",
       "       199519.52228205, 205599.75894661,  99939.98554098, 107453.09542567,\n",
       "       121993.10680699, 206130.4273554 , 159346.31676719, 201927.01208179,\n",
       "        88794.0305618 , 146055.19070757, 143687.8098011 , 109371.74867348,\n",
       "       240115.89120106, 142638.50559076, 146874.64494031, 213585.7516898 ,\n",
       "       112486.25961193, 133960.99893182, 196566.35168438, 249118.88747423,\n",
       "       158974.77713267, 150682.22935715, 225639.55619677, 184505.59763216,\n",
       "       109323.15307948, 231838.23339606, 286046.56305527, 212326.80336746,\n",
       "       258021.00527578, 115508.17435483, 186048.05035114, 297999.44336905,\n",
       "       142820.0126935 , 151810.28630503, 167784.16663697, 267435.18975527,\n",
       "       143570.00780524, 174720.6467135 , 139556.94661852, 175093.34481999,\n",
       "       138680.59421198, 107939.33529012, 213694.89647425, 265238.09931435,\n",
       "       213296.96414933, 182704.13297404, 234426.85837524, 135012.39638924,\n",
       "       122036.63497986, 248863.12116752, 217464.31990401, 157770.45622677,\n",
       "       154741.59887732, 247186.86301711, 147621.2971073 , 200746.33586741,\n",
       "       116334.51198009, 216368.47819484, 149973.77491477, 178708.82850514,\n",
       "       174871.2723127 , 384454.78413447, 210397.65151462, 136373.67417762,\n",
       "        97811.30354347, 126652.65683845,  85292.09301994, 213991.18420805,\n",
       "       143285.59339318, 104742.51261902, 141491.62914862, 183457.38338541,\n",
       "       211241.36194355,  88867.46723648, 142727.53981504, 212316.94978207,\n",
       "       216020.45145834, 209881.75405293, 119257.15632666, 184189.55361534,\n",
       "       168817.55477899, 221275.27275932, 377863.33032135, 222158.67383165,\n",
       "       160164.23316644, 120842.2080691 , 133865.07120545, 106114.44020932,\n",
       "       143034.79282538, 394039.71976554, 200169.42230638, 176909.3914166 ,\n",
       "       218781.71792867, 144584.83689534, 114945.88379065, 144630.83364485,\n",
       "       218467.00186977, 130614.72510696, 140977.25893124, 144820.44904957,\n",
       "       185218.4397482 , 136833.63354227, 177688.74237457, 124552.41165295,\n",
       "       125416.58676709,  95838.95167121, 384115.08110709,  78555.12220343,\n",
       "       116423.63595559, 135427.57757133, 213521.26288455, 182243.97949134,\n",
       "       141083.68875559, 137606.44833288, 112886.58687521, 146631.2384896 ,\n",
       "       142837.47315878, 188963.74639522, 129360.55979365, 165078.56609608,\n",
       "       404732.2763906 , 193383.94353358, 160888.99159002, 238269.77014674,\n",
       "       181281.85975215, 169197.08904705, 208234.69163352,  99547.13659144,\n",
       "       156913.4469775 , 191424.87231556, 205620.34198545, 356149.37503907,\n",
       "       162365.60646296, 250734.20063086, 373238.32881966, 144917.19930488,\n",
       "       248264.58569552, 121636.32531071, 212369.68706272, 324810.83493137,\n",
       "       145577.26177778,  92466.17198383, 147374.78750329, 143971.24166935,\n",
       "       108271.88540784, 271234.80405288, 134674.59263492, 135418.2903581 ,\n",
       "       116267.75354456, 119992.64630099, 224286.1775686 , 157838.91066828,\n",
       "       182804.01165373, 136768.79535626, 168125.33636371, 101754.10205949,\n",
       "       165386.76518156, 115635.77018154,  63270.29518031, 452286.08133292,\n",
       "       392066.94453395, 112113.95849272, 120590.37481497, 253989.28446111,\n",
       "       130464.70525296, 344378.23856328, 113585.11682438, 179756.74276958,\n",
       "       168830.36123558, 198242.36046081, 358431.31236583, 175502.378619  ,\n",
       "       228010.50707874, 185514.23432576, 148932.37652499, 381035.40548778,\n",
       "       113658.09889966, 101567.55283679, 177921.1398797 , 180471.24083759,\n",
       "       291162.68794076, 174730.28390185, 188249.36328639, 195646.9362603 ,\n",
       "       169468.79327465, 219787.2717029 , 231799.29115721, 141316.683739  ,\n",
       "       138904.07900746, 198637.27546553, 371581.96698933, 332566.40364103,\n",
       "       307285.79911246, 181882.69894567,  77323.06469107,  90607.91506694,\n",
       "       252917.74595067, 110723.45927849, 221997.1181338 , 174227.71420971,\n",
       "       175246.11770857, 173293.92158159, 155146.51233743, 171293.39779444,\n",
       "       154387.31043214, 143039.55452289, 194319.96042746, 212035.82413781,\n",
       "       325388.03881098, 120844.31192916, 184012.30182684, 408248.76820789,\n",
       "       220691.72465381, 339373.65942603, 144324.50571752, 138883.83025833,\n",
       "       148091.87282659, 107077.27685058, 207968.54072499, 121168.50674655,\n",
       "       131867.41744352, 192308.16224161, 202466.73800583, 221869.73967922,\n",
       "       300997.76543968, 115279.49788871, 125643.00081919, 154491.74015464,\n",
       "       122009.5304963 , 151500.3810655 , 126665.16699493, 180507.98989461,\n",
       "       104468.90958231, 227545.11924318, 270099.81253628, 235796.67456066,\n",
       "       138154.02818359, 154123.22600074, 132499.30949765, 156758.59838993,\n",
       "        88315.03466433, 216365.72969965, 256162.0624934 , 139830.24405064,\n",
       "       168635.7911741 , 167163.04420387,  97834.31825535, 136255.08619828,\n",
       "       210603.70334492,  91835.41695408, 125280.89530128, 165871.48584651,\n",
       "       129105.53442018, 373698.87299808, 193117.52269324,  85776.33701793,\n",
       "       129975.13221201, 165206.88451299, 290356.37441165, 191532.0857235 ,\n",
       "       156146.67273064,  91625.65657358, 244278.71194057, 199127.51863769,\n",
       "       202539.50041843, 126899.93806831, 300475.52617424, 192524.62120252,\n",
       "       167407.93559151, 144941.36757773, 109986.13087497, 177035.375598  ,\n",
       "       187289.79316027, 244962.57939553, 155753.00556854, 477832.34063745,\n",
       "        81195.16907091, 150339.08262124, 137802.58389517, 101384.93065689,\n",
       "       244697.54685733, 232705.73579911, 217028.10605711, 242059.67256725,\n",
       "       150037.75967702, 170652.28598017, 163331.16394004, 107477.32894477,\n",
       "       165782.00603829,  95819.29478508, 269539.97045516, 188741.70598397,\n",
       "       122094.11933437,  88438.05028455, 165756.26689298, 164502.62147846,\n",
       "       285804.36923688,  95626.36231574, 295450.64115107, 219371.01484591,\n",
       "       392729.32662663, 152711.75183078,  71719.68904896, 250161.37961644,\n",
       "       131469.58808997, 215094.82574258, 160626.44032801, 143464.7041562 ,\n",
       "       133059.14319558, 123980.50446036, 155329.81518264, 230528.21469233,\n",
       "       117940.91579294, 171237.80746475, 139726.73578168, 128172.046852  ,\n",
       "       126362.4356485 , 139982.50016385, 142762.38173999, 226769.07708497,\n",
       "       273461.70106105, 142469.54381044, 423824.51286953, 109286.86299542,\n",
       "       197721.53571022, 142587.70522944,  88198.70627571, 156917.88013338,\n",
       "       271259.58488497, 131754.17173095, 143483.68996417, 103032.94576217,\n",
       "       135552.70998957, 157694.46704752, 186173.81099613, 277142.94296122,\n",
       "       216073.0039046 ,  82709.85282338, 131451.29007243, 238671.34292775,\n",
       "        97612.9486253 , 239810.00547765, 122109.29314102, 257305.63818639,\n",
       "       192582.94152073, 123497.86419068, 172116.19636607, 110325.5834827 ,\n",
       "       140302.64213851, 268352.97195769,  80556.13720619, 192711.44385873,\n",
       "       199457.05167963, 174835.68531988, 203072.68599746, 135071.7560167 ,\n",
       "       120445.15083456, 235127.71606597, 140052.32710923, 138472.95292632,\n",
       "       140399.39684765, 154362.87455508, 114011.61166469, 308771.86818433,\n",
       "       324473.75671097,  99677.99058759, 114990.05647237, 187863.57403228,\n",
       "       279640.46904006, 126153.71707084, 109804.60224423, 184471.21020467,\n",
       "       203239.64765385, 463835.55236412, 162991.05797774, 124618.78857481,\n",
       "       219546.83973899,  90759.78380988, 163446.87671984, 137997.6059935 ,\n",
       "       172869.89531101, 111845.19330404, 487678.79420973, 265189.62074664,\n",
       "       138453.79796066, 407228.90800321, 129546.32464943, 130637.76744327,\n",
       "       153782.5783803 , 200867.40887593, 409142.64538913, 128425.22950117,\n",
       "       169764.24873694, 344646.13508274, 156610.12786198, 206045.20561852,\n",
       "       125728.18734805, 215746.11466141, 122974.31150549, 146055.00717668,\n",
       "       204877.06852557, 153225.92550117, 135357.88499548, 149733.909294  ,\n",
       "       110719.38026155, 185465.32365751, 210552.17975244,  96276.66848325,\n",
       "       147734.74627027])"
      ]
     },
     "execution_count": 26,
     "metadata": {},
     "output_type": "execute_result"
    }
   ],
   "source": [
    "y_preds2 = gs2.predict(X_test_filled)\n",
    "y_preds2"
   ]
  },
  {
   "cell_type": "code",
   "execution_count": 27,
   "metadata": {},
   "outputs": [
    {
     "data": {
      "text/plain": [
       "(513,)"
      ]
     },
     "execution_count": 27,
     "metadata": {},
     "output_type": "execute_result"
    }
   ],
   "source": [
    "y_preds2.shape"
   ]
  },
  {
   "cell_type": "code",
   "execution_count": 28,
   "metadata": {},
   "outputs": [
    {
     "name": "stderr",
     "output_type": "stream",
     "text": [
      "/opt/anaconda3/lib/python3.9/site-packages/sklearn/linear_model/_coordinate_descent.py:647: ConvergenceWarning: Objective did not converge. You might want to increase the number of iterations, check the scale of the features or consider increasing regularisation. Duality gap: 3.396e+11, tolerance: 3.136e+08\n",
      "  model = cd_fast.enet_coordinate_descent(\n"
     ]
    },
    {
     "data": {
      "text/html": [
       "<style>#sk-801f33e3-6aa2-4638-9ef4-bf49300f90b7 {color: black;background-color: white;}#sk-801f33e3-6aa2-4638-9ef4-bf49300f90b7 pre{padding: 0;}#sk-801f33e3-6aa2-4638-9ef4-bf49300f90b7 div.sk-toggleable {background-color: white;}#sk-801f33e3-6aa2-4638-9ef4-bf49300f90b7 label.sk-toggleable__label {cursor: pointer;display: block;width: 100%;margin-bottom: 0;padding: 0.3em;box-sizing: border-box;text-align: center;}#sk-801f33e3-6aa2-4638-9ef4-bf49300f90b7 label.sk-toggleable__label-arrow:before {content: \"▸\";float: left;margin-right: 0.25em;color: #696969;}#sk-801f33e3-6aa2-4638-9ef4-bf49300f90b7 label.sk-toggleable__label-arrow:hover:before {color: black;}#sk-801f33e3-6aa2-4638-9ef4-bf49300f90b7 div.sk-estimator:hover label.sk-toggleable__label-arrow:before {color: black;}#sk-801f33e3-6aa2-4638-9ef4-bf49300f90b7 div.sk-toggleable__content {max-height: 0;max-width: 0;overflow: hidden;text-align: left;background-color: #f0f8ff;}#sk-801f33e3-6aa2-4638-9ef4-bf49300f90b7 div.sk-toggleable__content pre {margin: 0.2em;color: black;border-radius: 0.25em;background-color: #f0f8ff;}#sk-801f33e3-6aa2-4638-9ef4-bf49300f90b7 input.sk-toggleable__control:checked~div.sk-toggleable__content {max-height: 200px;max-width: 100%;overflow: auto;}#sk-801f33e3-6aa2-4638-9ef4-bf49300f90b7 input.sk-toggleable__control:checked~label.sk-toggleable__label-arrow:before {content: \"▾\";}#sk-801f33e3-6aa2-4638-9ef4-bf49300f90b7 div.sk-estimator input.sk-toggleable__control:checked~label.sk-toggleable__label {background-color: #d4ebff;}#sk-801f33e3-6aa2-4638-9ef4-bf49300f90b7 div.sk-label input.sk-toggleable__control:checked~label.sk-toggleable__label {background-color: #d4ebff;}#sk-801f33e3-6aa2-4638-9ef4-bf49300f90b7 input.sk-hidden--visually {border: 0;clip: rect(1px 1px 1px 1px);clip: rect(1px, 1px, 1px, 1px);height: 1px;margin: -1px;overflow: hidden;padding: 0;position: absolute;width: 1px;}#sk-801f33e3-6aa2-4638-9ef4-bf49300f90b7 div.sk-estimator {font-family: monospace;background-color: #f0f8ff;border: 1px dotted black;border-radius: 0.25em;box-sizing: border-box;margin-bottom: 0.5em;}#sk-801f33e3-6aa2-4638-9ef4-bf49300f90b7 div.sk-estimator:hover {background-color: #d4ebff;}#sk-801f33e3-6aa2-4638-9ef4-bf49300f90b7 div.sk-parallel-item::after {content: \"\";width: 100%;border-bottom: 1px solid gray;flex-grow: 1;}#sk-801f33e3-6aa2-4638-9ef4-bf49300f90b7 div.sk-label:hover label.sk-toggleable__label {background-color: #d4ebff;}#sk-801f33e3-6aa2-4638-9ef4-bf49300f90b7 div.sk-serial::before {content: \"\";position: absolute;border-left: 1px solid gray;box-sizing: border-box;top: 2em;bottom: 0;left: 50%;}#sk-801f33e3-6aa2-4638-9ef4-bf49300f90b7 div.sk-serial {display: flex;flex-direction: column;align-items: center;background-color: white;padding-right: 0.2em;padding-left: 0.2em;}#sk-801f33e3-6aa2-4638-9ef4-bf49300f90b7 div.sk-item {z-index: 1;}#sk-801f33e3-6aa2-4638-9ef4-bf49300f90b7 div.sk-parallel {display: flex;align-items: stretch;justify-content: center;background-color: white;}#sk-801f33e3-6aa2-4638-9ef4-bf49300f90b7 div.sk-parallel::before {content: \"\";position: absolute;border-left: 1px solid gray;box-sizing: border-box;top: 2em;bottom: 0;left: 50%;}#sk-801f33e3-6aa2-4638-9ef4-bf49300f90b7 div.sk-parallel-item {display: flex;flex-direction: column;position: relative;background-color: white;}#sk-801f33e3-6aa2-4638-9ef4-bf49300f90b7 div.sk-parallel-item:first-child::after {align-self: flex-end;width: 50%;}#sk-801f33e3-6aa2-4638-9ef4-bf49300f90b7 div.sk-parallel-item:last-child::after {align-self: flex-start;width: 50%;}#sk-801f33e3-6aa2-4638-9ef4-bf49300f90b7 div.sk-parallel-item:only-child::after {width: 0;}#sk-801f33e3-6aa2-4638-9ef4-bf49300f90b7 div.sk-dashed-wrapped {border: 1px dashed gray;margin: 0 0.4em 0.5em 0.4em;box-sizing: border-box;padding-bottom: 0.4em;background-color: white;position: relative;}#sk-801f33e3-6aa2-4638-9ef4-bf49300f90b7 div.sk-label label {font-family: monospace;font-weight: bold;background-color: white;display: inline-block;line-height: 1.2em;}#sk-801f33e3-6aa2-4638-9ef4-bf49300f90b7 div.sk-label-container {position: relative;z-index: 2;text-align: center;}#sk-801f33e3-6aa2-4638-9ef4-bf49300f90b7 div.sk-container {/* jupyter's `normalize.less` sets `[hidden] { display: none; }` but bootstrap.min.css set `[hidden] { display: none !important; }` so we also need the `!important` here to be able to override the default hidden behavior on the sphinx rendered scikit-learn.org. See: https://github.com/scikit-learn/scikit-learn/issues/21755 */display: inline-block !important;position: relative;}#sk-801f33e3-6aa2-4638-9ef4-bf49300f90b7 div.sk-text-repr-fallback {display: none;}</style><div id=\"sk-801f33e3-6aa2-4638-9ef4-bf49300f90b7\" class=\"sk-top-container\"><div class=\"sk-text-repr-fallback\"><pre>Lasso(alpha=0.01)</pre><b>Please rerun this cell to show the HTML repr or trust the notebook.</b></div><div class=\"sk-container\" hidden><div class=\"sk-item\"><div class=\"sk-estimator sk-toggleable\"><input class=\"sk-toggleable__control sk-hidden--visually\" id=\"ab788ceb-284d-4a99-af64-d5ebec6f4964\" type=\"checkbox\" checked><label for=\"ab788ceb-284d-4a99-af64-d5ebec6f4964\" class=\"sk-toggleable__label sk-toggleable__label-arrow\">Lasso</label><div class=\"sk-toggleable__content\"><pre>Lasso(alpha=0.01)</pre></div></div></div></div></div>"
      ],
      "text/plain": [
       "Lasso(alpha=0.01)"
      ]
     },
     "execution_count": 28,
     "metadata": {},
     "output_type": "execute_result"
    }
   ],
   "source": [
    "lasso.fit(X_test_filled, y_test)"
   ]
  },
  {
   "cell_type": "code",
   "execution_count": 29,
   "metadata": {},
   "outputs": [
    {
     "data": {
      "text/plain": [
       "-103056.06534763327"
      ]
     },
     "execution_count": 29,
     "metadata": {},
     "output_type": "execute_result"
    }
   ],
   "source": [
    "lasso.intercept_"
   ]
  },
  {
   "cell_type": "code",
   "execution_count": 30,
   "metadata": {},
   "outputs": [
    {
     "data": {
      "text/plain": [
       "array([ 8.21650028e-01,  2.63182039e+04,  1.27853639e+01,  1.25847474e+01,\n",
       "       -1.73888040e+01,  9.01972417e+01,  6.39320811e+01, -5.43282297e+01,\n",
       "        1.24563154e+04,  1.37672623e+04,  6.38873176e+03, -3.04703744e+03,\n",
       "        2.61556411e+03,  4.71519287e+03,  1.30392102e+04,  8.57956769e+00,\n",
       "        4.57231750e+01,  5.52854139e+01,  9.07259284e+01])"
      ]
     },
     "execution_count": 30,
     "metadata": {},
     "output_type": "execute_result"
    }
   ],
   "source": [
    "lasso.coef_"
   ]
  },
  {
   "cell_type": "code",
   "execution_count": 31,
   "metadata": {},
   "outputs": [
    {
     "data": {
      "text/plain": [
       "4029.597954088015"
      ]
     },
     "execution_count": 31,
     "metadata": {},
     "output_type": "execute_result"
    }
   ],
   "source": [
    "lasso.coef_.mean()"
   ]
  },
  {
   "cell_type": "markdown",
   "metadata": {},
   "source": [
    "**Evaluation:**\n",
    "The Lasso model with gridsearchcv, pipeline, polynomial features have proved to be my best model yet. The RMSE on testing_filled data is $30,357 which is my lowest prediction yet. \n",
    "Increasing the number of features I have in this model has helped and with lasso, it has decreased the reduncy of features to help focus in on the ones that most important. Even the R^2 values for validation have been the highest yet.\n",
    "Lastly, the coefficients and intercept have shrunk to let me know lasso model is performing at a high level. "
   ]
  },
  {
   "cell_type": "code",
   "execution_count": 32,
   "metadata": {},
   "outputs": [
    {
     "data": {
      "text/plain": [
       "30357.529947301347"
      ]
     },
     "execution_count": 32,
     "metadata": {},
     "output_type": "execute_result"
    }
   ],
   "source": [
    "mean_squared_error(y_test, y_preds2, squared=False)"
   ]
  },
  {
   "cell_type": "code",
   "execution_count": 33,
   "metadata": {},
   "outputs": [],
   "source": [
    "testing['SalePrice'] = gs2_preds"
   ]
  },
  {
   "cell_type": "code",
   "execution_count": 34,
   "metadata": {},
   "outputs": [],
   "source": [
    "#Submit to Kaggle #$26,773\n",
    "\n",
    "testing[['Id', 'SalePrice']].to_csv('Gs_pipe2_Lasso.5F.csv', index=False)"
   ]
  },
  {
   "cell_type": "code",
   "execution_count": 35,
   "metadata": {},
   "outputs": [
    {
     "data": {
      "image/png": "[encoded data removed]",
      "text/plain": [
       "<Figure size 864x576 with 1 Axes>"
      ]
     },
     "metadata": {
      "needs_background": "light"
     },
     "output_type": "display_data"
    }
   ],
   "source": [
    "plt.figure(figsize = (12, 8))   \n",
    "\n",
    "plt.hist(y_preds2, color ='pink', bins=18, ec = 'black');\n",
    "\n",
    "plt.title('Lasso SalePrice Predictions');\n",
    "plt.xlabel('SalePrice')\n",
    "plt.ylabel('Count');"
   ]
  },
  {
   "cell_type": "code",
   "execution_count": null,
   "metadata": {},
   "outputs": [],
   "source": []
  }
 ],
 "metadata": {
  "interpreter": {
   "hash": "40d3a090f54c6569ab1632332b64b2c03c39dcf918b08424e98f38b5ae0af88f"
  },
  "kernelspec": {
   "display_name": "Python 3.9.7 64-bit ('base': conda)",
   "language": "python",
   "name": "python3"
  },
  "language_info": {
   "codemirror_mode": {
    "name": "ipython",
    "version": 3
   },
   "file_extension": ".py",
   "mimetype": "text/x-python",
   "name": "python",
   "nbconvert_exporter": "python",
   "pygments_lexer": "ipython3",
   "version": "3.9.7"
  },
  "orig_nbformat": 4
 },
 "nbformat": 4,
 "nbformat_minor": 2
}
