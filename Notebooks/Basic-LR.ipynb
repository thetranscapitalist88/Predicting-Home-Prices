{
 "cells": [
  {
   "cell_type": "markdown",
   "metadata": {},
   "source": [
    "# Linear Regression Model"
   ]
  },
  {
   "cell_type": "markdown",
   "metadata": {},
   "source": [
    "# DataFrame Imports"
   ]
  },
  {
   "cell_type": "markdown",
   "metadata": {},
   "source": [
    "This notebook contains a basic linear regression. \n",
    "\n",
    "You will see the data cleaning, exploratory data analysis (EDA), preporcessing, modeling, and lastly evulation to submit to the Kaggle Competition. \n",
    "\n",
    "*Linear Regression will be referred to as 'lr','linreg', or 'LR throughout the text"
   ]
  },
  {
   "cell_type": "code",
   "execution_count": 8,
   "metadata": {},
   "outputs": [],
   "source": [
    "#First import the Libraries & tools needed to comeplete the Linear Regression\n",
    "\n",
    "import pandas as pd\n",
    "import numpy as np\n",
    "import matplotlib.pyplot as plt\n",
    "import seaborn as sns\n",
    "\n",
    "from sklearn.linear_model import LinearRegression\n",
    "from sklearn.linear_model import Ridge, Lasso, ElasticNet, LassoCV, RidgeCV\n",
    "from sklearn.metrics import mean_squared_error, mean_absolute_error, r2_score\n",
    "from sklearn.model_selection import train_test_split, GridSearchCV, cross_val_score, cross_val_predict\n",
    "from sklearn.preprocessing import OneHotEncoder, StandardScaler, PolynomialFeatures\n",
    "from sklearn.compose import make_column_transformer\n",
    "\n",
    "from sklearn.pipeline import Pipeline, make_pipeline\n",
    "from sklearn.neighbors import KNeighborsClassifier\n",
    "from sklearn.feature_selection import RFE\n",
    "from sklearn.impute import SimpleImputer\n"
   ]
  },
  {
   "cell_type": "code",
   "execution_count": 9,
   "metadata": {},
   "outputs": [
    {
     "data": {
      "text/html": [
       "<div>\n",
       "<style scoped>\n",
       "    .dataframe tbody tr th:only-of-type {\n",
       "        vertical-align: middle;\n",
       "    }\n",
       "\n",
       "    .dataframe tbody tr th {\n",
       "        vertical-align: top;\n",
       "    }\n",
       "\n",
       "    .dataframe thead th {\n",
       "        text-align: right;\n",
       "    }\n",
       "</style>\n",
       "<table border=\"1\" class=\"dataframe\">\n",
       "  <thead>\n",
       "    <tr style=\"text-align: right;\">\n",
       "      <th></th>\n",
       "      <th>Id</th>\n",
       "      <th>PID</th>\n",
       "      <th>MS SubClass</th>\n",
       "      <th>MS Zoning</th>\n",
       "      <th>Lot Frontage</th>\n",
       "      <th>Lot Area</th>\n",
       "      <th>Street</th>\n",
       "      <th>Alley</th>\n",
       "      <th>Lot Shape</th>\n",
       "      <th>Land Contour</th>\n",
       "      <th>...</th>\n",
       "      <th>Screen Porch</th>\n",
       "      <th>Pool Area</th>\n",
       "      <th>Pool QC</th>\n",
       "      <th>Fence</th>\n",
       "      <th>Misc Feature</th>\n",
       "      <th>Misc Val</th>\n",
       "      <th>Mo Sold</th>\n",
       "      <th>Yr Sold</th>\n",
       "      <th>Sale Type</th>\n",
       "      <th>SalePrice</th>\n",
       "    </tr>\n",
       "  </thead>\n",
       "  <tbody>\n",
       "    <tr>\n",
       "      <th>0</th>\n",
       "      <td>109</td>\n",
       "      <td>533352170</td>\n",
       "      <td>60</td>\n",
       "      <td>RL</td>\n",
       "      <td>NaN</td>\n",
       "      <td>13517</td>\n",
       "      <td>Pave</td>\n",
       "      <td>NaN</td>\n",
       "      <td>IR1</td>\n",
       "      <td>Lvl</td>\n",
       "      <td>...</td>\n",
       "      <td>0</td>\n",
       "      <td>0</td>\n",
       "      <td>NaN</td>\n",
       "      <td>NaN</td>\n",
       "      <td>NaN</td>\n",
       "      <td>0</td>\n",
       "      <td>3</td>\n",
       "      <td>2010</td>\n",
       "      <td>WD</td>\n",
       "      <td>130500</td>\n",
       "    </tr>\n",
       "    <tr>\n",
       "      <th>1</th>\n",
       "      <td>544</td>\n",
       "      <td>531379050</td>\n",
       "      <td>60</td>\n",
       "      <td>RL</td>\n",
       "      <td>43.0</td>\n",
       "      <td>11492</td>\n",
       "      <td>Pave</td>\n",
       "      <td>NaN</td>\n",
       "      <td>IR1</td>\n",
       "      <td>Lvl</td>\n",
       "      <td>...</td>\n",
       "      <td>0</td>\n",
       "      <td>0</td>\n",
       "      <td>NaN</td>\n",
       "      <td>NaN</td>\n",
       "      <td>NaN</td>\n",
       "      <td>0</td>\n",
       "      <td>4</td>\n",
       "      <td>2009</td>\n",
       "      <td>WD</td>\n",
       "      <td>220000</td>\n",
       "    </tr>\n",
       "    <tr>\n",
       "      <th>2</th>\n",
       "      <td>153</td>\n",
       "      <td>535304180</td>\n",
       "      <td>20</td>\n",
       "      <td>RL</td>\n",
       "      <td>68.0</td>\n",
       "      <td>7922</td>\n",
       "      <td>Pave</td>\n",
       "      <td>NaN</td>\n",
       "      <td>Reg</td>\n",
       "      <td>Lvl</td>\n",
       "      <td>...</td>\n",
       "      <td>0</td>\n",
       "      <td>0</td>\n",
       "      <td>NaN</td>\n",
       "      <td>NaN</td>\n",
       "      <td>NaN</td>\n",
       "      <td>0</td>\n",
       "      <td>1</td>\n",
       "      <td>2010</td>\n",
       "      <td>WD</td>\n",
       "      <td>109000</td>\n",
       "    </tr>\n",
       "    <tr>\n",
       "      <th>3</th>\n",
       "      <td>318</td>\n",
       "      <td>916386060</td>\n",
       "      <td>60</td>\n",
       "      <td>RL</td>\n",
       "      <td>73.0</td>\n",
       "      <td>9802</td>\n",
       "      <td>Pave</td>\n",
       "      <td>NaN</td>\n",
       "      <td>Reg</td>\n",
       "      <td>Lvl</td>\n",
       "      <td>...</td>\n",
       "      <td>0</td>\n",
       "      <td>0</td>\n",
       "      <td>NaN</td>\n",
       "      <td>NaN</td>\n",
       "      <td>NaN</td>\n",
       "      <td>0</td>\n",
       "      <td>4</td>\n",
       "      <td>2010</td>\n",
       "      <td>WD</td>\n",
       "      <td>174000</td>\n",
       "    </tr>\n",
       "    <tr>\n",
       "      <th>4</th>\n",
       "      <td>255</td>\n",
       "      <td>906425045</td>\n",
       "      <td>50</td>\n",
       "      <td>RL</td>\n",
       "      <td>82.0</td>\n",
       "      <td>14235</td>\n",
       "      <td>Pave</td>\n",
       "      <td>NaN</td>\n",
       "      <td>IR1</td>\n",
       "      <td>Lvl</td>\n",
       "      <td>...</td>\n",
       "      <td>0</td>\n",
       "      <td>0</td>\n",
       "      <td>NaN</td>\n",
       "      <td>NaN</td>\n",
       "      <td>NaN</td>\n",
       "      <td>0</td>\n",
       "      <td>3</td>\n",
       "      <td>2010</td>\n",
       "      <td>WD</td>\n",
       "      <td>138500</td>\n",
       "    </tr>\n",
       "  </tbody>\n",
       "</table>\n",
       "<p>5 rows × 81 columns</p>\n",
       "</div>"
      ],
      "text/plain": [
       "    Id        PID  MS SubClass MS Zoning  Lot Frontage  Lot Area Street Alley  \\\n",
       "0  109  533352170           60        RL           NaN     13517   Pave   NaN   \n",
       "1  544  531379050           60        RL          43.0     11492   Pave   NaN   \n",
       "2  153  535304180           20        RL          68.0      7922   Pave   NaN   \n",
       "3  318  916386060           60        RL          73.0      9802   Pave   NaN   \n",
       "4  255  906425045           50        RL          82.0     14235   Pave   NaN   \n",
       "\n",
       "  Lot Shape Land Contour  ... Screen Porch Pool Area Pool QC Fence  \\\n",
       "0       IR1          Lvl  ...            0         0     NaN   NaN   \n",
       "1       IR1          Lvl  ...            0         0     NaN   NaN   \n",
       "2       Reg          Lvl  ...            0         0     NaN   NaN   \n",
       "3       Reg          Lvl  ...            0         0     NaN   NaN   \n",
       "4       IR1          Lvl  ...            0         0     NaN   NaN   \n",
       "\n",
       "  Misc Feature Misc Val Mo Sold Yr Sold  Sale Type  SalePrice  \n",
       "0          NaN        0       3    2010        WD      130500  \n",
       "1          NaN        0       4    2009        WD      220000  \n",
       "2          NaN        0       1    2010        WD      109000  \n",
       "3          NaN        0       4    2010        WD      174000  \n",
       "4          NaN        0       3    2010        WD      138500  \n",
       "\n",
       "[5 rows x 81 columns]"
      ]
     },
     "execution_count": 9,
     "metadata": {},
     "output_type": "execute_result"
    }
   ],
   "source": [
    "#Import the TRAINING data\n",
    "#Using .head() to see what columns exist and the values with inside\n",
    "\n",
    "training = pd.read_csv('/Users/khalildavis/Desktop/General Assembly Work/Submissions/Projects/Project 2 Final Submits/Data Sets/train.csv')\n",
    "training.head()"
   ]
  },
  {
   "cell_type": "code",
   "execution_count": 10,
   "metadata": {},
   "outputs": [
    {
     "data": {
      "text/html": [
       "<div>\n",
       "<style scoped>\n",
       "    .dataframe tbody tr th:only-of-type {\n",
       "        vertical-align: middle;\n",
       "    }\n",
       "\n",
       "    .dataframe tbody tr th {\n",
       "        vertical-align: top;\n",
       "    }\n",
       "\n",
       "    .dataframe thead th {\n",
       "        text-align: right;\n",
       "    }\n",
       "</style>\n",
       "<table border=\"1\" class=\"dataframe\">\n",
       "  <thead>\n",
       "    <tr style=\"text-align: right;\">\n",
       "      <th></th>\n",
       "      <th>Id</th>\n",
       "      <th>SalePrice</th>\n",
       "    </tr>\n",
       "  </thead>\n",
       "  <tbody>\n",
       "    <tr>\n",
       "      <th>0</th>\n",
       "      <td>2</td>\n",
       "      <td>181479.1217</td>\n",
       "    </tr>\n",
       "    <tr>\n",
       "      <th>1</th>\n",
       "      <td>4</td>\n",
       "      <td>181479.1217</td>\n",
       "    </tr>\n",
       "    <tr>\n",
       "      <th>2</th>\n",
       "      <td>6</td>\n",
       "      <td>181479.1217</td>\n",
       "    </tr>\n",
       "    <tr>\n",
       "      <th>3</th>\n",
       "      <td>7</td>\n",
       "      <td>181479.1217</td>\n",
       "    </tr>\n",
       "    <tr>\n",
       "      <th>4</th>\n",
       "      <td>17</td>\n",
       "      <td>181479.1217</td>\n",
       "    </tr>\n",
       "  </tbody>\n",
       "</table>\n",
       "</div>"
      ],
      "text/plain": [
       "   Id    SalePrice\n",
       "0   2  181479.1217\n",
       "1   4  181479.1217\n",
       "2   6  181479.1217\n",
       "3   7  181479.1217\n",
       "4  17  181479.1217"
      ]
     },
     "execution_count": 10,
     "metadata": {},
     "output_type": "execute_result"
    }
   ],
   "source": [
    "#The is to import the sample_sub data set.\n",
    "\n",
    "samplesub = pd.read_csv('/Users/khalildavis/Desktop/General Assembly Work/Submissions/Projects/Project 2 Final Submits/Data Sets/sample_sub_reg_origin.csv')\n",
    "samplesub.head()"
   ]
  },
  {
   "cell_type": "code",
   "execution_count": 11,
   "metadata": {},
   "outputs": [
    {
     "data": {
      "text/html": [
       "<div>\n",
       "<style scoped>\n",
       "    .dataframe tbody tr th:only-of-type {\n",
       "        vertical-align: middle;\n",
       "    }\n",
       "\n",
       "    .dataframe tbody tr th {\n",
       "        vertical-align: top;\n",
       "    }\n",
       "\n",
       "    .dataframe thead th {\n",
       "        text-align: right;\n",
       "    }\n",
       "</style>\n",
       "<table border=\"1\" class=\"dataframe\">\n",
       "  <thead>\n",
       "    <tr style=\"text-align: right;\">\n",
       "      <th></th>\n",
       "      <th>Id</th>\n",
       "      <th>PID</th>\n",
       "      <th>MS SubClass</th>\n",
       "      <th>MS Zoning</th>\n",
       "      <th>Lot Frontage</th>\n",
       "      <th>Lot Area</th>\n",
       "      <th>Street</th>\n",
       "      <th>Alley</th>\n",
       "      <th>Lot Shape</th>\n",
       "      <th>Land Contour</th>\n",
       "      <th>...</th>\n",
       "      <th>3Ssn Porch</th>\n",
       "      <th>Screen Porch</th>\n",
       "      <th>Pool Area</th>\n",
       "      <th>Pool QC</th>\n",
       "      <th>Fence</th>\n",
       "      <th>Misc Feature</th>\n",
       "      <th>Misc Val</th>\n",
       "      <th>Mo Sold</th>\n",
       "      <th>Yr Sold</th>\n",
       "      <th>Sale Type</th>\n",
       "    </tr>\n",
       "  </thead>\n",
       "  <tbody>\n",
       "    <tr>\n",
       "      <th>0</th>\n",
       "      <td>2658</td>\n",
       "      <td>902301120</td>\n",
       "      <td>190</td>\n",
       "      <td>RM</td>\n",
       "      <td>69.0</td>\n",
       "      <td>9142</td>\n",
       "      <td>Pave</td>\n",
       "      <td>Grvl</td>\n",
       "      <td>Reg</td>\n",
       "      <td>Lvl</td>\n",
       "      <td>...</td>\n",
       "      <td>0</td>\n",
       "      <td>0</td>\n",
       "      <td>0</td>\n",
       "      <td>NaN</td>\n",
       "      <td>NaN</td>\n",
       "      <td>NaN</td>\n",
       "      <td>0</td>\n",
       "      <td>4</td>\n",
       "      <td>2006</td>\n",
       "      <td>WD</td>\n",
       "    </tr>\n",
       "    <tr>\n",
       "      <th>1</th>\n",
       "      <td>2718</td>\n",
       "      <td>905108090</td>\n",
       "      <td>90</td>\n",
       "      <td>RL</td>\n",
       "      <td>NaN</td>\n",
       "      <td>9662</td>\n",
       "      <td>Pave</td>\n",
       "      <td>NaN</td>\n",
       "      <td>IR1</td>\n",
       "      <td>Lvl</td>\n",
       "      <td>...</td>\n",
       "      <td>0</td>\n",
       "      <td>0</td>\n",
       "      <td>0</td>\n",
       "      <td>NaN</td>\n",
       "      <td>NaN</td>\n",
       "      <td>NaN</td>\n",
       "      <td>0</td>\n",
       "      <td>8</td>\n",
       "      <td>2006</td>\n",
       "      <td>WD</td>\n",
       "    </tr>\n",
       "    <tr>\n",
       "      <th>2</th>\n",
       "      <td>2414</td>\n",
       "      <td>528218130</td>\n",
       "      <td>60</td>\n",
       "      <td>RL</td>\n",
       "      <td>58.0</td>\n",
       "      <td>17104</td>\n",
       "      <td>Pave</td>\n",
       "      <td>NaN</td>\n",
       "      <td>IR1</td>\n",
       "      <td>Lvl</td>\n",
       "      <td>...</td>\n",
       "      <td>0</td>\n",
       "      <td>0</td>\n",
       "      <td>0</td>\n",
       "      <td>NaN</td>\n",
       "      <td>NaN</td>\n",
       "      <td>NaN</td>\n",
       "      <td>0</td>\n",
       "      <td>9</td>\n",
       "      <td>2006</td>\n",
       "      <td>New</td>\n",
       "    </tr>\n",
       "    <tr>\n",
       "      <th>3</th>\n",
       "      <td>1989</td>\n",
       "      <td>902207150</td>\n",
       "      <td>30</td>\n",
       "      <td>RM</td>\n",
       "      <td>60.0</td>\n",
       "      <td>8520</td>\n",
       "      <td>Pave</td>\n",
       "      <td>NaN</td>\n",
       "      <td>Reg</td>\n",
       "      <td>Lvl</td>\n",
       "      <td>...</td>\n",
       "      <td>0</td>\n",
       "      <td>0</td>\n",
       "      <td>0</td>\n",
       "      <td>NaN</td>\n",
       "      <td>NaN</td>\n",
       "      <td>NaN</td>\n",
       "      <td>0</td>\n",
       "      <td>7</td>\n",
       "      <td>2007</td>\n",
       "      <td>WD</td>\n",
       "    </tr>\n",
       "    <tr>\n",
       "      <th>4</th>\n",
       "      <td>625</td>\n",
       "      <td>535105100</td>\n",
       "      <td>20</td>\n",
       "      <td>RL</td>\n",
       "      <td>NaN</td>\n",
       "      <td>9500</td>\n",
       "      <td>Pave</td>\n",
       "      <td>NaN</td>\n",
       "      <td>IR1</td>\n",
       "      <td>Lvl</td>\n",
       "      <td>...</td>\n",
       "      <td>0</td>\n",
       "      <td>185</td>\n",
       "      <td>0</td>\n",
       "      <td>NaN</td>\n",
       "      <td>NaN</td>\n",
       "      <td>NaN</td>\n",
       "      <td>0</td>\n",
       "      <td>7</td>\n",
       "      <td>2009</td>\n",
       "      <td>WD</td>\n",
       "    </tr>\n",
       "  </tbody>\n",
       "</table>\n",
       "<p>5 rows × 80 columns</p>\n",
       "</div>"
      ],
      "text/plain": [
       "     Id        PID  MS SubClass MS Zoning  Lot Frontage  Lot Area Street  \\\n",
       "0  2658  902301120          190        RM          69.0      9142   Pave   \n",
       "1  2718  905108090           90        RL           NaN      9662   Pave   \n",
       "2  2414  528218130           60        RL          58.0     17104   Pave   \n",
       "3  1989  902207150           30        RM          60.0      8520   Pave   \n",
       "4   625  535105100           20        RL           NaN      9500   Pave   \n",
       "\n",
       "  Alley Lot Shape Land Contour  ... 3Ssn Porch Screen Porch Pool Area Pool QC  \\\n",
       "0  Grvl       Reg          Lvl  ...          0            0         0     NaN   \n",
       "1   NaN       IR1          Lvl  ...          0            0         0     NaN   \n",
       "2   NaN       IR1          Lvl  ...          0            0         0     NaN   \n",
       "3   NaN       Reg          Lvl  ...          0            0         0     NaN   \n",
       "4   NaN       IR1          Lvl  ...          0          185         0     NaN   \n",
       "\n",
       "  Fence Misc Feature Misc Val Mo Sold  Yr Sold  Sale Type  \n",
       "0   NaN          NaN        0       4     2006        WD   \n",
       "1   NaN          NaN        0       8     2006        WD   \n",
       "2   NaN          NaN        0       9     2006        New  \n",
       "3   NaN          NaN        0       7     2007        WD   \n",
       "4   NaN          NaN        0       7     2009        WD   \n",
       "\n",
       "[5 rows x 80 columns]"
      ]
     },
     "execution_count": 11,
     "metadata": {},
     "output_type": "execute_result"
    }
   ],
   "source": [
    "# Import the TEST Data that is given\n",
    "\n",
    "testing = pd.read_csv('/Users/khalildavis/Desktop/General Assembly Work/Submissions/Projects/Project 2 Final Submits/Data Sets/test.csv')\n",
    "testing.head()\n"
   ]
  },
  {
   "cell_type": "code",
   "execution_count": 12,
   "metadata": {},
   "outputs": [
    {
     "data": {
      "text/plain": [
       "181469.70160897123"
      ]
     },
     "execution_count": 12,
     "metadata": {},
     "output_type": "execute_result"
    }
   ],
   "source": [
    "#Find the mean of the 'SalePrice' column on the traning (dateframe = df)\n",
    "##The baseline model for a Regression problem is taking the mean\n",
    "#Taking the mean of our y and predict that across the board \n",
    "#also the number to compare out predicted values too\n",
    "\n",
    "training['SalePrice'].mean()"
   ]
  },
  {
   "cell_type": "code",
   "execution_count": 13,
   "metadata": {},
   "outputs": [
    {
     "data": {
      "text/html": [
       "<div>\n",
       "<style scoped>\n",
       "    .dataframe tbody tr th:only-of-type {\n",
       "        vertical-align: middle;\n",
       "    }\n",
       "\n",
       "    .dataframe tbody tr th {\n",
       "        vertical-align: top;\n",
       "    }\n",
       "\n",
       "    .dataframe thead th {\n",
       "        text-align: right;\n",
       "    }\n",
       "</style>\n",
       "<table border=\"1\" class=\"dataframe\">\n",
       "  <thead>\n",
       "    <tr style=\"text-align: right;\">\n",
       "      <th></th>\n",
       "      <th>Id</th>\n",
       "      <th>PID</th>\n",
       "      <th>MS SubClass</th>\n",
       "      <th>MS Zoning</th>\n",
       "      <th>Lot Frontage</th>\n",
       "      <th>Lot Area</th>\n",
       "      <th>Street</th>\n",
       "      <th>Alley</th>\n",
       "      <th>Lot Shape</th>\n",
       "      <th>Land Contour</th>\n",
       "      <th>...</th>\n",
       "      <th>Screen Porch</th>\n",
       "      <th>Pool Area</th>\n",
       "      <th>Pool QC</th>\n",
       "      <th>Fence</th>\n",
       "      <th>Misc Feature</th>\n",
       "      <th>Misc Val</th>\n",
       "      <th>Mo Sold</th>\n",
       "      <th>Yr Sold</th>\n",
       "      <th>Sale Type</th>\n",
       "      <th>SalePrice</th>\n",
       "    </tr>\n",
       "  </thead>\n",
       "  <tbody>\n",
       "    <tr>\n",
       "      <th>0</th>\n",
       "      <td>2658</td>\n",
       "      <td>902301120</td>\n",
       "      <td>190</td>\n",
       "      <td>RM</td>\n",
       "      <td>69.0</td>\n",
       "      <td>9142</td>\n",
       "      <td>Pave</td>\n",
       "      <td>Grvl</td>\n",
       "      <td>Reg</td>\n",
       "      <td>Lvl</td>\n",
       "      <td>...</td>\n",
       "      <td>0</td>\n",
       "      <td>0</td>\n",
       "      <td>NaN</td>\n",
       "      <td>NaN</td>\n",
       "      <td>NaN</td>\n",
       "      <td>0</td>\n",
       "      <td>4</td>\n",
       "      <td>2006</td>\n",
       "      <td>WD</td>\n",
       "      <td>181469.701609</td>\n",
       "    </tr>\n",
       "    <tr>\n",
       "      <th>1</th>\n",
       "      <td>2718</td>\n",
       "      <td>905108090</td>\n",
       "      <td>90</td>\n",
       "      <td>RL</td>\n",
       "      <td>NaN</td>\n",
       "      <td>9662</td>\n",
       "      <td>Pave</td>\n",
       "      <td>NaN</td>\n",
       "      <td>IR1</td>\n",
       "      <td>Lvl</td>\n",
       "      <td>...</td>\n",
       "      <td>0</td>\n",
       "      <td>0</td>\n",
       "      <td>NaN</td>\n",
       "      <td>NaN</td>\n",
       "      <td>NaN</td>\n",
       "      <td>0</td>\n",
       "      <td>8</td>\n",
       "      <td>2006</td>\n",
       "      <td>WD</td>\n",
       "      <td>181469.701609</td>\n",
       "    </tr>\n",
       "    <tr>\n",
       "      <th>2</th>\n",
       "      <td>2414</td>\n",
       "      <td>528218130</td>\n",
       "      <td>60</td>\n",
       "      <td>RL</td>\n",
       "      <td>58.0</td>\n",
       "      <td>17104</td>\n",
       "      <td>Pave</td>\n",
       "      <td>NaN</td>\n",
       "      <td>IR1</td>\n",
       "      <td>Lvl</td>\n",
       "      <td>...</td>\n",
       "      <td>0</td>\n",
       "      <td>0</td>\n",
       "      <td>NaN</td>\n",
       "      <td>NaN</td>\n",
       "      <td>NaN</td>\n",
       "      <td>0</td>\n",
       "      <td>9</td>\n",
       "      <td>2006</td>\n",
       "      <td>New</td>\n",
       "      <td>181469.701609</td>\n",
       "    </tr>\n",
       "    <tr>\n",
       "      <th>3</th>\n",
       "      <td>1989</td>\n",
       "      <td>902207150</td>\n",
       "      <td>30</td>\n",
       "      <td>RM</td>\n",
       "      <td>60.0</td>\n",
       "      <td>8520</td>\n",
       "      <td>Pave</td>\n",
       "      <td>NaN</td>\n",
       "      <td>Reg</td>\n",
       "      <td>Lvl</td>\n",
       "      <td>...</td>\n",
       "      <td>0</td>\n",
       "      <td>0</td>\n",
       "      <td>NaN</td>\n",
       "      <td>NaN</td>\n",
       "      <td>NaN</td>\n",
       "      <td>0</td>\n",
       "      <td>7</td>\n",
       "      <td>2007</td>\n",
       "      <td>WD</td>\n",
       "      <td>181469.701609</td>\n",
       "    </tr>\n",
       "    <tr>\n",
       "      <th>4</th>\n",
       "      <td>625</td>\n",
       "      <td>535105100</td>\n",
       "      <td>20</td>\n",
       "      <td>RL</td>\n",
       "      <td>NaN</td>\n",
       "      <td>9500</td>\n",
       "      <td>Pave</td>\n",
       "      <td>NaN</td>\n",
       "      <td>IR1</td>\n",
       "      <td>Lvl</td>\n",
       "      <td>...</td>\n",
       "      <td>185</td>\n",
       "      <td>0</td>\n",
       "      <td>NaN</td>\n",
       "      <td>NaN</td>\n",
       "      <td>NaN</td>\n",
       "      <td>0</td>\n",
       "      <td>7</td>\n",
       "      <td>2009</td>\n",
       "      <td>WD</td>\n",
       "      <td>181469.701609</td>\n",
       "    </tr>\n",
       "  </tbody>\n",
       "</table>\n",
       "<p>5 rows × 81 columns</p>\n",
       "</div>"
      ],
      "text/plain": [
       "     Id        PID  MS SubClass MS Zoning  Lot Frontage  Lot Area Street  \\\n",
       "0  2658  902301120          190        RM          69.0      9142   Pave   \n",
       "1  2718  905108090           90        RL           NaN      9662   Pave   \n",
       "2  2414  528218130           60        RL          58.0     17104   Pave   \n",
       "3  1989  902207150           30        RM          60.0      8520   Pave   \n",
       "4   625  535105100           20        RL           NaN      9500   Pave   \n",
       "\n",
       "  Alley Lot Shape Land Contour  ... Screen Porch Pool Area Pool QC Fence  \\\n",
       "0  Grvl       Reg          Lvl  ...            0         0     NaN   NaN   \n",
       "1   NaN       IR1          Lvl  ...            0         0     NaN   NaN   \n",
       "2   NaN       IR1          Lvl  ...            0         0     NaN   NaN   \n",
       "3   NaN       Reg          Lvl  ...            0         0     NaN   NaN   \n",
       "4   NaN       IR1          Lvl  ...          185         0     NaN   NaN   \n",
       "\n",
       "  Misc Feature Misc Val Mo Sold Yr Sold  Sale Type      SalePrice  \n",
       "0          NaN        0       4    2006        WD   181469.701609  \n",
       "1          NaN        0       8    2006        WD   181469.701609  \n",
       "2          NaN        0       9    2006        New  181469.701609  \n",
       "3          NaN        0       7    2007        WD   181469.701609  \n",
       "4          NaN        0       7    2009        WD   181469.701609  \n",
       "\n",
       "[5 rows x 81 columns]"
      ]
     },
     "execution_count": 13,
     "metadata": {},
     "output_type": "execute_result"
    }
   ],
   "source": [
    "#Add the mean saleprice column to the testing dataset column\n",
    "\n",
    "testing['SalePrice'] = training['SalePrice'].mean()\n",
    "testing.head()\n",
    "\n",
    "#succesful column add as we can see the 'SalePrice' at the end"
   ]
  },
  {
   "cell_type": "code",
   "execution_count": 14,
   "metadata": {},
   "outputs": [
    {
     "data": {
      "text/html": [
       "<div>\n",
       "<style scoped>\n",
       "    .dataframe tbody tr th:only-of-type {\n",
       "        vertical-align: middle;\n",
       "    }\n",
       "\n",
       "    .dataframe tbody tr th {\n",
       "        vertical-align: top;\n",
       "    }\n",
       "\n",
       "    .dataframe thead th {\n",
       "        text-align: right;\n",
       "    }\n",
       "</style>\n",
       "<table border=\"1\" class=\"dataframe\">\n",
       "  <thead>\n",
       "    <tr style=\"text-align: right;\">\n",
       "      <th></th>\n",
       "      <th>Id</th>\n",
       "      <th>SalePrice</th>\n",
       "    </tr>\n",
       "  </thead>\n",
       "  <tbody>\n",
       "    <tr>\n",
       "      <th>0</th>\n",
       "      <td>2658</td>\n",
       "      <td>181469.701609</td>\n",
       "    </tr>\n",
       "    <tr>\n",
       "      <th>1</th>\n",
       "      <td>2718</td>\n",
       "      <td>181469.701609</td>\n",
       "    </tr>\n",
       "    <tr>\n",
       "      <th>2</th>\n",
       "      <td>2414</td>\n",
       "      <td>181469.701609</td>\n",
       "    </tr>\n",
       "    <tr>\n",
       "      <th>3</th>\n",
       "      <td>1989</td>\n",
       "      <td>181469.701609</td>\n",
       "    </tr>\n",
       "    <tr>\n",
       "      <th>4</th>\n",
       "      <td>625</td>\n",
       "      <td>181469.701609</td>\n",
       "    </tr>\n",
       "    <tr>\n",
       "      <th>...</th>\n",
       "      <td>...</td>\n",
       "      <td>...</td>\n",
       "    </tr>\n",
       "    <tr>\n",
       "      <th>873</th>\n",
       "      <td>1662</td>\n",
       "      <td>181469.701609</td>\n",
       "    </tr>\n",
       "    <tr>\n",
       "      <th>874</th>\n",
       "      <td>1234</td>\n",
       "      <td>181469.701609</td>\n",
       "    </tr>\n",
       "    <tr>\n",
       "      <th>875</th>\n",
       "      <td>1373</td>\n",
       "      <td>181469.701609</td>\n",
       "    </tr>\n",
       "    <tr>\n",
       "      <th>876</th>\n",
       "      <td>1672</td>\n",
       "      <td>181469.701609</td>\n",
       "    </tr>\n",
       "    <tr>\n",
       "      <th>877</th>\n",
       "      <td>1939</td>\n",
       "      <td>181469.701609</td>\n",
       "    </tr>\n",
       "  </tbody>\n",
       "</table>\n",
       "<p>878 rows × 2 columns</p>\n",
       "</div>"
      ],
      "text/plain": [
       "       Id      SalePrice\n",
       "0    2658  181469.701609\n",
       "1    2718  181469.701609\n",
       "2    2414  181469.701609\n",
       "3    1989  181469.701609\n",
       "4     625  181469.701609\n",
       "..    ...            ...\n",
       "873  1662  181469.701609\n",
       "874  1234  181469.701609\n",
       "875  1373  181469.701609\n",
       "876  1672  181469.701609\n",
       "877  1939  181469.701609\n",
       "\n",
       "[878 rows x 2 columns]"
      ]
     },
     "execution_count": 14,
     "metadata": {},
     "output_type": "execute_result"
    }
   ],
   "source": [
    "#To make a new data frame of ONLY Id & SalePrice of the testing data set \n",
    "# Can use the double brackets to isolate both columns\n",
    "#This is an example of what our evaluation model will need to look like\n",
    "\n",
    "testing[['Id', 'SalePrice']]"
   ]
  },
  {
   "cell_type": "markdown",
   "metadata": {},
   "source": [
    "# EDA"
   ]
  },
  {
   "cell_type": "code",
   "execution_count": 15,
   "metadata": {},
   "outputs": [
    {
     "data": {
      "image/png": "[encoded data removed]",
      "text/plain": [
       "<Figure size 432x288 with 2 Axes>"
      ]
     },
     "metadata": {
      "needs_background": "light"
     },
     "output_type": "display_data"
    }
   ],
   "source": [
    "#See correlation model of the training set to help choose with features to try in the model\n",
    "\n",
    "sns.heatmap(training.corr());\n",
    "\n"
   ]
  },
  {
   "cell_type": "markdown",
   "metadata": {},
   "source": [
    "Using the matrix correlation above, to find the features that have correlation to one another to have a high chance of predicting sale prices with low chances of error. The lighter the color, the higher the correlation.\n",
    "\n",
    "These are the features I would like to try first, then increase or decrease as I go along according to the data.\n",
    "\n",
    "Lot Area, BsmtFin SF 1 , 1st Flr SF, 2nd Flr SF, Full Bath, \n",
    "Garage Area, Bedroom AbvGr, Kitchen AbvGr, Wood Deck SF, \n",
    "Open Porch SF, Pool Area\n",
    "\n",
    "\n",
    "Side Note: I want to try Catergorical columns number 40-43, 16, 17, 28-29 in future models"
   ]
  },
  {
   "cell_type": "code",
   "execution_count": 16,
   "metadata": {},
   "outputs": [
    {
     "data": {
      "image/png": "[encoded data removed]",
      "text/plain": [
       "<Figure size 720x720 with 2 Axes>"
      ]
     },
     "metadata": {
      "needs_background": "light"
     },
     "output_type": "display_data"
    }
   ],
   "source": [
    "#Create a correlation Matrix for the features, to have a better view.\n",
    "\n",
    "mask = np.zeros_like(training.corr())\n",
    "mask[np.triu_indices_from(mask)] = True\n",
    "\n",
    "plt.figure(figsize=(10, 10))\n",
    "sns.heatmap(\n",
    "    training.corr(),\n",
    "    cmap='coolwarm',\n",
    "    annot=False,\n",
    "    mask=mask,\n",
    "    vmin=-1.,\n",
    "    vmax=1.,\n",
    "    linewidths=.1,\n",
    "    center=0\n",
    ")\n",
    "\n",
    "plt.title('Training Correlation matrix'); \n",
    "\n"
   ]
  },
  {
   "cell_type": "markdown",
   "metadata": {},
   "source": [
    "Once I have choosen the features I would like to use, I start to prepare for the Train_Test_Split by stating my X and y.\n",
    "\n",
    "The X contains the features I am trying out. The y will always be the 'Sale Price' because that is what we are trying to predict for the city of Ames, IA."
   ]
  },
  {
   "cell_type": "code",
   "execution_count": 17,
   "metadata": {},
   "outputs": [],
   "source": [
    "#Establish our X & y for train-test-split (tts)\n",
    "\n",
    "X = training[['Lot Area', 'BsmtFin SF 1' , '1st Flr SF', \n",
    "'2nd Flr SF', 'Full Bath', 'Garage Area', \n",
    "'Bedroom AbvGr', 'Kitchen AbvGr', 'Wood Deck SF', \n",
    "'Open Porch SF', 'Pool Area']]\n",
    "\n",
    "y = training['SalePrice']"
   ]
  },
  {
   "cell_type": "code",
   "execution_count": 18,
   "metadata": {},
   "outputs": [],
   "source": [
    "#Performed 'tts' with random state to have continous numbers through out the models\n",
    "\n",
    "X_train, X_test, y_train, y_test = train_test_split(X, y, random_state=444)"
   ]
  },
  {
   "cell_type": "markdown",
   "metadata": {},
   "source": [
    "# Data Cleaning & Preprocessing"
   ]
  },
  {
   "cell_type": "markdown",
   "metadata": {},
   "source": [
    "To clean the data to use within the tts, I will be using Simple Imputer to help filling in missing data cells within the training and testing data sets. \n",
    "\n",
    "Since its a basic LR, I have choosen the strategy='mean' because majority of the features I am starting with a numeric. If the features were catergorical, I would have choosen strategy='most_frequent' aka the mode. "
   ]
  },
  {
   "cell_type": "code",
   "execution_count": 19,
   "metadata": {},
   "outputs": [],
   "source": [
    "#Imported SimpleImputer to fill missive values by 'mean'\n",
    "#Instantiating the Simpe Imputer\n",
    "\n",
    "si = SimpleImputer(strategy='mean')"
   ]
  },
  {
   "cell_type": "code",
   "execution_count": 20,
   "metadata": {},
   "outputs": [],
   "source": [
    "#Fit & transform Simple Imputer to the training data\n",
    "\n",
    "X_train_filled = si.fit_transform(X_train, y_train)"
   ]
  },
  {
   "cell_type": "code",
   "execution_count": 21,
   "metadata": {},
   "outputs": [],
   "source": [
    "#Only transform the testing set\n",
    "\n",
    "X_test_filled = si.transform(X_test)"
   ]
  },
  {
   "cell_type": "code",
   "execution_count": 22,
   "metadata": {},
   "outputs": [
    {
     "data": {
      "text/html": [
       "<div>\n",
       "<style scoped>\n",
       "    .dataframe tbody tr th:only-of-type {\n",
       "        vertical-align: middle;\n",
       "    }\n",
       "\n",
       "    .dataframe tbody tr th {\n",
       "        vertical-align: top;\n",
       "    }\n",
       "\n",
       "    .dataframe thead th {\n",
       "        text-align: right;\n",
       "    }\n",
       "</style>\n",
       "<table border=\"1\" class=\"dataframe\">\n",
       "  <thead>\n",
       "    <tr style=\"text-align: right;\">\n",
       "      <th></th>\n",
       "      <th>Lot Area</th>\n",
       "      <th>BsmtFin SF 1</th>\n",
       "      <th>1st Flr SF</th>\n",
       "      <th>2nd Flr SF</th>\n",
       "      <th>Full Bath</th>\n",
       "      <th>Garage Area</th>\n",
       "      <th>Bedroom AbvGr</th>\n",
       "      <th>Kitchen AbvGr</th>\n",
       "      <th>Wood Deck SF</th>\n",
       "      <th>Open Porch SF</th>\n",
       "      <th>Pool Area</th>\n",
       "    </tr>\n",
       "  </thead>\n",
       "  <tbody>\n",
       "    <tr>\n",
       "      <th>0</th>\n",
       "      <td>12929.0</td>\n",
       "      <td>697.0</td>\n",
       "      <td>1081.0</td>\n",
       "      <td>0.0</td>\n",
       "      <td>1.0</td>\n",
       "      <td>401.0</td>\n",
       "      <td>3.0</td>\n",
       "      <td>1.0</td>\n",
       "      <td>36.0</td>\n",
       "      <td>82.0</td>\n",
       "      <td>0.0</td>\n",
       "    </tr>\n",
       "    <tr>\n",
       "      <th>1</th>\n",
       "      <td>2544.0</td>\n",
       "      <td>368.0</td>\n",
       "      <td>600.0</td>\n",
       "      <td>600.0</td>\n",
       "      <td>2.0</td>\n",
       "      <td>480.0</td>\n",
       "      <td>2.0</td>\n",
       "      <td>1.0</td>\n",
       "      <td>0.0</td>\n",
       "      <td>172.0</td>\n",
       "      <td>0.0</td>\n",
       "    </tr>\n",
       "    <tr>\n",
       "      <th>2</th>\n",
       "      <td>9170.0</td>\n",
       "      <td>698.0</td>\n",
       "      <td>1214.0</td>\n",
       "      <td>0.0</td>\n",
       "      <td>1.0</td>\n",
       "      <td>461.0</td>\n",
       "      <td>2.0</td>\n",
       "      <td>1.0</td>\n",
       "      <td>0.0</td>\n",
       "      <td>0.0</td>\n",
       "      <td>0.0</td>\n",
       "    </tr>\n",
       "    <tr>\n",
       "      <th>3</th>\n",
       "      <td>9100.0</td>\n",
       "      <td>0.0</td>\n",
       "      <td>779.0</td>\n",
       "      <td>0.0</td>\n",
       "      <td>1.0</td>\n",
       "      <td>308.0</td>\n",
       "      <td>2.0</td>\n",
       "      <td>1.0</td>\n",
       "      <td>0.0</td>\n",
       "      <td>0.0</td>\n",
       "      <td>0.0</td>\n",
       "    </tr>\n",
       "    <tr>\n",
       "      <th>4</th>\n",
       "      <td>8883.0</td>\n",
       "      <td>608.0</td>\n",
       "      <td>946.0</td>\n",
       "      <td>927.0</td>\n",
       "      <td>2.0</td>\n",
       "      <td>619.0</td>\n",
       "      <td>3.0</td>\n",
       "      <td>1.0</td>\n",
       "      <td>108.0</td>\n",
       "      <td>48.0</td>\n",
       "      <td>0.0</td>\n",
       "    </tr>\n",
       "  </tbody>\n",
       "</table>\n",
       "</div>"
      ],
      "text/plain": [
       "   Lot Area  BsmtFin SF 1  1st Flr SF  2nd Flr SF  Full Bath  Garage Area  \\\n",
       "0   12929.0         697.0      1081.0         0.0        1.0        401.0   \n",
       "1    2544.0         368.0       600.0       600.0        2.0        480.0   \n",
       "2    9170.0         698.0      1214.0         0.0        1.0        461.0   \n",
       "3    9100.0           0.0       779.0         0.0        1.0        308.0   \n",
       "4    8883.0         608.0       946.0       927.0        2.0        619.0   \n",
       "\n",
       "   Bedroom AbvGr  Kitchen AbvGr  Wood Deck SF  Open Porch SF  Pool Area  \n",
       "0            3.0            1.0          36.0           82.0        0.0  \n",
       "1            2.0            1.0           0.0          172.0        0.0  \n",
       "2            2.0            1.0           0.0            0.0        0.0  \n",
       "3            2.0            1.0           0.0            0.0        0.0  \n",
       "4            3.0            1.0         108.0           48.0        0.0  "
      ]
     },
     "execution_count": 22,
     "metadata": {},
     "output_type": "execute_result"
    }
   ],
   "source": [
    "#Create a new data frame to keep the changes that have been made with the training and testing set.\n",
    "\n",
    "X_train_filled = pd.DataFrame(X_train_filled, columns=X_train.columns)\n",
    "X_train_filled.head()"
   ]
  },
  {
   "cell_type": "code",
   "execution_count": 23,
   "metadata": {},
   "outputs": [
    {
     "data": {
      "text/plain": [
       "Lot Area         0\n",
       "BsmtFin SF 1     0\n",
       "1st Flr SF       0\n",
       "2nd Flr SF       0\n",
       "Full Bath        0\n",
       "Garage Area      0\n",
       "Bedroom AbvGr    0\n",
       "Kitchen AbvGr    0\n",
       "Wood Deck SF     0\n",
       "Open Porch SF    0\n",
       "Pool Area        0\n",
       "dtype: int64"
      ]
     },
     "execution_count": 23,
     "metadata": {},
     "output_type": "execute_result"
    }
   ],
   "source": [
    "#To check if there are anymore missing values within the features\n",
    "#Using the method of .isna().sum()\n",
    "\n",
    "X_train_filled.isna().sum()"
   ]
  },
  {
   "cell_type": "code",
   "execution_count": 24,
   "metadata": {},
   "outputs": [
    {
     "data": {
      "text/plain": [
       "Lot Area         0\n",
       "BsmtFin SF 1     0\n",
       "1st Flr SF       0\n",
       "2nd Flr SF       0\n",
       "Full Bath        0\n",
       "Garage Area      0\n",
       "Bedroom AbvGr    0\n",
       "Kitchen AbvGr    0\n",
       "Wood Deck SF     0\n",
       "Open Porch SF    0\n",
       "Pool Area        0\n",
       "dtype: int64"
      ]
     },
     "execution_count": 24,
     "metadata": {},
     "output_type": "execute_result"
    }
   ],
   "source": [
    "#Treat the testing data of how I cleaned and treated the training\n",
    "\n",
    "testing[['Lot Area', 'BsmtFin SF 1' , '1st Flr SF', '2nd Flr SF', 'Full Bath', 'Garage Area', 'Bedroom AbvGr', 'Kitchen AbvGr', 'Wood Deck SF', \n",
    "'Open Porch SF', 'Pool Area']].isna().sum()"
   ]
  },
  {
   "cell_type": "markdown",
   "metadata": {},
   "source": [
    "# Modeling"
   ]
  },
  {
   "cell_type": "code",
   "execution_count": 25,
   "metadata": {},
   "outputs": [],
   "source": [
    "#Instantiating the LR model\n",
    "\n",
    "linreg = LinearRegression()"
   ]
  },
  {
   "cell_type": "code",
   "execution_count": 26,
   "metadata": {},
   "outputs": [
    {
     "data": {
      "text/plain": [
       "LinearRegression()"
      ]
     },
     "execution_count": 26,
     "metadata": {},
     "output_type": "execute_result"
    }
   ],
   "source": [
    "#Fitting the LR model on to the traning data\n",
    "\n",
    "linreg.fit(X_train_filled, y_train)"
   ]
  },
  {
   "cell_type": "code",
   "execution_count": 27,
   "metadata": {},
   "outputs": [
    {
     "data": {
      "text/plain": [
       "36214.54245032623"
      ]
     },
     "execution_count": 27,
     "metadata": {},
     "output_type": "execute_result"
    }
   ],
   "source": [
    "#Calculation for Beta0\n",
    "\n",
    "linreg.intercept_"
   ]
  },
  {
   "cell_type": "code",
   "execution_count": 28,
   "metadata": {},
   "outputs": [
    {
     "data": {
      "text/plain": [
       "array([ 9.77561554e-02,  2.92343878e+01,  1.03919638e+02,  7.63371844e+01,\n",
       "        2.22488121e+04,  8.27698336e+01, -1.27216491e+04, -5.24984912e+04,\n",
       "        2.24828613e+01,  5.01019496e+00, -1.06983612e+02])"
      ]
     },
     "execution_count": 28,
     "metadata": {},
     "output_type": "execute_result"
    }
   ],
   "source": [
    "#Calculation of Beta 1\n",
    "\n",
    "linreg.coef_"
   ]
  },
  {
   "cell_type": "code",
   "execution_count": 29,
   "metadata": {},
   "outputs": [
    {
     "data": {
      "text/plain": [
       "-3887.132726549535"
      ]
     },
     "execution_count": 29,
     "metadata": {},
     "output_type": "execute_result"
    }
   ],
   "source": [
    "#Mean of Betas\n",
    "linreg.coef_.mean()"
   ]
  },
  {
   "cell_type": "markdown",
   "metadata": {},
   "source": [
    "**Evaluation:**\n",
    "\n",
    "From the LR model, Beta0 is 36,214 in dollars while the mean of coefficients is $-3,887. This means for every one unit change in price of X, y will decrease in sale price. This is not a good model prediction because as time increases, the housing pricing will increase too."
   ]
  },
  {
   "cell_type": "markdown",
   "metadata": {},
   "source": [
    "# Evaulation & Conceptual Understanding"
   ]
  },
  {
   "cell_type": "code",
   "execution_count": 30,
   "metadata": {},
   "outputs": [
    {
     "name": "stderr",
     "output_type": "stream",
     "text": [
      "/opt/anaconda3/lib/python3.9/site-packages/sklearn/base.py:450: UserWarning: X does not have valid feature names, but LinearRegression was fitted with feature names\n",
      "  warnings.warn(\n"
     ]
    },
    {
     "data": {
      "text/plain": [
       "array([277859.41420435,  66490.52700536, 162409.76084905, 110989.55104356,\n",
       "       233801.92359119, 186879.11335026, 138102.71107099,  99130.33629666,\n",
       "       191706.88098617, 100765.18719657, 160312.53343732, 223222.28279744,\n",
       "       206812.14981349, 235119.34601369, 350339.11236155, 274216.89604452,\n",
       "       135241.1799912 , 286979.19426627, 299794.78995973, 196093.82325263,\n",
       "       170745.4972258 , 233239.32401968, 136069.95701309, 135563.57477078,\n",
       "       142295.21822767, 200556.17296032, 308067.82109034, 255856.13515173,\n",
       "       149556.76839354, 120560.89383743, 176513.58994775, 241815.36273706,\n",
       "       237815.92859661, 119538.1857586 , 193427.24043385, 124167.17346434,\n",
       "        92291.47160093, 277654.78891322, 212313.50166829,  97646.14434389,\n",
       "       188826.79970611, 124541.18119406, 146291.03670152,  63597.03840177,\n",
       "       196486.14147985, 243650.51786199, 135542.37881353, 130822.92902545,\n",
       "       239862.87249036, 125467.88674944, 131621.03226567, 331275.91779508,\n",
       "       158567.21187892,  98130.2804524 , 171583.03704986, 193061.77690849,\n",
       "       153315.01213492, 115695.90828478, 307663.03703888, 105002.19737867,\n",
       "       142853.21637124, 115879.43286537, 132487.10763702,  99078.54414419,\n",
       "       192087.49586011, 157467.36986477, 181468.1389279 , 139674.50312384,\n",
       "       157921.94991923, 109612.12373396, 132190.5219267 , 225696.41127741,\n",
       "       310687.15345351, 156890.2760706 , 277726.42323716, 100897.54564256,\n",
       "       250050.18069768, 229024.46883957, 189016.62773515, 184676.57637673,\n",
       "       152016.15286803, 125138.70750894, 280798.17339551, 194610.6614083 ,\n",
       "       374044.87938449, 149998.80393721, 127901.26893663, 190823.0687579 ,\n",
       "       117779.85982616, 164655.26087243, 103398.22504686, 179026.51580296,\n",
       "       350109.9237849 , 122486.16897556, 113895.24235219, 167222.07298868,\n",
       "       206740.09560665, 160048.39656431, 179163.44185826, 300566.31684731,\n",
       "       291629.76994904, 194396.34000515, 197950.14664827, 231656.94191031,\n",
       "       219858.78649674, 213091.47897375,  99564.02092629,  98087.8368587 ,\n",
       "       127672.98152953, 203683.89575784, 132836.53137669, 281912.08313237,\n",
       "        66511.55409505, 144240.24766985, 121170.52044582, 166990.21918968,\n",
       "       213610.47826315, 158671.40763139, 136876.01058087, 188061.1639907 ,\n",
       "        95655.31910364, 151692.35705456, 185859.22076209, 244985.67800538,\n",
       "       168826.23368927, 187054.59701351, 239283.3237989 , 204326.42125962,\n",
       "        95021.79583354, 207051.75434764, 273337.04497132, 196132.79823458,\n",
       "       235451.99062674, 120164.26725117, 128257.15562095, 277074.99459568,\n",
       "       136341.53693733, 148943.06514139, 220432.80458775, 252446.430208  ,\n",
       "       132176.9502131 , 169127.46158704, 178295.21528404, 179458.04707162,\n",
       "       139357.05512519,  99807.4427232 , 239655.33158849, 210735.6535065 ,\n",
       "       229607.75635674, 205571.97646513, 224864.13543635, 123106.2075163 ,\n",
       "       130221.06046437, 225308.24043174, 161872.4299512 , 195369.68064621,\n",
       "       184340.82300785, 195765.82819829, 147004.82557526, 203489.25910123,\n",
       "       105504.26263557, 214111.39437775, 142932.65353931, 187133.83225554,\n",
       "       219983.28848635, 321692.30988211, 269233.99462201, 138995.5629757 ,\n",
       "        86833.5312168 , 122972.16463884,  68189.38552472, 222427.90573106,\n",
       "       139650.16022119, 110197.21082293, 140469.11155512, 171117.34137846,\n",
       "       261464.76580093, 108756.65536086, 167025.41610529, 250031.15838945,\n",
       "       221083.15054323, 205184.48138546, 100204.36885968, 184450.16886795,\n",
       "       198819.44817725, 231693.16659453, 348637.25480511, 255644.70597421,\n",
       "       190738.49553518, 130528.3963945 , 125059.10631051,  90333.04061487,\n",
       "       156897.02273423, 340379.62394763, 223791.10331121, 157094.5569219 ,\n",
       "       260789.50908465, 121459.60250639, 137321.52445937, 156277.90426296,\n",
       "       217090.80409954, 118139.2183605 , 162277.49674618, 181547.72625624,\n",
       "       186841.93781006, 139063.83144194, 181976.76779885, 115581.73086179,\n",
       "       124398.25733791,  85792.00612321, 394905.24835072,  85437.99384448,\n",
       "       103487.98866871, 154204.54413663, 264584.37462447, 204112.88175535,\n",
       "       158596.73236305, 160480.85193875,  97662.15729172, 142281.64519887,\n",
       "       173664.13743617, 210328.04597039, 144848.33245842, 174379.12623933,\n",
       "       352386.23633046, 209221.5940516 , 176676.90008235, 224227.38924909,\n",
       "       204128.69273948, 161910.55804273, 222792.04453853, 111899.99352648,\n",
       "       142222.44167887, 227873.47139192, 200409.4013047 , 381276.11030828,\n",
       "       127284.86986953, 268294.0477749 , 309481.24063956, 173939.81738459,\n",
       "       230868.84786177, 126122.81697126, 183439.84588704, 312335.72155063,\n",
       "       125108.14341712,  94674.99995894, 174421.21987458, 160474.97730356,\n",
       "       117654.53818733, 291937.29962343, 131083.1165803 , 175716.2076421 ,\n",
       "        98618.48588643,  96951.35579311, 208580.36852312, 154396.61010987,\n",
       "       195488.23903581, 159603.97682962, 143463.3100083 , 100778.13577383,\n",
       "       175205.70957585, 114416.01633376,  63664.1298149 , 396744.05907967,\n",
       "       373638.9918433 ,  95648.39567496, 165388.10724766, 243937.67365906,\n",
       "       136425.19045435, 346160.36590811, 136241.24152412, 204112.73731946,\n",
       "       184392.54671761, 205214.42475362, 275741.24897254, 199554.75152903,\n",
       "       230327.44898204, 223341.30511238, 187365.83111364, 405740.85911783,\n",
       "       138859.08897377, 121046.6028668 , 222227.49495196, 170400.81489125,\n",
       "       271467.29281534, 161947.0883504 , 210074.83921829, 191480.54706938,\n",
       "       221305.03947366, 228939.51261351, 239392.21119977, 119182.94702971,\n",
       "       162580.56601813, 214062.30722256, 359985.94713514, 301480.79202161,\n",
       "       270830.90122085, 176049.61089193,  72308.75005602, 117040.19235575,\n",
       "       263354.20413142, 129387.59785983, 192863.07221485, 208216.97248522,\n",
       "       178176.69172538, 134038.1924923 , 171900.75998945, 196011.96255558,\n",
       "       185747.24229828, 142568.95278556, 190484.61605955, 168287.73694852,\n",
       "       258578.5050521 , 157173.65454434, 223583.05817944, 327801.61797528,\n",
       "       197247.63304826, 325936.00375266, 200969.88385261, 137869.47794038,\n",
       "       172928.48593454, 107232.48789279, 211597.10336054, 120653.4632835 ,\n",
       "       160212.21982217, 178743.55091087, 240616.59794446, 213840.61295914,\n",
       "       299291.29949422, 118444.44823969, 116312.60240986, 161288.72842065,\n",
       "       124537.73832968, 184143.70992932, 155869.69913072, 155481.405847  ,\n",
       "       101947.50898355, 228325.76461915, 226894.06711973, 234890.04129671,\n",
       "       150033.75370188, 164534.39365829, 129705.03903954, 168569.78515874,\n",
       "        97998.01919226, 217730.40122272, 235104.57581162, 240676.56648446,\n",
       "       179388.12088807, 209023.49390401,  95928.55260418, 148874.11133217,\n",
       "       210472.01504183,  98207.29142633, 112512.77729541, 168952.84264045,\n",
       "        88274.15754628, 296040.47732001, 190087.17860972,  62045.93450807,\n",
       "       295519.55294162, 144476.64654286, 241215.81097691, 222340.10878285,\n",
       "       172932.9936036 ,  80519.77659959, 227673.7139311 , 199018.41096854,\n",
       "       204313.93189002, 121814.07183872, 286517.99026141, 190782.11614753,\n",
       "       188165.42865325, 154423.55595211, 130156.47172096, 179777.02291692,\n",
       "       166206.10826504, 204728.48494551, 199096.64497044, 410732.51630315,\n",
       "        62731.54691352, 154409.57129634, 139766.33655419, 125871.94455634,\n",
       "       265724.200399  , 230012.7023666 , 192943.52886995, 251082.69924811,\n",
       "       148116.77271583, 196672.33850518, 187575.11705854, 111860.4758429 ,\n",
       "       186305.09227534, 113672.66029183, 261690.50100417, 177690.78443498,\n",
       "       157115.3932755 ,  75804.27988699, 177355.70835375, 164431.88479932,\n",
       "       266517.77230207, 101969.80389083, 277015.74448661, 230630.04862034,\n",
       "       254217.48405886, 153721.41401006,  83101.90469188, 226377.1003013 ,\n",
       "       126710.96505233, 222229.14675323, 232854.88093136, 137055.50921006,\n",
       "       158503.35994489, 108480.48439982, 156512.43553166, 220208.93969779,\n",
       "       112829.63174301, 160570.98630478, 140334.97442435, 133715.3263068 ,\n",
       "       132622.13484607, 123726.70973237, 147125.8145281 , 230527.84072374,\n",
       "       237824.39879837, 157501.79252184, 329856.38918895, 121295.79852051,\n",
       "       232876.62866424,  87588.79422303,  78896.14673489, 165233.63311778,\n",
       "       246543.28591526, 106142.66727986, 180751.99211331, 132408.23583464,\n",
       "       157961.95851707, 165961.8771656 , 222195.86106086, 262061.50048561,\n",
       "       202635.74568895,  70575.01903831, 132004.47606977, 219851.71551365,\n",
       "        79544.67171016, 297212.85765873, 149123.81620827, 222143.56447509,\n",
       "       175606.19633182, 138714.87616169, 195888.82891049,  94246.77223372,\n",
       "       145499.96048935, 286064.2320252 ,  71186.00111608, 224184.98679386,\n",
       "       212002.64438468, 162044.0302267 , 204670.04197078, 158301.97324266,\n",
       "       130306.44012173, 241730.85122589, 183403.10945743, 148389.68516119,\n",
       "       106714.57549552, 161191.18367263, 117794.66185756, 274166.40683929,\n",
       "       268318.3150714 , 100851.50561237, 128903.76281076, 181853.42472626,\n",
       "       250365.46452372, 117857.66514027, 126016.20643302, 186252.21223594,\n",
       "       160764.44391049, 793694.02655827, 164211.81458242, 123359.04107079,\n",
       "       202141.26506854,  70914.47940037, 171170.16692522, 166963.39825321,\n",
       "       156626.88338634,  98620.36972822, 365041.59331385, 239728.13716866,\n",
       "       114723.23674912, 333307.89257804, 124097.10934898, 121699.22693754,\n",
       "       157537.04324434, 201334.80719886, 302868.29799304, 141661.68720257,\n",
       "       195330.34981038, 287715.31959724, 138777.81191377, 196881.4209883 ,\n",
       "       103790.85105419, 232044.05755514, 151658.54112017, 111896.34957871,\n",
       "       221416.55797919, 203042.23105999, 106846.61401254, 203043.84230137,\n",
       "       121863.37372375, 172319.92370142, 206399.13761097,  71242.17846932,\n",
       "       127350.54262646])"
      ]
     },
     "execution_count": 30,
     "metadata": {},
     "output_type": "execute_result"
    }
   ],
   "source": [
    "#Comparing the predictions from the tts with X_test_filled\n",
    "y_pred = linreg.predict(X_test_filled)\n",
    "y_pred"
   ]
  },
  {
   "cell_type": "code",
   "execution_count": 31,
   "metadata": {},
   "outputs": [
    {
     "data": {
      "text/plain": [
       "array([134664.5724718 , 156568.32755205, 178060.25720051, 121678.17734113,\n",
       "       174320.78641532,  98671.98263077, 120431.32969544, 130955.25382349,\n",
       "       203754.51472013, 187607.86727458, 178450.38887111, 116449.52551485,\n",
       "       161996.19038233, 288488.76983923, 169840.48471123, 131403.91177554,\n",
       "       158390.80020444, 128617.94201419, 245115.21420569, 157306.37887199,\n",
       "       116183.70882557, 139862.70784017, 220877.35300152, 170781.87065913,\n",
       "       143880.22191936,  98824.76517401, 178253.3075244 , 152171.84621497,\n",
       "       142924.77007444,  48516.03566188, 136430.18381197, 118427.21834858,\n",
       "       269743.55369178, 164257.00545355, 197785.21967756, 159400.37404364,\n",
       "       135456.94897609, 110465.6436705 , 101909.38631665, 188447.17290207,\n",
       "       158348.64485043, 186438.8449163 , 169911.80143577, 173922.20304501,\n",
       "       234667.53289055,  92557.75005723, 217604.95301008, 121880.34201151,\n",
       "       111107.21639013, 126191.75506399, 124583.40435666, 270412.45585979,\n",
       "       234233.03761081, 132100.99375558, 111154.2065134 , 128534.35264885,\n",
       "       178387.10386857, 181784.11972371, 176478.98270408, 252640.86479675,\n",
       "       341944.53035749, 158641.99538724, 121989.30591166, 162622.92253165,\n",
       "       187453.84362355, 284215.00166061,  75707.14834873, 213990.93416016,\n",
       "        64554.64162692, 140289.38076575, 115143.08559751, 295462.96944754,\n",
       "       196574.70454456, 162553.05608442, 120175.29885999, 203869.64918478,\n",
       "       181778.4555115 , 137707.56890715,  84606.55645814, 300746.42901995,\n",
       "       190654.55790482, 146988.67167402, 127975.93712101, 173554.59726721,\n",
       "       197474.37310145, 318995.50947202, 113657.84061353, 198030.37948298,\n",
       "       237311.8965284 , 134569.54929829, 112076.42852979, 142058.32658171,\n",
       "       106647.70041783, 196708.79270939, 135467.2491117 , 143284.31308191,\n",
       "       181188.3699026 , 221181.57705622, 207738.92496292, 203038.72153066,\n",
       "       281851.49658153, 222354.02338634, 113623.50400523, 370837.97360299,\n",
       "       148974.03776843,  82027.81329094, 179101.1970208 , 270538.88145053,\n",
       "       174124.08430852, 137134.09209795, 197625.09119392, 212360.0470619 ,\n",
       "       192246.51262279,  89041.32507139, 240780.207199  , 446290.53092174,\n",
       "       155717.97000558, 143432.49116542, 277343.37489994, 203785.45517517,\n",
       "       359309.89910993, 239082.9068744 , 263078.10313209, 163331.75610769,\n",
       "       140151.13675347, 332344.37452289,  92883.12383988, 124897.49338539,\n",
       "       108120.86183675, 237171.3577909 , 145568.7498937 , 207695.30916487,\n",
       "       138002.88588225, 157876.06254097, 182055.79447075, 190993.7715914 ,\n",
       "       184376.29500759, 138606.47492645, 209196.29905103, 113150.68049481,\n",
       "       196888.5101294 , 123022.803804  , 120960.22553662, 165000.47734015,\n",
       "        68284.68209458, 134779.113906  , 202385.94401002, 130110.27521111,\n",
       "        64579.25862503, 216308.20933692, 193323.63545138, 170265.65115086,\n",
       "        77576.98841715, 113068.72810877,  90677.21872442, 130515.67112918,\n",
       "        66405.87777338, 130240.80839277, 239065.76291341, 267934.69003414,\n",
       "       220932.85237021, 111893.42295586, 122764.27702447, 420293.29666929,\n",
       "       203850.125908  , 220910.63169815, 156768.17439781, 161539.11196536,\n",
       "       263455.01907882, 180944.53153373, 482716.27971472, 133328.47129096,\n",
       "       226351.29055231, 145176.55899578, 203019.51193603, 185011.55717993,\n",
       "        70836.40621996, 166072.46948148,  97564.77404737, 146062.31206003,\n",
       "       121379.79202096, 216154.30935165, 250712.02582391, 164013.93874877,\n",
       "       170895.46735646, 125831.33502559, 179367.15613129, 198352.27070948,\n",
       "       105830.44111398, 123321.87491845, 177806.23151277, 130561.90191243,\n",
       "        97510.8099426 ,  95348.30216361, 158820.17934801, 137533.35999921,\n",
       "       258835.04392907, 169619.54996296, 150825.41013865, 152077.70928089,\n",
       "       294342.36896944, 197115.86242576, 121468.57261819, 202365.79794962,\n",
       "       129226.22972534, 124210.45879445, 165252.49316893, 116545.405415  ,\n",
       "       189475.69416249, 208601.33282974, 216644.01422418, 205400.43984891,\n",
       "       116622.28769418, 301265.2628091 , 241745.99644906, 204966.08169864,\n",
       "       240063.43915839, 113528.04023942, 108340.50958363, 117062.22177838,\n",
       "       176129.08545907, 126401.92199344, 171905.26397085, 164712.11458185,\n",
       "       110231.01927092, 117168.76955707, 249408.9276296 , 222163.57051925,\n",
       "       173698.75515732, 283732.38801244, 170635.69750501,  65522.09815198,\n",
       "       164104.38350384, 106417.50834075, 266354.61826802, 183197.335632  ,\n",
       "        88188.65298368, 367582.25824848, 363033.21196276, 183461.43583057,\n",
       "       224780.17974097, 171766.47423177, 250897.52657483, 242803.38179623,\n",
       "       266414.91025005, 239267.70185988, 131488.94914318, 128387.5310637 ,\n",
       "       196911.62544832, 253821.57259025, 261906.24686996, 167186.51322953,\n",
       "       233129.95528214, 219155.98869608, 214959.23319067, 108801.21253707,\n",
       "        78331.49489694, 338200.53770391, 226781.46516759, 260428.14877293,\n",
       "       157510.11621523, 131969.57437301, 115135.27021058, 138098.00893142,\n",
       "       206495.21831884, 161326.00287601, 162080.62408122, 210002.11665504,\n",
       "       174212.74296879, 151948.49233586, 207635.5185896 , 183680.73597877,\n",
       "       166300.32606199, 415032.15075853, 131895.4816867 , 159327.76402853,\n",
       "       138977.00808398, 204140.93466986, 112310.14641385, 146033.21754959,\n",
       "       220203.66007581, 151657.29773267,  76402.78310763, 104099.33457502,\n",
       "       132715.91798839, 221520.51082956, 234730.12626023, 101883.03690986,\n",
       "        92671.50685922, 159543.88543165,  86408.79569899, 131136.46753396,\n",
       "        90077.07262184,  89440.82440451, 201911.91853845, 140289.38076575,\n",
       "       188370.80368147, 263016.29368857, 214159.06653476, 151646.49258949,\n",
       "       156869.80670539, 282026.98402291, 131080.27679615, 211241.1815468 ,\n",
       "        72013.86884835,  81762.62567955, 282501.96982494, 196749.72722345,\n",
       "       125554.35599963, 121797.53159789, 241348.45047438, 208476.23923393,\n",
       "       240638.86654   , 243867.90779955, 148407.55965966, 301046.19099765,\n",
       "       295177.34139104, 231528.62052972, 220615.09562101, 121865.87359033,\n",
       "        69286.48456049, 126240.00535804, 179789.49041899, 223779.61420387,\n",
       "       151340.40051089, 167533.01476632, 204807.83175915, 160650.7843864 ,\n",
       "       173469.7498149 , 154057.02571652, 160640.62391981, 194723.57013704,\n",
       "       137641.04115237, 194890.64286425, 121701.80163616, 146400.22621602,\n",
       "        87413.74315625, 142076.49525217, 124441.6810094 , 140107.8537247 ,\n",
       "       249385.33606596, 103142.65700253, 111588.70476862, 199917.30515352,\n",
       "       283558.75888473, 229100.34203954, 192903.42770941,  93213.59618271,\n",
       "       182934.42995404, 153253.86291923, 127606.52939883, 138927.77289248,\n",
       "       110737.0682732 , 248091.54142609, 179410.60146552, 297469.33558107,\n",
       "       146624.32157962, 211310.52057777, 247693.02768243, 134182.87043802,\n",
       "       147257.90786247, 201676.92320543,  97171.82211919, 184136.48399084,\n",
       "       159576.57453628, 265385.38517968, 252152.37522466, 251381.4241022 ,\n",
       "       217840.53704526, 118604.32799038, 204027.6277127 , 121869.09707001,\n",
       "       180637.82915195, 343097.02667747,  88831.28786511, 237377.13355756,\n",
       "       121639.7220979 , 257374.90139018, 222235.20763486, 150876.30310021,\n",
       "       155758.56847175,  99852.6034107 , 287623.37713076, 263314.52818579,\n",
       "       213046.1153107 , 226168.82499879, 237239.09292516, 156984.11331255,\n",
       "       143035.59189498, 128947.90302474, 101061.80297979, 272845.48138793,\n",
       "       174403.40557799, 177385.28356322, 179901.10777089,  65807.92152846,\n",
       "       165362.19828475, 186179.82537227, 140792.46535838, 178582.28858271,\n",
       "       202617.94316093, 258010.28513822, 113401.13010899, 248718.34682391,\n",
       "       187616.33978978, 115257.49545763, 165670.2044483 , 225928.12727047,\n",
       "       246850.76178006, 174605.92691996, 159527.32035904, 168517.88532132,\n",
       "       283560.1760598 , 186779.74339606, 262111.19306693, 299647.22385587,\n",
       "       122116.03260089, 299041.23189479, 139185.1134269 , 223670.86167436,\n",
       "       306763.00617987, 107909.23945825, 373676.5610866 , 105118.85570143,\n",
       "       232231.31528983, 321412.28518831, 192525.03175558, 211324.90172696,\n",
       "       157635.2100329 , 259553.43958982, 164163.18761191, 117864.62427711,\n",
       "       128367.25047251, 178962.1923985 , 122717.95830386, 291053.25104605,\n",
       "       187972.39750359, 195701.11188451, 141572.30560341, 174178.69893067,\n",
       "       210320.88477823, 164414.27192763,  92421.40879608, 166711.73485269,\n",
       "       172343.0243184 , 225128.81538155, 117702.59429243,  85594.08691145,\n",
       "       308127.6630604 , 129066.8694865 , 175995.57329043, 275942.96273907,\n",
       "       210497.52203971, 155241.32604397, 181375.88561574, 214575.33499515,\n",
       "       214281.98306488, 125259.45128035, 231181.88065643, 118844.41171074,\n",
       "       145925.22574965, 128563.70896541, 146879.44935825, 518803.37298542,\n",
       "       147456.58297189, 189797.97633849, 223177.07365813, 239211.07433224,\n",
       "       107371.24304598, 107723.06695116, 142233.89719011, 234584.59777549,\n",
       "       177761.20538069,  88625.50167573, 266102.20230275, 201711.50778322,\n",
       "       128393.75446911, 180891.36519075, 124874.93399353, 163734.17447129,\n",
       "        84921.2699165 , 229816.04950305,  75029.06282836, 175516.49588292,\n",
       "       319812.35769104, 154190.37040154, 139065.0045158 , 181348.38564609,\n",
       "       206204.18467   , 145299.53517814, 181748.6950088 , 223247.28126135,\n",
       "       215784.90420902, 252620.61481367, 304256.3234473 , 186293.1820135 ,\n",
       "       138453.47835569, 113550.15061638, 228959.55045247, 146141.56841061,\n",
       "       158239.80537081, 253987.62526493, 181954.49543901, 181095.48523134,\n",
       "       270396.85307261, 104966.85500149, 287450.82759606,  96701.40071651,\n",
       "       115575.66360582, 260228.77084699, 179213.97542356, 141663.22075964,\n",
       "       136706.98611094, 125234.72165063,  62544.54019533, 190990.68679924,\n",
       "       175467.08675998, 181568.08080643, 235696.92980485, 240794.51447237,\n",
       "       106446.26166234, 165505.09315369, 178572.68172698, 137849.3016922 ,\n",
       "       242638.41101203, 378244.75577146, 169993.28621892,  98711.31975886,\n",
       "       125023.59492602,  43703.13735224, 115301.91902764, 172676.86271068,\n",
       "       173014.57677993, 182355.28370491, 179360.57567192, 140996.10488125,\n",
       "        66539.66359978, 244899.67960379, 153303.56437263, 187806.75170497,\n",
       "       129138.05176538,  81676.35004412,  97409.44783111, 120383.05773856,\n",
       "       235182.97229001, 303684.73669815, 264940.52305153,  97499.80548315,\n",
       "        93190.6336496 , 265358.27608101, 146007.83023835, 234826.55093339,\n",
       "        91623.29151245, 249878.83810954, 185800.92981249,  58912.5549935 ,\n",
       "       141667.81834708, 178413.20193975, 122960.91212947, 167785.2357396 ,\n",
       "       102697.59792846, 167825.27421557, 168869.58665686, 152313.84428979,\n",
       "       167292.00869302, 103114.64537244,  85039.65889784, 230216.54473205,\n",
       "       111391.65986791,  97924.87090241, 195032.06033934,  92368.53198971,\n",
       "        95652.29942433, 156926.30197153, 207768.77117398, 101589.20509103,\n",
       "       185975.6486307 , 139513.48866709, 313383.08660028, 132330.56809956,\n",
       "       236229.30781581, 145325.8062173 , 278394.96626379, 125867.56721575,\n",
       "       137089.2740985 , 154926.61842754, 167252.70914983, 160921.63064903,\n",
       "       269845.14338466, 226476.09245708, 130436.28916289,  90069.67343307,\n",
       "       141918.92563232, 142362.00583281, 301767.32668773, 272666.39685289,\n",
       "       116110.2776722 , 157360.62505955, 114280.97369213, 278418.65040273,\n",
       "       128184.42698409, 216231.96559943, 117658.72097648, 208929.90754114,\n",
       "       247680.84959871,  80103.75498508, 132663.73701987, 145354.33472214,\n",
       "       158503.02039699, 133175.40010095,  79175.30582252, 381092.70230609,\n",
       "       227908.56535494, 146348.62505323, 173504.55199786,  76977.19233935,\n",
       "       166048.0465129 , 275351.9088921 ,  70660.06689353, 165780.77652099,\n",
       "       207958.32908184, 118966.91669651, 170310.37665398, 112626.14729543,\n",
       "       112384.87934935, 187712.40355816, 169738.79190898, 119164.20332288,\n",
       "       386795.80240506,  86806.29274498, 161237.34395468, 245854.93416071,\n",
       "       100527.97425334,  93599.45339833, 153567.80893118, 189538.12602518,\n",
       "       179163.44185826, 193117.37454134, 140695.69630081, 193720.92108715,\n",
       "       282870.774673  , 134094.8233888 , 241895.91648455, 216569.39040051,\n",
       "       152865.52860161,  74471.52010392, 250261.09415944, 175529.61602932,\n",
       "       149295.70309143, 186996.38458759, 147902.2784805 , 106729.74355348,\n",
       "       113228.58349358, 138004.47699207,  79746.47681319, 188544.55605894,\n",
       "       187079.9924879 , 146508.87091094, 264415.56892112, 206117.20010343,\n",
       "       162678.96057071, 145333.09591529, 188718.41974182, 274026.16548306,\n",
       "       356986.304366  , 240799.97307628, 284766.64612013, 152158.15905902,\n",
       "       178346.21807151, 318979.17630011, 187724.23355538, 316833.72850791,\n",
       "       224609.73523343, 180093.43598164,  81433.58079087, 131565.97830632,\n",
       "       163369.24570339, 103028.49172602, 140499.99442711, 114300.48244529,\n",
       "       335426.39414769, 215752.76024228, 191623.7141669 , 227449.66924746,\n",
       "       213912.16614305, 153753.48165861, 251432.04589644, 309231.36652832,\n",
       "       133752.11448777, 218191.74869958,  94105.3212828 , 100346.82501759,\n",
       "       227418.44448748, 112099.33099373, 200897.07105904, 182426.23080544,\n",
       "       202880.36233231, 294541.74394282,  96480.66350912, 218106.17212445,\n",
       "       139267.35026712, 172096.77620765, 146546.28058858, 152020.95545449,\n",
       "       336633.35400446, 284750.59923596, 142338.66083922, 149527.57210931,\n",
       "       141602.11728259, 235955.64941053, 228255.90543827,  29351.27383296,\n",
       "       147397.65864846, 115744.20180342, 121010.68410283, 248289.488849  ,\n",
       "       293847.01532397, 211459.37557393, 196987.18292182, 247245.10477604,\n",
       "       211435.8149948 , 229081.09858228, 142493.62396545, 139744.62729445,\n",
       "       271173.79313268, 210607.55477164, 211216.80125094, 115507.34006693,\n",
       "       245329.83788559, 100894.68925435, 204092.40891155, 191711.55380627,\n",
       "       226868.13488231, 156105.77828124, 268348.11159161, 182728.63289338,\n",
       "       193080.19080272, 161491.70839973, 125158.95430547, 147468.22344486,\n",
       "       221875.43314543, 212694.13021777, 158820.41988722, 124100.27428401,\n",
       "       171332.70290913, 202715.47366555, 197703.60309755, 275746.48970415,\n",
       "       115248.57217349, 337817.77224339, 250821.5091831 , 157818.33797381,\n",
       "       171096.72625881, 193067.80614119, 150488.42140196,  88785.07007674,\n",
       "       389786.82819672,  95750.65970921, 177226.07231812, 187385.39759026,\n",
       "       136351.29225156, 226227.318576  , 166908.54596715, 252108.85854344,\n",
       "       188073.0327294 , 297683.98627097, 183593.51920719, 198313.81909089,\n",
       "       283310.79060901, 150118.07205775, 243329.20353965, 197280.23634922,\n",
       "       113786.18600697, 269610.03319348, 119361.39187693, 134711.72162569,\n",
       "       191680.09757251, 120797.56503586, 163199.17847174, 148626.2185432 ,\n",
       "       188108.98062491, 314088.87385069,  91502.31565797, 117423.95087992,\n",
       "       120260.48423848, 185295.20265583, 239434.16793868, 127446.06781727,\n",
       "       299359.42305218, 227262.33622504, 183161.25141901, 266725.42132607,\n",
       "       200004.32719214, 264183.57086626, 218872.05009353, 204647.72767202,\n",
       "       161656.45166728, 200943.65100846, 254540.72716462, 222342.6634423 ,\n",
       "       146755.81045359, 106281.18796079, 155262.54298749, 127644.7334251 ,\n",
       "       268145.87918611, 125418.65708108, 110352.67701001, 156872.49532396,\n",
       "       142015.38516629, 125355.55653193, 142015.22959192, 287253.53541385,\n",
       "       172278.15717154, 124106.25247685, 214723.86096298, 177957.7539684 ,\n",
       "       239183.71226445, 112977.35722731, 122286.75665707, 165582.72997177,\n",
       "       203895.63681908,  98443.36052695, 316172.33575369, 152124.42105504,\n",
       "       172533.63959316, 218639.8143126 , 391827.99498829, 128896.86672258,\n",
       "       181409.94607744, 158852.47402407, 157725.24624636, 153566.42615725,\n",
       "       269393.87917324, 189240.9204906 , 139760.44198403, 107820.04535196,\n",
       "       289644.34021648, 130007.56305137, 109796.16054126, 127715.74776983,\n",
       "       229740.79845396, 204133.41882493, 230405.69417994, 147003.36245664,\n",
       "       169052.70391287, 174797.33718738, 302449.24384879, 239629.31492153,\n",
       "       117388.17999609, 205983.07512248, 188985.1935361 , 175629.56042604,\n",
       "       110742.7498525 , 157379.41311688, 173899.03548185, 115176.45398242,\n",
       "       212017.59561577,  97589.64420944, 186617.86121811,  73494.7659445 ,\n",
       "       294677.40167021, 123694.03363828, 152295.6368061 , 168720.01716485,\n",
       "       124481.392137  , 191518.79868024, 193190.08987705, 259799.4186754 ,\n",
       "       244754.02015471, 206083.74336757, 244037.87535749, 280506.49001352,\n",
       "       210042.89708625, 219383.27565327, 218662.15115334, 128729.21165386,\n",
       "       120177.14373027, 122030.949322  ])"
      ]
     },
     "execution_count": 31,
     "metadata": {},
     "output_type": "execute_result"
    }
   ],
   "source": [
    "#Getting the predictions on the real testing data without the split using the given features I picked\n",
    "\n",
    "linreg_preds =linreg.predict(testing[['Lot Area', 'BsmtFin SF 1' , '1st Flr SF', '2nd Flr SF', 'Full Bath', 'Garage Area', 'Bedroom AbvGr', 'Kitchen AbvGr', 'Wood Deck SF', \n",
    "'Open Porch SF', 'Pool Area']])\n",
    "linreg_preds"
   ]
  },
  {
   "cell_type": "code",
   "execution_count": 32,
   "metadata": {},
   "outputs": [
    {
     "data": {
      "text/plain": [
       "(878,)"
      ]
     },
     "execution_count": 32,
     "metadata": {},
     "output_type": "execute_result"
    }
   ],
   "source": [
    "linreg_preds.shape"
   ]
  },
  {
   "cell_type": "code",
   "execution_count": 33,
   "metadata": {},
   "outputs": [
    {
     "data": {
      "text/plain": [
       "(513,)"
      ]
     },
     "execution_count": 33,
     "metadata": {},
     "output_type": "execute_result"
    }
   ],
   "source": [
    "y_pred.shape"
   ]
  },
  {
   "cell_type": "code",
   "execution_count": 34,
   "metadata": {},
   "outputs": [
    {
     "data": {
      "text/plain": [
       "(513,)"
      ]
     },
     "execution_count": 34,
     "metadata": {},
     "output_type": "execute_result"
    }
   ],
   "source": [
    "y_test.shape"
   ]
  },
  {
   "cell_type": "code",
   "execution_count": 35,
   "metadata": {},
   "outputs": [
    {
     "data": {
      "text/plain": [
       "47215.32342538987"
      ]
     },
     "execution_count": 35,
     "metadata": {},
     "output_type": "execute_result"
    }
   ],
   "source": [
    "#Using the RMSE as a metric for my models\n",
    "mean_squared_error(y_test, y_pred, squared=False)"
   ]
  },
  {
   "cell_type": "markdown",
   "metadata": {},
   "source": [
    "**Evaluation:**\n",
    "Using the root mean squared error (RMSE) to be a metric to determine the use of my model. The RMSE that is stated above, shows we are off the sale price by $47,215 which is an increase from the baseline model but still not good enough for predicting sale price. "
   ]
  },
  {
   "cell_type": "code",
   "execution_count": 36,
   "metadata": {},
   "outputs": [
    {
     "data": {
      "text/plain": [
       "0.739776379285742"
      ]
     },
     "execution_count": 36,
     "metadata": {},
     "output_type": "execute_result"
    }
   ],
   "source": [
    "linreg.score(X_train_filled, y_train)"
   ]
  },
  {
   "cell_type": "code",
   "execution_count": 37,
   "metadata": {},
   "outputs": [
    {
     "name": "stderr",
     "output_type": "stream",
     "text": [
      "/opt/anaconda3/lib/python3.9/site-packages/sklearn/base.py:450: UserWarning: X does not have valid feature names, but LinearRegression was fitted with feature names\n",
      "  warnings.warn(\n"
     ]
    },
    {
     "data": {
      "text/plain": [
       "0.6353729994103701"
      ]
     },
     "execution_count": 37,
     "metadata": {},
     "output_type": "execute_result"
    }
   ],
   "source": [
    "linreg.score(X_test_filled, y_test)"
   ]
  },
  {
   "cell_type": "code",
   "execution_count": 38,
   "metadata": {},
   "outputs": [
    {
     "data": {
      "text/plain": [
       "array([0.78032195, 0.75065903, 0.75090916, 0.80500419, 0.53760544])"
      ]
     },
     "execution_count": 38,
     "metadata": {},
     "output_type": "execute_result"
    }
   ],
   "source": [
    "cross_val_score(linreg, X_train_filled, y_train)"
   ]
  },
  {
   "cell_type": "code",
   "execution_count": 39,
   "metadata": {},
   "outputs": [
    {
     "data": {
      "text/plain": [
       "array([ 0.63793996,  0.61861182,  0.77719818,  0.73771998, -0.03136653])"
      ]
     },
     "execution_count": 39,
     "metadata": {},
     "output_type": "execute_result"
    }
   ],
   "source": [
    "cross_val_score(linreg, X_test, y_test)"
   ]
  },
  {
   "cell_type": "markdown",
   "metadata": {},
   "source": [
    "**Evaluation**\n",
    "Just checking out the score values on the training and testing set. The score values in conjuction with the cross_val_score is the R^2. Learning that the higher the R^2 score, the higher the variation within the model of testing and training sets. By comparing, the range of our R^2 models with cross validation (splitting in 5 folds) is 0.63 - 0.78.\n"
   ]
  },
  {
   "cell_type": "code",
   "execution_count": 40,
   "metadata": {},
   "outputs": [],
   "source": [
    "#Make it equal to the testing 'SalePrice' column\n",
    "\n",
    "testing['SalePrice'] =linreg_preds"
   ]
  },
  {
   "cell_type": "code",
   "execution_count": 41,
   "metadata": {},
   "outputs": [
    {
     "data": {
      "text/html": [
       "<div>\n",
       "<style scoped>\n",
       "    .dataframe tbody tr th:only-of-type {\n",
       "        vertical-align: middle;\n",
       "    }\n",
       "\n",
       "    .dataframe tbody tr th {\n",
       "        vertical-align: top;\n",
       "    }\n",
       "\n",
       "    .dataframe thead th {\n",
       "        text-align: right;\n",
       "    }\n",
       "</style>\n",
       "<table border=\"1\" class=\"dataframe\">\n",
       "  <thead>\n",
       "    <tr style=\"text-align: right;\">\n",
       "      <th></th>\n",
       "      <th>Id</th>\n",
       "      <th>SalePrice</th>\n",
       "    </tr>\n",
       "  </thead>\n",
       "  <tbody>\n",
       "    <tr>\n",
       "      <th>0</th>\n",
       "      <td>2658</td>\n",
       "      <td>134664.572472</td>\n",
       "    </tr>\n",
       "    <tr>\n",
       "      <th>1</th>\n",
       "      <td>2718</td>\n",
       "      <td>156568.327552</td>\n",
       "    </tr>\n",
       "    <tr>\n",
       "      <th>2</th>\n",
       "      <td>2414</td>\n",
       "      <td>178060.257201</td>\n",
       "    </tr>\n",
       "    <tr>\n",
       "      <th>3</th>\n",
       "      <td>1989</td>\n",
       "      <td>121678.177341</td>\n",
       "    </tr>\n",
       "    <tr>\n",
       "      <th>4</th>\n",
       "      <td>625</td>\n",
       "      <td>174320.786415</td>\n",
       "    </tr>\n",
       "    <tr>\n",
       "      <th>...</th>\n",
       "      <td>...</td>\n",
       "      <td>...</td>\n",
       "    </tr>\n",
       "    <tr>\n",
       "      <th>873</th>\n",
       "      <td>1662</td>\n",
       "      <td>219383.275653</td>\n",
       "    </tr>\n",
       "    <tr>\n",
       "      <th>874</th>\n",
       "      <td>1234</td>\n",
       "      <td>218662.151153</td>\n",
       "    </tr>\n",
       "    <tr>\n",
       "      <th>875</th>\n",
       "      <td>1373</td>\n",
       "      <td>128729.211654</td>\n",
       "    </tr>\n",
       "    <tr>\n",
       "      <th>876</th>\n",
       "      <td>1672</td>\n",
       "      <td>120177.143730</td>\n",
       "    </tr>\n",
       "    <tr>\n",
       "      <th>877</th>\n",
       "      <td>1939</td>\n",
       "      <td>122030.949322</td>\n",
       "    </tr>\n",
       "  </tbody>\n",
       "</table>\n",
       "<p>878 rows × 2 columns</p>\n",
       "</div>"
      ],
      "text/plain": [
       "       Id      SalePrice\n",
       "0    2658  134664.572472\n",
       "1    2718  156568.327552\n",
       "2    2414  178060.257201\n",
       "3    1989  121678.177341\n",
       "4     625  174320.786415\n",
       "..    ...            ...\n",
       "873  1662  219383.275653\n",
       "874  1234  218662.151153\n",
       "875  1373  128729.211654\n",
       "876  1672  120177.143730\n",
       "877  1939  122030.949322\n",
       "\n",
       "[878 rows x 2 columns]"
      ]
     },
     "execution_count": 41,
     "metadata": {},
     "output_type": "execute_result"
    }
   ],
   "source": [
    "#Check if columns are good for submission for Kaggle\n",
    "\n",
    "testing[['Id', 'SalePrice']]"
   ]
  },
  {
   "cell_type": "code",
   "execution_count": 42,
   "metadata": {},
   "outputs": [
    {
     "data": {
      "image/png": "[encoded data removed]",
      "text/plain": [
       "<Figure size 864x576 with 1 Axes>"
      ]
     },
     "metadata": {
      "needs_background": "light"
     },
     "output_type": "display_data"
    }
   ],
   "source": [
    "plt.figure(figsize = (12, 8))   \n",
    "\n",
    "plt.hist(testing['SalePrice'], color ='pink', bins=18, ec = 'black');\n",
    "\n",
    "plt.title(' Linear Regression SalePrice Predictions');\n",
    "plt.xlabel('SalePrice')\n",
    "plt.ylabel('Count');\n",
    "\n",
    "#Showing a slight normal distribution of the Sale Price"
   ]
  },
  {
   "cell_type": "code",
   "execution_count": 43,
   "metadata": {},
   "outputs": [],
   "source": [
    "#Submit to Kaggle\n",
    "\n",
    "testing[['Id', 'SalePrice']].to_csv('Basic_LR_12F.csv', index=False)"
   ]
  }
 ],
 "metadata": {
  "interpreter": {
   "hash": "40d3a090f54c6569ab1632332b64b2c03c39dcf918b08424e98f38b5ae0af88f"
  },
  "kernelspec": {
   "display_name": "Python 3.9.7 64-bit ('base': conda)",
   "language": "python",
   "name": "python3"
  },
  "language_info": {
   "codemirror_mode": {
    "name": "ipython",
    "version": 3
   },
   "file_extension": ".py",
   "mimetype": "text/x-python",
   "name": "python",
   "nbconvert_exporter": "python",
   "pygments_lexer": "ipython3",
   "version": "3.9.7"
  },
  "orig_nbformat": 4
 },
 "nbformat": 4,
 "nbformat_minor": 2
}
